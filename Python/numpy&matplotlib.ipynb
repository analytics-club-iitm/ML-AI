{
  "nbformat": 4,
  "nbformat_minor": 0,
  "metadata": {
    "kernelspec": {
      "name": "Python 2.7.17 64-bit",
      "display_name": "Python 2.7.17 64-bit",
      "metadata": {
        "interpreter": {
          "hash": "767d51c1340bd893661ea55ea3124f6de3c7a262a8b4abca0554b478b1e2ff90"
        }
      }
    },
    "language_info": {
      "codemirror_mode": {
        "name": "ipython",
        "version": 3
      },
      "file_extension": ".py",
      "mimetype": "text/x-python",
      "name": "python",
      "nbconvert_exporter": "python",
      "pygments_lexer": "ipython3",
      "version": "2.7.17-final"
    },
    "colab": {
      "name": "numpy&matplotlib.ipynb",
      "provenance": [],
      "toc_visible": true
    }
  },
  "cells": [
    {
      "cell_type": "markdown",
      "metadata": {
        "id": "_o_h0mrxtPqC"
      },
      "source": [
        "# Common Python Libraries"
      ]
    },
    {
      "cell_type": "markdown",
      "metadata": {
        "id": "NLssLJ_ZtPqF"
      },
      "source": [
        "In this notebook we will be going through some essential python libraries, namely **Numpy** and **Matplotlib**\n"
      ]
    },
    {
      "cell_type": "markdown",
      "metadata": {
        "id": "pTzsnGj8tPqH"
      },
      "source": [
        "## Introduction"
      ]
    },
    {
      "cell_type": "markdown",
      "metadata": {
        "id": "1YO1t_hztPqJ"
      },
      "source": [
        "Python is a great general-purpose programming language on its own.\n",
        "Its computational capabilty, usability and convenience can be greatly enhanced with the help of the addition of a few libraries(such as numpy, matplotlib, scikit, pandas etc.)\n"
      ]
    },
    {
      "cell_type": "markdown",
      "metadata": {
        "id": "GfEieiwCtPqL"
      },
      "source": [
        "In this tutorial, we will cover the basics of these essential libraries:\n",
        "\n",
        "* Numpy: Arrays, Array indexing, Datatypes, Array math, Broadcasting\n",
        "* Matplotlib: Plotting, Subplots, Images "
      ]
    },
    {
      "cell_type": "markdown",
      "metadata": {
        "id": "fUg8sTe6tPqN"
      },
      "source": [
        "## Numpy"
      ]
    },
    {
      "cell_type": "markdown",
      "metadata": {
        "id": "QqKVQX83tPqO"
      },
      "source": [
        "Numpy is the core library for scientific computing in Python. It provides a high-performance multidimensional array object, and tools for computation and manipulation of these arrays."
      ]
    },
    {
      "cell_type": "markdown",
      "metadata": {
        "id": "-9ZPTbwatPqS"
      },
      "source": [
        "To use Numpy, we first need to import the `numpy` package:"
      ]
    },
    {
      "cell_type": "code",
      "metadata": {
        "id": "fod-MYBUtPqV"
      },
      "source": [
        "import numpy as np"
      ],
      "execution_count": 3,
      "outputs": []
    },
    {
      "cell_type": "markdown",
      "metadata": {
        "id": "GKvol477tPqc"
      },
      "source": [
        "### Arrays"
      ]
    },
    {
      "cell_type": "markdown",
      "metadata": {
        "id": "UmjYm_iXtPqd"
      },
      "source": [
        "A numpy array is a grid of values, all of the same type, and is indexed by a tuple of nonnegative integers. The number of dimensions is the rank of the array; the shape of an array is a tuple of integers giving the size of the array along each dimension."
      ]
    },
    {
      "cell_type": "markdown",
      "metadata": {
        "id": "Xwfz4oUWtPqf"
      },
      "source": [
        "Numpy arrays can be initialized from nested Python lists, and elements can be accessed by using square brackets:"
      ]
    },
    {
      "cell_type": "code",
      "metadata": {
        "id": "9L0iEz_rtPqh",
        "outputId": "14a4b15f-68de-45d5-c078-34da1d1731c9"
      },
      "source": [
        "a = np.array([1, 2, 3])  # Create a rank 1 array\n",
        "print(type(a),\"\\n\", a.shape, a[0], a[1], a[2])\n",
        "a[0] = 5                 # Change an element of the array\n",
        "print(a)                  "
      ],
      "execution_count": null,
      "outputs": [
        {
          "output_type": "stream",
          "text": [
            "(<type 'numpy.ndarray'>, '\\n', (3,), 1, 2, 3)\n",
            "[5 2 3]\n"
          ],
          "name": "stdout"
        }
      ]
    },
    {
      "cell_type": "code",
      "metadata": {
        "id": "-xmmwt3ktPqn",
        "outputId": "c58e7fcb-cbf0-43d6-bde1-2762b616f116"
      },
      "source": [
        "b = np.array([[1,2,3],[4,5,6]])   # Create a rank 2 array\n",
        "print(b)"
      ],
      "execution_count": null,
      "outputs": [
        {
          "output_type": "stream",
          "text": [
            "[[1 2 3]\n",
            " [4 5 6]]\n"
          ],
          "name": "stdout"
        }
      ]
    },
    {
      "cell_type": "code",
      "metadata": {
        "id": "IAGXd9GKtPqu",
        "outputId": "be3e5327-0c4b-4fb8-f550-829d80e9bb70"
      },
      "source": [
        "print (b.shape) # Prints the shape of the array               \n",
        "print (b[0, 0], b[0, 1], b[1, 0])"
      ],
      "execution_count": null,
      "outputs": [
        {
          "output_type": "stream",
          "text": [
            "(2, 3)\n",
            "1 2 4\n"
          ],
          "name": "stdout"
        }
      ]
    },
    {
      "cell_type": "markdown",
      "metadata": {
        "id": "D_YzIgWZtPq0"
      },
      "source": [
        "**Note** : the shapes (2, ) and (2,1) are NOT the same. In both cases, only two elements are present but in the first example you only require one index to access both elements, whereas in the second case you need two sets of indices but the second would always be 0. "
      ]
    },
    {
      "cell_type": "code",
      "metadata": {
        "id": "I-0jzQ9StPq1"
      },
      "source": [
        ""
      ],
      "execution_count": null,
      "outputs": []
    },
    {
      "cell_type": "markdown",
      "metadata": {
        "id": "KY2rFpIutPq6"
      },
      "source": [
        "Numpy also provides many functions to create arrays:"
      ]
    },
    {
      "cell_type": "code",
      "metadata": {
        "id": "sV-esO1DtPq7",
        "outputId": "38b71c6e-c686-4d8f-9670-953ef41419a3"
      },
      "source": [
        "a = np.zeros((2,2))  # Create an array of all zeros\n",
        "print (a)"
      ],
      "execution_count": null,
      "outputs": [
        {
          "output_type": "stream",
          "text": [
            "[[0. 0.]\n",
            " [0. 0.]]\n"
          ],
          "name": "stdout"
        }
      ]
    },
    {
      "cell_type": "code",
      "metadata": {
        "id": "GFhxpGE6tPrA",
        "outputId": "a4496390-0fa6-44f6-b231-00ede2cedaf5"
      },
      "source": [
        "b = np.ones((1,2))   # Create an array of all ones\n",
        "print (b)"
      ],
      "execution_count": null,
      "outputs": [
        {
          "output_type": "stream",
          "text": [
            "[[1. 1.]]\n"
          ],
          "name": "stdout"
        }
      ]
    },
    {
      "cell_type": "code",
      "metadata": {
        "id": "HJVD9s5ItPrG",
        "outputId": "f2f1a892-783d-4750-d633-da0c71e88f16"
      },
      "source": [
        "c = np.full((2,2), 7) # Create a constant array\n",
        "print (c) "
      ],
      "execution_count": null,
      "outputs": [
        {
          "output_type": "stream",
          "text": [
            "[[7 7]\n",
            " [7 7]]\n"
          ],
          "name": "stdout"
        }
      ]
    },
    {
      "cell_type": "code",
      "metadata": {
        "id": "0ni6kDajtPrK",
        "outputId": "aca711d8-c983-46a1-9b7a-ccfe6afce65f"
      },
      "source": [
        "d = np.eye(2)        # Create a 2x2 identity matrix\n",
        "print (d)"
      ],
      "execution_count": null,
      "outputs": [
        {
          "output_type": "stream",
          "text": [
            "[[1. 0.]\n",
            " [0. 1.]]\n"
          ],
          "name": "stdout"
        }
      ]
    },
    {
      "cell_type": "code",
      "metadata": {
        "id": "_A66GHWctPrP",
        "outputId": "716c4617-049a-42d7-9631-7f8c0a103352"
      },
      "source": [
        "e = np.random.random((2,2)) # Create an array filled with random values\n",
        "print (e)"
      ],
      "execution_count": null,
      "outputs": [
        {
          "output_type": "stream",
          "text": [
            "[[0.04522778 0.19508671]\n",
            " [0.00598023 0.39154546]]\n"
          ],
          "name": "stdout"
        }
      ]
    },
    {
      "cell_type": "markdown",
      "metadata": {
        "id": "HbHPnDtxtPrV"
      },
      "source": [
        "### Array indexing"
      ]
    },
    {
      "cell_type": "markdown",
      "metadata": {
        "id": "-DBzsxQDtPrW"
      },
      "source": [
        "Numpy offers several ways to index into arrays."
      ]
    },
    {
      "cell_type": "markdown",
      "metadata": {
        "id": "mCRotdf_tPrW"
      },
      "source": [
        "**Slicing** : Similar to Python lists, numpy arrays can be sliced. Since arrays may be multidimensional, you must specify a slice for each dimension of the array:"
      ]
    },
    {
      "cell_type": "code",
      "metadata": {
        "id": "Bj22zSBxtPrY",
        "outputId": "f67d3633-970f-4924-a82a-fc4ee30b22fe"
      },
      "source": [
        "import numpy as np\n",
        "a = np.array([[1,2,3,4], [5,6,7,8], [9,10,11,12]])\n",
        "b = a[:2, 1:3]\n",
        "print (b)"
      ],
      "execution_count": null,
      "outputs": [
        {
          "output_type": "stream",
          "text": [
            "[[2 3]\n",
            " [6 7]]\n"
          ],
          "name": "stdout"
        }
      ]
    },
    {
      "cell_type": "markdown",
      "metadata": {
        "id": "inlS8YxhtPrc"
      },
      "source": [
        "A slice of an array is a view into the same data, so modifying it will modify the original array."
      ]
    },
    {
      "cell_type": "code",
      "metadata": {
        "id": "_sCwfXritPrd",
        "outputId": "ae902af5-bde4-4f21-db1a-337193bd9562"
      },
      "source": [
        "print (a[0, 1])\n",
        "b[0, 0] = 77    # b[0, 0] is the same piece of data as a[0, 1]\n",
        "print (a[0, 1]) "
      ],
      "execution_count": null,
      "outputs": [
        {
          "output_type": "stream",
          "text": [
            "2\n",
            "77\n"
          ],
          "name": "stdout"
        }
      ]
    },
    {
      "cell_type": "markdown",
      "metadata": {
        "id": "dWxPRfJ6tPrh"
      },
      "source": [
        "You can also mix integer indexing with slice indexing. However, doing so will yield an array of lower rank than the original array. Note that this is quite different from the way that MATLAB handles array slicing:"
      ]
    },
    {
      "cell_type": "code",
      "metadata": {
        "id": "u-Y_fYkftPri",
        "outputId": "7a5a9d8c-6776-4c30-d1d7-b3d9a136d536"
      },
      "source": [
        "# Create the following rank 2 array with shape (3, 4)\n",
        "a = np.array([[1,2,3,4], [5,6,7,8], [9,10,11,12]])\n",
        "print (a)"
      ],
      "execution_count": null,
      "outputs": [
        {
          "output_type": "stream",
          "text": [
            "[[ 1  2  3  4]\n",
            " [ 5  6  7  8]\n",
            " [ 9 10 11 12]]\n"
          ],
          "name": "stdout"
        }
      ]
    },
    {
      "cell_type": "markdown",
      "metadata": {
        "id": "Pz6sxe6vtPrm"
      },
      "source": [
        "Two ways of accessing the data in the middle row of the array.\n",
        "Mixing integer indexing with slices yields an array of lower rank,\n",
        "while using only slices yields an array of the same rank as the\n",
        "original array:"
      ]
    },
    {
      "cell_type": "code",
      "metadata": {
        "id": "5SiJ8GXetPrn",
        "outputId": "b0b01d8d-5a1e-4859-c5e5-56f6693c6533"
      },
      "source": [
        "row_r1 = a[1, :]    # Rank 1 view of the second row of a  \n",
        "row_r2 = a[1:2, :]  # Rank 2 view of the second row of a\n",
        "row_r3 = a[[1], :]  # Rank 2 view of the second row of a\n",
        "print (row_r1, row_r1.shape) \n",
        "print (row_r2, row_r2.shape)\n",
        "print (row_r3, row_r3.shape)"
      ],
      "execution_count": null,
      "outputs": [
        {
          "output_type": "stream",
          "text": [
            "[5 6 7 8] (4,)\n",
            "[[5 6 7 8]] (1, 4)\n",
            "[[5 6 7 8]] (1, 4)\n"
          ],
          "name": "stdout"
        }
      ]
    },
    {
      "cell_type": "markdown",
      "metadata": {
        "id": "V7DoPbyJtPrr"
      },
      "source": [
        "Integer array indexing: When you index into numpy arrays using slicing, the resulting array view will always be a subarray of the original array. In contrast, integer array indexing allows you to construct arbitrary arrays using the data from another array. Here is an example:"
      ]
    },
    {
      "cell_type": "code",
      "metadata": {
        "id": "40qp01DMtPrt",
        "outputId": "e5dbc1dd-240f-4379-c001-0bd07d5fe90e"
      },
      "source": [
        "a = np.array([[1,2], [3, 4], [5, 6]])\n",
        "\n",
        "# An example of integer array indexing.\n",
        "# The returned array will have shape (3,) and \n",
        "print (a[[0, 1, 2], [0, 1, 0]])\n",
        "\n",
        "# The above example of integer array indexing is equivalent to this:\n",
        "print (np.array([a[0, 0], a[1, 1], a[2, 0]]))"
      ],
      "execution_count": null,
      "outputs": [
        {
          "output_type": "stream",
          "text": [
            "[1 4 5]\n",
            "[1 4 5]\n"
          ],
          "name": "stdout"
        }
      ]
    },
    {
      "cell_type": "markdown",
      "metadata": {
        "id": "2xgsWSzYtPrx"
      },
      "source": [
        "One useful trick with integer array indexing is selecting or mutating one element from each row of a matrix:"
      ]
    },
    {
      "cell_type": "code",
      "metadata": {
        "id": "TS3lkttTtPrz",
        "outputId": "f31e14aa-1677-4290-ef11-ea21626cf146"
      },
      "source": [
        "# Create a new array from which we will select elements\n",
        "a = np.array([[1,2,3], [4,5,6], [7,8,9], [10, 11, 12]])\n",
        "print (a)"
      ],
      "execution_count": null,
      "outputs": [
        {
          "output_type": "stream",
          "text": [
            "[[ 1  2  3]\n",
            " [ 4  5  6]\n",
            " [ 7  8  9]\n",
            " [10 11 12]]\n"
          ],
          "name": "stdout"
        }
      ]
    },
    {
      "cell_type": "code",
      "metadata": {
        "id": "Jr168ZS9tPr3",
        "outputId": "d120bb3f-a6d4-4cd7-b2f9-4806c42b5d31"
      },
      "source": [
        "# Create an array of indices\n",
        "b = np.array([0, 2, 0, 1])\n",
        "\n",
        "# Select one element from each row of a using the indices in b\n",
        "print (a[np.arange(4), b])  # Prints \"[ 1  6  7 11]\"\n",
        "# np.arange essentially gives you evenly spaced values given a certain interval"
      ],
      "execution_count": null,
      "outputs": [
        {
          "output_type": "stream",
          "text": [
            "[ 1  6  7 11]\n"
          ],
          "name": "stdout"
        }
      ]
    },
    {
      "cell_type": "code",
      "metadata": {
        "id": "YMOV_aCItPr7",
        "outputId": "1e1b4ae6-1653-4f21-b064-cd906879bbd5"
      },
      "source": [
        "# Mutate one element from each row of a using the indices in b\n",
        "a[np.arange(4), b] += 10\n",
        "print (a)"
      ],
      "execution_count": null,
      "outputs": [
        {
          "output_type": "stream",
          "text": [
            "[[11  2  3]\n",
            " [ 4  5 16]\n",
            " [17  8  9]\n",
            " [10 21 12]]\n"
          ],
          "name": "stdout"
        }
      ]
    },
    {
      "cell_type": "markdown",
      "metadata": {
        "id": "LQft2DUJtPr_"
      },
      "source": [
        "**Boolean array indexing** : Boolean array indexing lets you pick out arbitrary elements of an array. Frequently this type of indexing is used to select the elements of an array that satisfy some condition. Here is an example:"
      ]
    },
    {
      "cell_type": "code",
      "metadata": {
        "id": "X-LYmRwPtPr_",
        "outputId": "f28d3040-9b1b-4151-ecfa-bda88acef4e4"
      },
      "source": [
        "# We use boolean array indexing to construct a rank 1 array\n",
        "# consisting of the elements of a corresponding to the True values\n",
        "# of bool_idx\n",
        "print (a[bool_idx])\n",
        "\n",
        "# We can do all of the above in a single concise statement:\n",
        "print (a[a > 2])"
      ],
      "execution_count": null,
      "outputs": [
        {
          "output_type": "stream",
          "text": [
            "[3 4 5 6]\n",
            "[3 4 5 6]\n"
          ],
          "name": "stdout"
        }
      ]
    },
    {
      "cell_type": "markdown",
      "metadata": {
        "id": "cq4kMvX0tPsD"
      },
      "source": [
        "### Datatypes"
      ]
    },
    {
      "cell_type": "markdown",
      "metadata": {
        "id": "Z3_nhEDntPsE"
      },
      "source": [
        "Every numpy array is a grid of elements of the same type. Numpy provides a large set of numeric datatypes that you can use to construct arrays. Numpy tries to guess a datatype when you create an array, but functions that construct arrays usually also include an optional argument to explicitly specify the datatype. Here is an example:"
      ]
    },
    {
      "cell_type": "code",
      "metadata": {
        "id": "VUeU3CtntPsF",
        "outputId": "08ef68f4-c9a4-4c52-c197-ede8a15c16c2"
      },
      "source": [
        "x = np.array([1, 2])  # Let numpy choose the datatype\n",
        "y = np.array([1.0, 2.0])  # Let numpy choose the datatype\n",
        "z = np.array([1, 2], dtype=np.int64)  # Force a particular datatype\n",
        "\n",
        "print (x.dtype, y.dtype, z.dtype)"
      ],
      "execution_count": null,
      "outputs": [
        {
          "output_type": "stream",
          "text": [
            "int32 float64 int64\n"
          ],
          "name": "stdout"
        }
      ]
    },
    {
      "cell_type": "markdown",
      "metadata": {
        "id": "z74NDkiPtPsK"
      },
      "source": [
        "You can read all about numpy datatypes in the [documentation](http://docs.scipy.org/doc/numpy/reference/arrays.dtypes.html)."
      ]
    },
    {
      "cell_type": "markdown",
      "metadata": {
        "id": "91-JpxARtPsK"
      },
      "source": [
        "### Array math"
      ]
    },
    {
      "cell_type": "markdown",
      "metadata": {
        "id": "gmTLjziytPsL"
      },
      "source": [
        "Basic mathematical functions operate elementwise on arrays, and are available both as operator overloads and as functions in the numpy module:"
      ]
    },
    {
      "cell_type": "code",
      "metadata": {
        "id": "_dhNenkOtPsL",
        "outputId": "57c89cca-aa16-4635-b2c1-d90b85320027"
      },
      "source": [
        "x = np.array([[1,2],[3,4]], dtype=np.float64)\n",
        "y = np.array([[5,6],[7,8]], dtype=np.float64)\n",
        "print(x,\"\\n\")\n",
        "print(y,\"\\n\")\n",
        "\n",
        "# Elementwise sum; both produce the array\n",
        "print (x + y)\n",
        "print (np.add(x, y))"
      ],
      "execution_count": null,
      "outputs": [
        {
          "output_type": "stream",
          "text": [
            "[[1. 2.]\n",
            " [3. 4.]] \n",
            "\n",
            "[[5. 6.]\n",
            " [7. 8.]] \n",
            "\n",
            "[[ 6.  8.]\n",
            " [10. 12.]]\n",
            "[[ 6.  8.]\n",
            " [10. 12.]]\n"
          ],
          "name": "stdout"
        }
      ]
    },
    {
      "cell_type": "code",
      "metadata": {
        "id": "yCUCQg2ttPsQ",
        "outputId": "2087c2e1-1373-422e-a495-545c082e769a"
      },
      "source": [
        "# Elementwise difference; both produce the array\n",
        "print (x - y)\n",
        "print (np.subtract(x, y))"
      ],
      "execution_count": null,
      "outputs": [
        {
          "output_type": "stream",
          "text": [
            "[[-4. -4.]\n",
            " [-4. -4.]]\n",
            "[[-4. -4.]\n",
            " [-4. -4.]]\n"
          ],
          "name": "stdout"
        }
      ]
    },
    {
      "cell_type": "code",
      "metadata": {
        "id": "AGuU2RNmtPsU",
        "outputId": "ad105c95-d2ff-4080-ce2e-9c1386b057c2"
      },
      "source": [
        "# Elementwise product; both produce the array\n",
        "print (x * y)\n",
        "print (np.multiply(x, y))"
      ],
      "execution_count": null,
      "outputs": [
        {
          "output_type": "stream",
          "text": [
            "[[ 5. 12.]\n",
            " [21. 32.]]\n",
            "[[ 5. 12.]\n",
            " [21. 32.]]\n"
          ],
          "name": "stdout"
        }
      ]
    },
    {
      "cell_type": "code",
      "metadata": {
        "id": "XYEd0h_HtPsY",
        "outputId": "f1c37baf-0c4c-45c2-8805-3b7f1f690e0f"
      },
      "source": [
        "# Elementwise division; both produce the array\n",
        "print (x / y)\n",
        "print (np.divide(x, y))"
      ],
      "execution_count": null,
      "outputs": [
        {
          "output_type": "stream",
          "text": [
            "[[0.2        0.33333333]\n",
            " [0.42857143 0.5       ]]\n",
            "[[0.2        0.33333333]\n",
            " [0.42857143 0.5       ]]\n"
          ],
          "name": "stdout"
        }
      ]
    },
    {
      "cell_type": "code",
      "metadata": {
        "id": "I2vve_4gtPsc",
        "outputId": "631c9052-1811-4bfb-c16a-b5dceaeb4c45"
      },
      "source": [
        "# Elementwise square root; produces the array\n",
        "print (np.sqrt(x))"
      ],
      "execution_count": null,
      "outputs": [
        {
          "output_type": "stream",
          "text": [
            "[[1.         1.41421356]\n",
            " [1.73205081 2.        ]]\n"
          ],
          "name": "stdout"
        }
      ]
    },
    {
      "cell_type": "markdown",
      "metadata": {
        "id": "Zv8-0voatPsf"
      },
      "source": [
        "Note that unlike MATLAB, `*` is elementwise multiplication, not matrix multiplication. We instead use the dot function to compute inner products of vectors, to multiply a vector by a matrix, and to multiply matrices. dot is available both as a function in the numpy module and as an instance method of array objects:"
      ]
    },
    {
      "cell_type": "code",
      "metadata": {
        "id": "o_1oofbdtPsf",
        "outputId": "6e01c86d-b435-495b-a78d-397b6cbcff61"
      },
      "source": [
        "x = np.array([[1,2],[3,4]])\n",
        "y = np.array([[5,6],[7,8]])\n",
        "\n",
        "v = np.array([9,10])\n",
        "w = np.array([11, 12])\n",
        "\n",
        "\n",
        "# Inner product of vectors; both produce 219 (9x11 + 10x12)\n",
        "print (v.dot(w))\n",
        "print (np.dot(v, w))"
      ],
      "execution_count": null,
      "outputs": [
        {
          "output_type": "stream",
          "text": [
            "219\n",
            "219\n"
          ],
          "name": "stdout"
        }
      ]
    },
    {
      "cell_type": "code",
      "metadata": {
        "id": "w1CXIkkhtPsj",
        "outputId": "d13f5c2e-afbf-4f2b-d1d2-ea748679c5ab"
      },
      "source": [
        "# Matrix / vector product; both produce the rank 1 array [29 67]\n",
        "print (x.dot(v))\n",
        "print (np.dot(x, v))"
      ],
      "execution_count": null,
      "outputs": [
        {
          "output_type": "stream",
          "text": [
            "[29 67]\n",
            "[29 67]\n"
          ],
          "name": "stdout"
        }
      ]
    },
    {
      "cell_type": "code",
      "metadata": {
        "id": "BeMUaCYwtPsl",
        "outputId": "3f2edc09-2314-479b-ae90-9ec9cafd8dd6"
      },
      "source": [
        "# Matrix / matrix product; both produce the rank 2 array\n",
        "print (x.dot(y))\n",
        "print (np.dot(x, y))"
      ],
      "execution_count": null,
      "outputs": [
        {
          "output_type": "stream",
          "text": [
            "[[19 22]\n",
            " [43 50]]\n",
            "[[19 22]\n",
            " [43 50]]\n"
          ],
          "name": "stdout"
        }
      ]
    },
    {
      "cell_type": "markdown",
      "metadata": {
        "id": "5Ie6NZ8xtPsp"
      },
      "source": [
        "Numpy provides many useful functions for performing computations on arrays; one of the most useful is `sum`:"
      ]
    },
    {
      "cell_type": "code",
      "metadata": {
        "id": "zXs4SebetPsp",
        "outputId": "50233bfb-14c1-44ba-cbce-a80c29dcba22"
      },
      "source": [
        "x = np.array([[1,2],[3,4]])\n",
        "\n",
        "print(x,\"\\n\")\n",
        "print (np.sum(x))  # Compute sum of all elements; prints \"10\"\n",
        "print (np.sum(x, axis=0))  # Compute sum of each column; prints \"[4 6]\"\n",
        "print (np.sum(x, axis=1))  # Compute sum of each row; prints \"[3 7]\""
      ],
      "execution_count": null,
      "outputs": [
        {
          "output_type": "stream",
          "text": [
            "[[1 2]\n",
            " [3 4]] \n",
            "\n",
            "10\n",
            "[4 6]\n",
            "[3 7]\n"
          ],
          "name": "stdout"
        }
      ]
    },
    {
      "cell_type": "markdown",
      "metadata": {
        "id": "kgMjOFVZtPsu"
      },
      "source": [
        "You can find the full list of mathematical functions provided by numpy in the [documentation](http://docs.scipy.org/doc/numpy/reference/routines.math.html).\n",
        "\n",
        "Apart from computing mathematical functions using arrays, we frequently need to reshape or otherwise manipulate data in arrays. The simplest example of this type of operation is transposing a matrix; to transpose a matrix, simply use the T attribute of an array object:"
      ]
    },
    {
      "cell_type": "code",
      "metadata": {
        "id": "iBDwx_zRtPsv",
        "outputId": "d3f89e3f-2256-4275-be4c-64a9310a4573"
      },
      "source": [
        "print (x)\n",
        "print (x.T)"
      ],
      "execution_count": null,
      "outputs": [
        {
          "output_type": "stream",
          "text": [
            "[[1 2]\n",
            " [3 4]]\n",
            "[[1 3]\n",
            " [2 4]]\n"
          ],
          "name": "stdout"
        }
      ]
    },
    {
      "cell_type": "markdown",
      "metadata": {
        "id": "QtIRAUZRtPsy"
      },
      "source": [
        "### Broadcasting"
      ]
    },
    {
      "cell_type": "markdown",
      "metadata": {
        "id": "eA90u4fttPsy"
      },
      "source": [
        "Broadcasting is a powerful mechanism that allows numpy to work with arrays of different shapes when performing arithmetic operations. Frequently we have a smaller array and a larger array, and we want to use the smaller array multiple times to perform some operation on the larger array.\n",
        "\n",
        "For example, suppose that we want to add a constant vector to each row of a matrix. We could do it like this:"
      ]
    },
    {
      "cell_type": "code",
      "metadata": {
        "id": "PFlf7jFItPsz",
        "outputId": "103619dc-6229-4609-eb54-6efc41397165"
      },
      "source": [
        "# We will add the vector v to each row of the matrix x,\n",
        "# storing the result in the matrix y\n",
        "x = np.array([[1,2,3], [4,5,6], [7,8,9], [10, 11, 12]])\n",
        "v = np.array([1, 0, 1])\n",
        "y = np.empty_like(x)   # Create an empty matrix with the same shape as x\n",
        "\n",
        "# Add the vector v to each row of the matrix x with an explicit loop\n",
        "for i in range(4):\n",
        "    y[i, :] = x[i, :] + v\n",
        "\n",
        "print (y)"
      ],
      "execution_count": null,
      "outputs": [
        {
          "output_type": "stream",
          "text": [
            "[[ 2  2  4]\n",
            " [ 5  5  7]\n",
            " [ 8  8 10]\n",
            " [11 11 13]]\n"
          ],
          "name": "stdout"
        }
      ]
    },
    {
      "cell_type": "markdown",
      "metadata": {
        "id": "xUhhNTKPtPs2"
      },
      "source": [
        "This works; however when the matrix `x` is very large, computing an explicit loop in Python could be slow. Note that adding the vector v to each row of the matrix `x` is equivalent to forming a matrix `vv` by stacking multiple copies of `v` vertically, then performing elementwise summation of `x` and `vv`. We could implement this approach like this:"
      ]
    },
    {
      "cell_type": "code",
      "metadata": {
        "id": "3y7dTPDutPs2",
        "outputId": "7370b4ed-c3d5-4554-9613-9464200f911f"
      },
      "source": [
        "vv = np.tile(v, (4, 1))  # Stack 4 copies of v on top of each other\n",
        "print (vv)               # Prints \"[[1 0 1]\n",
        "                         #          [1 0 1]\n",
        "                         #          [1 0 1]\n",
        "                         #          [1 0 1]]\""
      ],
      "execution_count": null,
      "outputs": [
        {
          "output_type": "stream",
          "text": [
            "[[1 0 1]\n",
            " [1 0 1]\n",
            " [1 0 1]\n",
            " [1 0 1]]\n"
          ],
          "name": "stdout"
        }
      ]
    },
    {
      "cell_type": "code",
      "metadata": {
        "id": "D_3C07WVtPs5",
        "outputId": "20dcdbdc-c442-4891-f606-516d6f864c64"
      },
      "source": [
        "y = x + vv  # Add x and vv elementwise\n",
        "print (y)"
      ],
      "execution_count": null,
      "outputs": [
        {
          "output_type": "stream",
          "text": [
            "[[ 2  2  4]\n",
            " [ 5  5  7]\n",
            " [ 8  8 10]\n",
            " [11 11 13]]\n"
          ],
          "name": "stdout"
        }
      ]
    },
    {
      "cell_type": "markdown",
      "metadata": {
        "id": "BG2CTA82tPs8"
      },
      "source": [
        "Numpy broadcasting allows us to perform this computation without actually creating multiple copies of v. Consider this version, using broadcasting:"
      ]
    },
    {
      "cell_type": "code",
      "metadata": {
        "id": "bIYzeG51tPs8",
        "outputId": "4f1e8635-6883-41ee-992b-f0ec053d3e5f"
      },
      "source": [
        "import numpy as np\n",
        "\n",
        "# We will add the vector v to each row of the matrix x,\n",
        "# storing the result in the matrix y\n",
        "x = np.array([[1,2,3], [4,5,6], [7,8,9], [10, 11, 12]])\n",
        "v = np.array([1, 0, 1])\n",
        "y = x + v  # Add v to each row of x using broadcasting\n",
        "print (y)"
      ],
      "execution_count": null,
      "outputs": [
        {
          "output_type": "stream",
          "text": [
            "[[ 2  2  4]\n",
            " [ 5  5  7]\n",
            " [ 8  8 10]\n",
            " [11 11 13]]\n"
          ],
          "name": "stdout"
        }
      ]
    },
    {
      "cell_type": "markdown",
      "metadata": {
        "id": "IfsH4cIptPs_"
      },
      "source": [
        "The line `y = x + v` works even though `x` has shape `(4, 3)` and `v` has shape `(3,)` due to broadcasting; this line works as if v actually had shape `(4, 3)`, where each row was a copy of `v`, and the sum was performed elementwise.\n",
        "\n",
        "Rules of Broadcasting can be found in the [documentation](https://numpy.org/doc/stable/user/basics.broadcasting.html).\n",
        "\n",
        "\n",
        "Functions that support broadcasting are known as universal functions. You can find the list of all universal functions in the [documentation](http://docs.scipy.org/doc/numpy/reference/ufuncs.html#available-ufuncs).\n",
        "\n",
        "Here are some applications of broadcasting:"
      ]
    },
    {
      "cell_type": "code",
      "metadata": {
        "id": "ak7-mNQrtPs_",
        "outputId": "65e74d3c-5131-4967-a273-4f9b6d620452"
      },
      "source": [
        "# Compute outer product of vectors\n",
        "## which is the same as v.wT\n",
        "v = np.array([1,2,3])  # v has shape (3,)\n",
        "w = np.array([4,5])    # w has shape (2,)\n",
        "# To compute an outer product, we first reshape v to be a column\n",
        "# vector of shape (3, 1); we can then broadcast it against w to yield\n",
        "# an output of shape (3, 2), which is the outer product of v and w:\n",
        "\n",
        "print (np.reshape(v, (3, 1)) * w)"
      ],
      "execution_count": null,
      "outputs": [
        {
          "output_type": "stream",
          "text": [
            "[[ 4  5]\n",
            " [ 8 10]\n",
            " [12 15]]\n"
          ],
          "name": "stdout"
        }
      ]
    },
    {
      "cell_type": "code",
      "metadata": {
        "id": "Y4edVu1itPtC",
        "outputId": "ae53f1ed-11b4-4a4b-e3c1-370175174ffa"
      },
      "source": [
        "# Add a vector to each row of a matrix\n",
        "x = np.array([[1,2,3], [4,5,6]])\n",
        "# x has shape (2, 3) and v has shape (3,) so they broadcast to (2, 3),\n",
        "# giving the following matrix:\n",
        "\n",
        "print (x + v)"
      ],
      "execution_count": null,
      "outputs": [
        {
          "output_type": "stream",
          "text": [
            "[[2 4 6]\n",
            " [5 7 9]]\n"
          ],
          "name": "stdout"
        }
      ]
    },
    {
      "cell_type": "code",
      "metadata": {
        "id": "yw_D3iq8tPtF",
        "outputId": "15914029-d761-455c-befc-eec89d13db5e"
      },
      "source": [
        "# Add a vector to each column of a matrix\n",
        "# x has shape (2, 3) and w has shape (2,).\n",
        "# If we transpose x then it has shape (3, 2) and can be broadcast\n",
        "# against w to yield a result of shape (3, 2); transposing this result\n",
        "# yields the final result of shape (2, 3) which is the matrix x with\n",
        "# the vector w added to each column. Gives the following matrix:\n",
        "\n",
        "print ((x.T + w).T)"
      ],
      "execution_count": null,
      "outputs": [
        {
          "output_type": "stream",
          "text": [
            "[[ 5  6  7]\n",
            " [ 9 10 11]]\n"
          ],
          "name": "stdout"
        }
      ]
    },
    {
      "cell_type": "code",
      "metadata": {
        "id": "RURXVsM-tPtH",
        "outputId": "190452c2-bac9-4b70-d78e-0277a33c482a"
      },
      "source": [
        "# Another solution is to reshape w to be a row vector of shape (2, 1);\n",
        "# we can then broadcast it directly against x to produce the same\n",
        "# output.\n",
        "print (x + np.reshape(w, (2, 1)))"
      ],
      "execution_count": null,
      "outputs": [
        {
          "output_type": "stream",
          "text": [
            "[[ 5  6  7]\n",
            " [ 9 10 11]]\n"
          ],
          "name": "stdout"
        }
      ]
    },
    {
      "cell_type": "code",
      "metadata": {
        "id": "oqy8t7BztPtL",
        "outputId": "58005c4c-0fcf-4c33-95c9-2c30ffeec43d"
      },
      "source": [
        "# Multiply a matrix by a constant:\n",
        "# x has shape (2, 3). Numpy treats scalars as arrays of shape ();\n",
        "# these can be broadcast together to shape (2, 3), producing the\n",
        "# following array:\n",
        "print( x * 2)"
      ],
      "execution_count": null,
      "outputs": [
        {
          "output_type": "stream",
          "text": [
            "[[ 2  4  6]\n",
            " [ 8 10 12]]\n"
          ],
          "name": "stdout"
        }
      ]
    },
    {
      "cell_type": "markdown",
      "metadata": {
        "id": "BJFgYE8GtPtN"
      },
      "source": [
        "Broadcasting typically makes your code more concise and faster, so you should strive to use it where possible."
      ]
    },
    {
      "cell_type": "markdown",
      "metadata": {
        "id": "8dLPlwA6tPtP"
      },
      "source": [
        "This brief overview has touched on many of the important things that you need to know about numpy, but is far from complete. Check out the [numpy reference](http://docs.scipy.org/doc/numpy/reference/) to find out much more about numpy."
      ]
    },
    {
      "cell_type": "markdown",
      "metadata": {
        "id": "WHgE5F1mbyz3"
      },
      "source": [
        "Now lets go back to one of the code snippets we wrote earlier"
      ]
    },
    {
      "cell_type": "code",
      "metadata": {
        "id": "B1yTN4nmb6M6",
        "outputId": "5442d298-8b93-4ca3-802e-1047a55a1f8c",
        "colab": {
          "base_uri": "https://localhost:8080/",
          "height": 52
        }
      },
      "source": [
        "import time\n",
        "import numpy as np\n",
        "\n",
        "n = 1000000\n",
        "\n",
        "a = np.arange(n)   \n",
        "b = np.arange(n)\n",
        "\n",
        "c = range(n)\n",
        "d = range(n)\n",
        "res = []\n",
        "\n",
        "init_time = time.time() \n",
        "for i in range(0,n):\n",
        "  res.append(int (c[i] * d[i]))  \n",
        "  \n",
        "\n",
        "print(\"Time taken by Lists :\",  \n",
        "      (time.time() - init_time), \n",
        "      \"seconds\") \n",
        "  \n",
        " \n",
        "init_time = time.time() \n",
        "res = a * b \n",
        "  \n",
        "  \n",
        "print(\"Time taken by NumPy Arrays :\", \n",
        "      (time.time() - init_time), \n",
        "      \"seconds\") "
      ],
      "execution_count": 20,
      "outputs": [
        {
          "output_type": "stream",
          "text": [
            "Time taken by Lists : 0.5566177368164062 seconds\n",
            "Time taken by NumPy Arrays : 0.015178918838500977 seconds\n"
          ],
          "name": "stdout"
        }
      ]
    },
    {
      "cell_type": "markdown",
      "metadata": {
        "id": "k-2fTMOctPtP"
      },
      "source": [
        "## Matplotlib"
      ]
    },
    {
      "cell_type": "markdown",
      "metadata": {
        "id": "squEVccRtPtP"
      },
      "source": [
        "Matplotlib is a plotting library that can help you with interpretation of data and its supposed distribution. In this section give a brief introduction to the `matplotlib.pyplot` module, which provides a plotting system similar to that of MATLAB."
      ]
    },
    {
      "cell_type": "code",
      "metadata": {
        "id": "-HsdFOsOtPtQ"
      },
      "source": [
        "import matplotlib.pyplot as plt"
      ],
      "execution_count": 2,
      "outputs": []
    },
    {
      "cell_type": "markdown",
      "metadata": {
        "id": "etTOyxNLtPtS"
      },
      "source": [
        "By running this special iPython command, we will be displaying plots inline:"
      ]
    },
    {
      "cell_type": "code",
      "metadata": {
        "id": "hsqpImPUtPtS"
      },
      "source": [
        "%matplotlib inline"
      ],
      "execution_count": null,
      "outputs": []
    },
    {
      "cell_type": "markdown",
      "metadata": {
        "id": "8v5zsQGLtPtV"
      },
      "source": [
        "### Plotting"
      ]
    },
    {
      "cell_type": "markdown",
      "metadata": {
        "id": "6CpMaF0JtPtX"
      },
      "source": [
        "The most important function in `matplotlib` is plot, which allows you to plot 2D data. Here is a simple example:"
      ]
    },
    {
      "cell_type": "code",
      "metadata": {
        "id": "ZWiMUYsutPtX",
        "outputId": "b47d456d-10ae-4c66-e341-44193c62dfbc"
      },
      "source": [
        "# Compute the x and y coordinates for points on a sine curve\n",
        "x = np.arange(0, 3 * np.pi, 0.1)\n",
        "y = np.sin(x)\n",
        "\n",
        "# Plot the points using matplotlib\n",
        "plt.plot(x, y)"
      ],
      "execution_count": null,
      "outputs": [
        {
          "output_type": "execute_result",
          "data": {
            "text/plain": [
              "[<matplotlib.lines.Line2D at 0x1b57fb58898>]"
            ]
          },
          "metadata": {
            "tags": []
          },
          "execution_count": 45
        },
        {
          "output_type": "display_data",
          "data": {
            "image/png": "[encoded data removed]",
            "text/plain": [
              "<Figure size 432x288 with 1 Axes>"
            ]
          },
          "metadata": {
            "tags": [],
            "needs_background": "light"
          }
        }
      ]
    },
    {
      "cell_type": "markdown",
      "metadata": {
        "id": "PSLvJ09YtPtb"
      },
      "source": [
        "With just a little bit of extra work we can easily plot multiple lines at once, and add a title, legend, and axis labels:"
      ]
    },
    {
      "cell_type": "code",
      "metadata": {
        "id": "TphPSBXytPto",
        "outputId": "064aab50-535c-4655-d709-ae93ffda0aec"
      },
      "source": [
        "y_sin = np.sin(x)\n",
        "y_cos = np.cos(x)\n",
        "\n",
        "# Plot the points using matplotlib\n",
        "plt.plot(x, y_sin)\n",
        "plt.plot(x, y_cos)\n",
        "plt.xlabel('x axis label')\n",
        "plt.ylabel('y axis label')\n",
        "plt.title('Sine and Cosine')\n",
        "plt.legend(['Sine', 'Cosine'])"
      ],
      "execution_count": null,
      "outputs": [
        {
          "output_type": "execute_result",
          "data": {
            "text/plain": [
              "<matplotlib.legend.Legend at 0x1b57fc057b8>"
            ]
          },
          "metadata": {
            "tags": []
          },
          "execution_count": 46
        },
        {
          "output_type": "display_data",
          "data": {
            "image/png": "[encoded data removed]",
            "text/plain": [
              "<Figure size 432x288 with 1 Axes>"
            ]
          },
          "metadata": {
            "tags": [],
            "needs_background": "light"
          }
        }
      ]
    },
    {
      "cell_type": "markdown",
      "metadata": {
        "id": "x7It0VVOtPtt"
      },
      "source": [
        "You can also create **scatter plots** to know the overall distribution of data as a function of two variables"
      ]
    },
    {
      "cell_type": "code",
      "metadata": {
        "id": "sGUIpAAWtPtt",
        "outputId": "eb73c2ac-7924-44f2-8b0f-1bc0ddc1b7ee"
      },
      "source": [
        "x_scatter = np.random.rand(40,) * 20\n",
        "y_scatter = np.random.rand(40,) * 15\n",
        "\n",
        "plt.scatter(x_scatter,y_scatter)\n",
        "plt.show"
      ],
      "execution_count": null,
      "outputs": [
        {
          "output_type": "execute_result",
          "data": {
            "text/plain": [
              "<function matplotlib.pyplot.show>"
            ]
          },
          "metadata": {
            "tags": []
          },
          "execution_count": 6
        },
        {
          "output_type": "display_data",
          "data": {
            "image/png": "[encoded data removed]",
            "text/plain": [
              "<Figure size 432x288 with 1 Axes>"
            ],
            "image/svg+xml": "<?xml version=\"1.0\" encoding=\"utf-8\" standalone=\"no\"?>\n<!DOCTYPE svg PUBLIC \"-//W3C//DTD SVG 1.1//EN\"\n  \"http://www.w3.org/Graphics/SVG/1.1/DTD/svg11.dtd\">\n<!-- Created with matplotlib (http://matplotlib.org/) -->\n<svg height=\"252.018125pt\" version=\"1.1\" viewBox=\"0 0 372.425 252.018125\" width=\"372.425pt\" xmlns=\"http://www.w3.org/2000/svg\" xmlns:xlink=\"http://www.w3.org/1999/xlink\">\n <defs>\n  <style type=\"text/css\">\n*{stroke-linecap:butt;stroke-linejoin:round;}\n  </style>\n </defs>\n <g id=\"figure_1\">\n  <g id=\"patch_1\">\n   <path d=\"M -0 252.018125 \nL 372.425 252.018125 \nL 372.425 0 \nL -0 0 \nz\n\" style=\"fill:none;\"/>\n  </g>\n  <g id=\"axes_1\">\n   <g id=\"patch_2\">\n    <path d=\"M 26.925 228.14 \nL 361.725 228.14 \nL 361.725 10.7 \nL 26.925 10.7 \nz\n\" style=\"fill:#ffffff;\"/>\n   </g>\n   <g id=\"PathCollection_1\">\n    <defs>\n     <path d=\"M 0 3 \nC 0.795609 3 1.55874 2.683901 2.12132 2.12132 \nC 2.683901 1.55874 3 0.795609 3 0 \nC 3 -0.795609 2.683901 -1.55874 2.12132 -2.12132 \nC 1.55874 -2.683901 0.795609 -3 0 -3 \nC -0.795609 -3 -1.55874 -2.683901 -2.12132 -2.12132 \nC -2.683901 -1.55874 -3 -0.795609 -3 0 \nC -3 0.795609 -2.683901 1.55874 -2.12132 2.12132 \nC -1.55874 2.683901 -0.795609 3 0 3 \nz\n\" id=\"m24692310e8\" style=\"stroke:#1f77b4;\"/>\n    </defs>\n    <g clip-path=\"url(#p8bc4885b32)\">\n     <use style=\"fill:#1f77b4;stroke:#1f77b4;\" x=\"343.327938\" xlink:href=\"#m24692310e8\" y=\"102.620844\"/>\n     <use style=\"fill:#1f77b4;stroke:#1f77b4;\" x=\"301.371424\" xlink:href=\"#m24692310e8\" y=\"57.350187\"/>\n     <use style=\"fill:#1f77b4;stroke:#1f77b4;\" x=\"305.670654\" xlink:href=\"#m24692310e8\" y=\"218.065016\"/>\n     <use style=\"fill:#1f77b4;stroke:#1f77b4;\" x=\"306.492032\" xlink:href=\"#m24692310e8\" y=\"187.963074\"/>\n     <use style=\"fill:#1f77b4;stroke:#1f77b4;\" x=\"346.366583\" xlink:href=\"#m24692310e8\" y=\"41.045504\"/>\n     <use style=\"fill:#1f77b4;stroke:#1f77b4;\" x=\"217.331213\" xlink:href=\"#m24692310e8\" y=\"62.619458\"/>\n     <use style=\"fill:#1f77b4;stroke:#1f77b4;\" x=\"162.981959\" xlink:href=\"#m24692310e8\" y=\"81.835301\"/>\n     <use style=\"fill:#1f77b4;stroke:#1f77b4;\" x=\"222.383468\" xlink:href=\"#m24692310e8\" y=\"115.925563\"/>\n     <use style=\"fill:#1f77b4;stroke:#1f77b4;\" x=\"65.448695\" xlink:href=\"#m24692310e8\" y=\"47.462346\"/>\n     <use style=\"fill:#1f77b4;stroke:#1f77b4;\" x=\"116.666856\" xlink:href=\"#m24692310e8\" y=\"210.848482\"/>\n     <use style=\"fill:#1f77b4;stroke:#1f77b4;\" x=\"134.879793\" xlink:href=\"#m24692310e8\" y=\"153.004118\"/>\n     <use style=\"fill:#1f77b4;stroke:#1f77b4;\" x=\"332.034248\" xlink:href=\"#m24692310e8\" y=\"179.749754\"/>\n     <use style=\"fill:#1f77b4;stroke:#1f77b4;\" x=\"47.688536\" xlink:href=\"#m24692310e8\" y=\"107.605134\"/>\n     <use style=\"fill:#1f77b4;stroke:#1f77b4;\" x=\"273.041701\" xlink:href=\"#m24692310e8\" y=\"180.630288\"/>\n     <use style=\"fill:#1f77b4;stroke:#1f77b4;\" x=\"42.283417\" xlink:href=\"#m24692310e8\" y=\"89.93691\"/>\n     <use style=\"fill:#1f77b4;stroke:#1f77b4;\" x=\"107.231432\" xlink:href=\"#m24692310e8\" y=\"92.739769\"/>\n     <use style=\"fill:#1f77b4;stroke:#1f77b4;\" x=\"216.527343\" xlink:href=\"#m24692310e8\" y=\"37.291736\"/>\n     <use style=\"fill:#1f77b4;stroke:#1f77b4;\" x=\"249.24004\" xlink:href=\"#m24692310e8\" y=\"158.136586\"/>\n     <use style=\"fill:#1f77b4;stroke:#1f77b4;\" x=\"136.63687\" xlink:href=\"#m24692310e8\" y=\"97.148537\"/>\n     <use style=\"fill:#1f77b4;stroke:#1f77b4;\" x=\"290.142424\" xlink:href=\"#m24692310e8\" y=\"178.122225\"/>\n     <use style=\"fill:#1f77b4;stroke:#1f77b4;\" x=\"310.392792\" xlink:href=\"#m24692310e8\" y=\"188.311632\"/>\n     <use style=\"fill:#1f77b4;stroke:#1f77b4;\" x=\"266.994535\" xlink:href=\"#m24692310e8\" y=\"116.673603\"/>\n     <use style=\"fill:#1f77b4;stroke:#1f77b4;\" x=\"330.208385\" xlink:href=\"#m24692310e8\" y=\"102.198726\"/>\n     <use style=\"fill:#1f77b4;stroke:#1f77b4;\" x=\"189.519607\" xlink:href=\"#m24692310e8\" y=\"26.906699\"/>\n     <use style=\"fill:#1f77b4;stroke:#1f77b4;\" x=\"141.137138\" xlink:href=\"#m24692310e8\" y=\"187.946007\"/>\n     <use style=\"fill:#1f77b4;stroke:#1f77b4;\" x=\"291.63205\" xlink:href=\"#m24692310e8\" y=\"76.095041\"/>\n     <use style=\"fill:#1f77b4;stroke:#1f77b4;\" x=\"53.943694\" xlink:href=\"#m24692310e8\" y=\"149.505075\"/>\n     <use style=\"fill:#1f77b4;stroke:#1f77b4;\" x=\"186.559123\" xlink:href=\"#m24692310e8\" y=\"20.774984\"/>\n     <use style=\"fill:#1f77b4;stroke:#1f77b4;\" x=\"320.860523\" xlink:href=\"#m24692310e8\" y=\"201.879855\"/>\n     <use style=\"fill:#1f77b4;stroke:#1f77b4;\" x=\"50.801186\" xlink:href=\"#m24692310e8\" y=\"49.73291\"/>\n     <use style=\"fill:#1f77b4;stroke:#1f77b4;\" x=\"142.894352\" xlink:href=\"#m24692310e8\" y=\"120.266021\"/>\n     <use style=\"fill:#1f77b4;stroke:#1f77b4;\" x=\"69.85345\" xlink:href=\"#m24692310e8\" y=\"173.754868\"/>\n     <use style=\"fill:#1f77b4;stroke:#1f77b4;\" x=\"288.264729\" xlink:href=\"#m24692310e8\" y=\"37.863469\"/>\n     <use style=\"fill:#1f77b4;stroke:#1f77b4;\" x=\"333.453926\" xlink:href=\"#m24692310e8\" y=\"148.445532\"/>\n     <use style=\"fill:#1f77b4;stroke:#1f77b4;\" x=\"219.469129\" xlink:href=\"#m24692310e8\" y=\"133.749278\"/>\n     <use style=\"fill:#1f77b4;stroke:#1f77b4;\" x=\"169.851699\" xlink:href=\"#m24692310e8\" y=\"128.11222\"/>\n     <use style=\"fill:#1f77b4;stroke:#1f77b4;\" x=\"123.078124\" xlink:href=\"#m24692310e8\" y=\"129.654175\"/>\n     <use style=\"fill:#1f77b4;stroke:#1f77b4;\" x=\"54.673413\" xlink:href=\"#m24692310e8\" y=\"175.72372\"/>\n     <use style=\"fill:#1f77b4;stroke:#1f77b4;\" x=\"73.119901\" xlink:href=\"#m24692310e8\" y=\"208.29084\"/>\n     <use style=\"fill:#1f77b4;stroke:#1f77b4;\" x=\"327.470529\" xlink:href=\"#m24692310e8\" y=\"106.306831\"/>\n    </g>\n   </g>\n   <g id=\"matplotlib.axis_1\">\n    <g id=\"xtick_1\">\n     <g id=\"line2d_1\">\n      <defs>\n       <path d=\"M 0 0 \nL 0 3.5 \n\" id=\"m83250357ea\" style=\"stroke:#000000;stroke-width:0.8;\"/>\n      </defs>\n      <g>\n       <use style=\"stroke:#000000;stroke-width:0.8;\" x=\"37.723737\" xlink:href=\"#m83250357ea\" y=\"228.14\"/>\n      </g>\n     </g>\n     <g id=\"text_1\">\n      <!-- 0.0 -->\n      <defs>\n       <path d=\"M 31.78125 66.40625 \nQ 24.171875 66.40625 20.328125 58.90625 \nQ 16.5 51.421875 16.5 36.375 \nQ 16.5 21.390625 20.328125 13.890625 \nQ 24.171875 6.390625 31.78125 6.390625 \nQ 39.453125 6.390625 43.28125 13.890625 \nQ 47.125 21.390625 47.125 36.375 \nQ 47.125 51.421875 43.28125 58.90625 \nQ 39.453125 66.40625 31.78125 66.40625 \nz\nM 31.78125 74.21875 \nQ 44.046875 74.21875 50.515625 64.515625 \nQ 56.984375 54.828125 56.984375 36.375 \nQ 56.984375 17.96875 50.515625 8.265625 \nQ 44.046875 -1.421875 31.78125 -1.421875 \nQ 19.53125 -1.421875 13.0625 8.265625 \nQ 6.59375 17.96875 6.59375 36.375 \nQ 6.59375 54.828125 13.0625 64.515625 \nQ 19.53125 74.21875 31.78125 74.21875 \nz\n\" id=\"DejaVuSans-30\"/>\n       <path d=\"M 10.6875 12.40625 \nL 21 12.40625 \nL 21 0 \nL 10.6875 0 \nz\n\" id=\"DejaVuSans-2e\"/>\n      </defs>\n      <g transform=\"translate(29.772174 242.738437)scale(0.1 -0.1)\">\n       <use xlink:href=\"#DejaVuSans-30\"/>\n       <use x=\"63.623047\" xlink:href=\"#DejaVuSans-2e\"/>\n       <use x=\"95.410156\" xlink:href=\"#DejaVuSans-30\"/>\n      </g>\n     </g>\n    </g>\n    <g id=\"xtick_2\">\n     <g id=\"line2d_2\">\n      <g>\n       <use style=\"stroke:#000000;stroke-width:0.8;\" x=\"76.849355\" xlink:href=\"#m83250357ea\" y=\"228.14\"/>\n      </g>\n     </g>\n     <g id=\"text_2\">\n      <!-- 2.5 -->\n      <defs>\n       <path d=\"M 19.1875 8.296875 \nL 53.609375 8.296875 \nL 53.609375 0 \nL 7.328125 0 \nL 7.328125 8.296875 \nQ 12.9375 14.109375 22.625 23.890625 \nQ 32.328125 33.6875 34.8125 36.53125 \nQ 39.546875 41.84375 41.421875 45.53125 \nQ 43.3125 49.21875 43.3125 52.78125 \nQ 43.3125 58.59375 39.234375 62.25 \nQ 35.15625 65.921875 28.609375 65.921875 \nQ 23.96875 65.921875 18.8125 64.3125 \nQ 13.671875 62.703125 7.8125 59.421875 \nL 7.8125 69.390625 \nQ 13.765625 71.78125 18.9375 73 \nQ 24.125 74.21875 28.421875 74.21875 \nQ 39.75 74.21875 46.484375 68.546875 \nQ 53.21875 62.890625 53.21875 53.421875 \nQ 53.21875 48.921875 51.53125 44.890625 \nQ 49.859375 40.875 45.40625 35.40625 \nQ 44.1875 33.984375 37.640625 27.21875 \nQ 31.109375 20.453125 19.1875 8.296875 \nz\n\" id=\"DejaVuSans-32\"/>\n       <path d=\"M 10.796875 72.90625 \nL 49.515625 72.90625 \nL 49.515625 64.59375 \nL 19.828125 64.59375 \nL 19.828125 46.734375 \nQ 21.96875 47.46875 24.109375 47.828125 \nQ 26.265625 48.1875 28.421875 48.1875 \nQ 40.625 48.1875 47.75 41.5 \nQ 54.890625 34.8125 54.890625 23.390625 \nQ 54.890625 11.625 47.5625 5.09375 \nQ 40.234375 -1.421875 26.90625 -1.421875 \nQ 22.3125 -1.421875 17.546875 -0.640625 \nQ 12.796875 0.140625 7.71875 1.703125 \nL 7.71875 11.625 \nQ 12.109375 9.234375 16.796875 8.0625 \nQ 21.484375 6.890625 26.703125 6.890625 \nQ 35.15625 6.890625 40.078125 11.328125 \nQ 45.015625 15.765625 45.015625 23.390625 \nQ 45.015625 31 40.078125 35.4375 \nQ 35.15625 39.890625 26.703125 39.890625 \nQ 22.75 39.890625 18.8125 39.015625 \nQ 14.890625 38.140625 10.796875 36.28125 \nz\n\" id=\"DejaVuSans-35\"/>\n      </defs>\n      <g transform=\"translate(68.897792 242.738437)scale(0.1 -0.1)\">\n       <use xlink:href=\"#DejaVuSans-32\"/>\n       <use x=\"63.623047\" xlink:href=\"#DejaVuSans-2e\"/>\n       <use x=\"95.410156\" xlink:href=\"#DejaVuSans-35\"/>\n      </g>\n     </g>\n    </g>\n    <g id=\"xtick_3\">\n     <g id=\"line2d_3\">\n      <g>\n       <use style=\"stroke:#000000;stroke-width:0.8;\" x=\"115.974973\" xlink:href=\"#m83250357ea\" y=\"228.14\"/>\n      </g>\n     </g>\n     <g id=\"text_3\">\n      <!-- 5.0 -->\n      <g transform=\"translate(108.02341 242.738437)scale(0.1 -0.1)\">\n       <use xlink:href=\"#DejaVuSans-35\"/>\n       <use x=\"63.623047\" xlink:href=\"#DejaVuSans-2e\"/>\n       <use x=\"95.410156\" xlink:href=\"#DejaVuSans-30\"/>\n      </g>\n     </g>\n    </g>\n    <g id=\"xtick_4\">\n     <g id=\"line2d_4\">\n      <g>\n       <use style=\"stroke:#000000;stroke-width:0.8;\" x=\"155.100591\" xlink:href=\"#m83250357ea\" y=\"228.14\"/>\n      </g>\n     </g>\n     <g id=\"text_4\">\n      <!-- 7.5 -->\n      <defs>\n       <path d=\"M 8.203125 72.90625 \nL 55.078125 72.90625 \nL 55.078125 68.703125 \nL 28.609375 0 \nL 18.3125 0 \nL 43.21875 64.59375 \nL 8.203125 64.59375 \nz\n\" id=\"DejaVuSans-37\"/>\n      </defs>\n      <g transform=\"translate(147.149028 242.738437)scale(0.1 -0.1)\">\n       <use xlink:href=\"#DejaVuSans-37\"/>\n       <use x=\"63.623047\" xlink:href=\"#DejaVuSans-2e\"/>\n       <use x=\"95.410156\" xlink:href=\"#DejaVuSans-35\"/>\n      </g>\n     </g>\n    </g>\n    <g id=\"xtick_5\">\n     <g id=\"line2d_5\">\n      <g>\n       <use style=\"stroke:#000000;stroke-width:0.8;\" x=\"194.226208\" xlink:href=\"#m83250357ea\" y=\"228.14\"/>\n      </g>\n     </g>\n     <g id=\"text_5\">\n      <!-- 10.0 -->\n      <defs>\n       <path d=\"M 12.40625 8.296875 \nL 28.515625 8.296875 \nL 28.515625 63.921875 \nL 10.984375 60.40625 \nL 10.984375 69.390625 \nL 28.421875 72.90625 \nL 38.28125 72.90625 \nL 38.28125 8.296875 \nL 54.390625 8.296875 \nL 54.390625 0 \nL 12.40625 0 \nz\n\" id=\"DejaVuSans-31\"/>\n      </defs>\n      <g transform=\"translate(183.093396 242.738437)scale(0.1 -0.1)\">\n       <use xlink:href=\"#DejaVuSans-31\"/>\n       <use x=\"63.623047\" xlink:href=\"#DejaVuSans-30\"/>\n       <use x=\"127.246094\" xlink:href=\"#DejaVuSans-2e\"/>\n       <use x=\"159.033203\" xlink:href=\"#DejaVuSans-30\"/>\n      </g>\n     </g>\n    </g>\n    <g id=\"xtick_6\">\n     <g id=\"line2d_6\">\n      <g>\n       <use style=\"stroke:#000000;stroke-width:0.8;\" x=\"233.351826\" xlink:href=\"#m83250357ea\" y=\"228.14\"/>\n      </g>\n     </g>\n     <g id=\"text_6\">\n      <!-- 12.5 -->\n      <g transform=\"translate(222.219014 242.738437)scale(0.1 -0.1)\">\n       <use xlink:href=\"#DejaVuSans-31\"/>\n       <use x=\"63.623047\" xlink:href=\"#DejaVuSans-32\"/>\n       <use x=\"127.246094\" xlink:href=\"#DejaVuSans-2e\"/>\n       <use x=\"159.033203\" xlink:href=\"#DejaVuSans-35\"/>\n      </g>\n     </g>\n    </g>\n    <g id=\"xtick_7\">\n     <g id=\"line2d_7\">\n      <g>\n       <use style=\"stroke:#000000;stroke-width:0.8;\" x=\"272.477444\" xlink:href=\"#m83250357ea\" y=\"228.14\"/>\n      </g>\n     </g>\n     <g id=\"text_7\">\n      <!-- 15.0 -->\n      <g transform=\"translate(261.344632 242.738437)scale(0.1 -0.1)\">\n       <use xlink:href=\"#DejaVuSans-31\"/>\n       <use x=\"63.623047\" xlink:href=\"#DejaVuSans-35\"/>\n       <use x=\"127.246094\" xlink:href=\"#DejaVuSans-2e\"/>\n       <use x=\"159.033203\" xlink:href=\"#DejaVuSans-30\"/>\n      </g>\n     </g>\n    </g>\n    <g id=\"xtick_8\">\n     <g id=\"line2d_8\">\n      <g>\n       <use style=\"stroke:#000000;stroke-width:0.8;\" x=\"311.603062\" xlink:href=\"#m83250357ea\" y=\"228.14\"/>\n      </g>\n     </g>\n     <g id=\"text_8\">\n      <!-- 17.5 -->\n      <g transform=\"translate(300.47025 242.738437)scale(0.1 -0.1)\">\n       <use xlink:href=\"#DejaVuSans-31\"/>\n       <use x=\"63.623047\" xlink:href=\"#DejaVuSans-37\"/>\n       <use x=\"127.246094\" xlink:href=\"#DejaVuSans-2e\"/>\n       <use x=\"159.033203\" xlink:href=\"#DejaVuSans-35\"/>\n      </g>\n     </g>\n    </g>\n    <g id=\"xtick_9\">\n     <g id=\"line2d_9\">\n      <g>\n       <use style=\"stroke:#000000;stroke-width:0.8;\" x=\"350.72868\" xlink:href=\"#m83250357ea\" y=\"228.14\"/>\n      </g>\n     </g>\n     <g id=\"text_9\">\n      <!-- 20.0 -->\n      <g transform=\"translate(339.595868 242.738437)scale(0.1 -0.1)\">\n       <use xlink:href=\"#DejaVuSans-32\"/>\n       <use x=\"63.623047\" xlink:href=\"#DejaVuSans-30\"/>\n       <use x=\"127.246094\" xlink:href=\"#DejaVuSans-2e\"/>\n       <use x=\"159.033203\" xlink:href=\"#DejaVuSans-30\"/>\n      </g>\n     </g>\n    </g>\n   </g>\n   <g id=\"matplotlib.axis_2\">\n    <g id=\"ytick_1\">\n     <g id=\"line2d_10\">\n      <defs>\n       <path d=\"M 0 0 \nL -3.5 0 \n\" id=\"m320438cbaa\" style=\"stroke:#000000;stroke-width:0.8;\"/>\n      </defs>\n      <g>\n       <use style=\"stroke:#000000;stroke-width:0.8;\" x=\"26.925\" xlink:href=\"#m320438cbaa\" y=\"224.03069\"/>\n      </g>\n     </g>\n     <g id=\"text_10\">\n      <!-- 0 -->\n      <g transform=\"translate(13.5625 227.829909)scale(0.1 -0.1)\">\n       <use xlink:href=\"#DejaVuSans-30\"/>\n      </g>\n     </g>\n    </g>\n    <g id=\"ytick_2\">\n     <g id=\"line2d_11\">\n      <g>\n       <use style=\"stroke:#000000;stroke-width:0.8;\" x=\"26.925\" xlink:href=\"#m320438cbaa\" y=\"196.292982\"/>\n      </g>\n     </g>\n     <g id=\"text_11\">\n      <!-- 2 -->\n      <g transform=\"translate(13.5625 200.0922)scale(0.1 -0.1)\">\n       <use xlink:href=\"#DejaVuSans-32\"/>\n      </g>\n     </g>\n    </g>\n    <g id=\"ytick_3\">\n     <g id=\"line2d_12\">\n      <g>\n       <use style=\"stroke:#000000;stroke-width:0.8;\" x=\"26.925\" xlink:href=\"#m320438cbaa\" y=\"168.555273\"/>\n      </g>\n     </g>\n     <g id=\"text_12\">\n      <!-- 4 -->\n      <defs>\n       <path d=\"M 37.796875 64.3125 \nL 12.890625 25.390625 \nL 37.796875 25.390625 \nz\nM 35.203125 72.90625 \nL 47.609375 72.90625 \nL 47.609375 25.390625 \nL 58.015625 25.390625 \nL 58.015625 17.1875 \nL 47.609375 17.1875 \nL 47.609375 0 \nL 37.796875 0 \nL 37.796875 17.1875 \nL 4.890625 17.1875 \nL 4.890625 26.703125 \nz\n\" id=\"DejaVuSans-34\"/>\n      </defs>\n      <g transform=\"translate(13.5625 172.354492)scale(0.1 -0.1)\">\n       <use xlink:href=\"#DejaVuSans-34\"/>\n      </g>\n     </g>\n    </g>\n    <g id=\"ytick_4\">\n     <g id=\"line2d_13\">\n      <g>\n       <use style=\"stroke:#000000;stroke-width:0.8;\" x=\"26.925\" xlink:href=\"#m320438cbaa\" y=\"140.817565\"/>\n      </g>\n     </g>\n     <g id=\"text_13\">\n      <!-- 6 -->\n      <defs>\n       <path d=\"M 33.015625 40.375 \nQ 26.375 40.375 22.484375 35.828125 \nQ 18.609375 31.296875 18.609375 23.390625 \nQ 18.609375 15.53125 22.484375 10.953125 \nQ 26.375 6.390625 33.015625 6.390625 \nQ 39.65625 6.390625 43.53125 10.953125 \nQ 47.40625 15.53125 47.40625 23.390625 \nQ 47.40625 31.296875 43.53125 35.828125 \nQ 39.65625 40.375 33.015625 40.375 \nz\nM 52.59375 71.296875 \nL 52.59375 62.3125 \nQ 48.875 64.0625 45.09375 64.984375 \nQ 41.3125 65.921875 37.59375 65.921875 \nQ 27.828125 65.921875 22.671875 59.328125 \nQ 17.53125 52.734375 16.796875 39.40625 \nQ 19.671875 43.65625 24.015625 45.921875 \nQ 28.375 48.1875 33.59375 48.1875 \nQ 44.578125 48.1875 50.953125 41.515625 \nQ 57.328125 34.859375 57.328125 23.390625 \nQ 57.328125 12.15625 50.6875 5.359375 \nQ 44.046875 -1.421875 33.015625 -1.421875 \nQ 20.359375 -1.421875 13.671875 8.265625 \nQ 6.984375 17.96875 6.984375 36.375 \nQ 6.984375 53.65625 15.1875 63.9375 \nQ 23.390625 74.21875 37.203125 74.21875 \nQ 40.921875 74.21875 44.703125 73.484375 \nQ 48.484375 72.75 52.59375 71.296875 \nz\n\" id=\"DejaVuSans-36\"/>\n      </defs>\n      <g transform=\"translate(13.5625 144.616783)scale(0.1 -0.1)\">\n       <use xlink:href=\"#DejaVuSans-36\"/>\n      </g>\n     </g>\n    </g>\n    <g id=\"ytick_5\">\n     <g id=\"line2d_14\">\n      <g>\n       <use style=\"stroke:#000000;stroke-width:0.8;\" x=\"26.925\" xlink:href=\"#m320438cbaa\" y=\"113.079856\"/>\n      </g>\n     </g>\n     <g id=\"text_14\">\n      <!-- 8 -->\n      <defs>\n       <path d=\"M 31.78125 34.625 \nQ 24.75 34.625 20.71875 30.859375 \nQ 16.703125 27.09375 16.703125 20.515625 \nQ 16.703125 13.921875 20.71875 10.15625 \nQ 24.75 6.390625 31.78125 6.390625 \nQ 38.8125 6.390625 42.859375 10.171875 \nQ 46.921875 13.96875 46.921875 20.515625 \nQ 46.921875 27.09375 42.890625 30.859375 \nQ 38.875 34.625 31.78125 34.625 \nz\nM 21.921875 38.8125 \nQ 15.578125 40.375 12.03125 44.71875 \nQ 8.5 49.078125 8.5 55.328125 \nQ 8.5 64.0625 14.71875 69.140625 \nQ 20.953125 74.21875 31.78125 74.21875 \nQ 42.671875 74.21875 48.875 69.140625 \nQ 55.078125 64.0625 55.078125 55.328125 \nQ 55.078125 49.078125 51.53125 44.71875 \nQ 48 40.375 41.703125 38.8125 \nQ 48.828125 37.15625 52.796875 32.3125 \nQ 56.78125 27.484375 56.78125 20.515625 \nQ 56.78125 9.90625 50.3125 4.234375 \nQ 43.84375 -1.421875 31.78125 -1.421875 \nQ 19.734375 -1.421875 13.25 4.234375 \nQ 6.78125 9.90625 6.78125 20.515625 \nQ 6.78125 27.484375 10.78125 32.3125 \nQ 14.796875 37.15625 21.921875 38.8125 \nz\nM 18.3125 54.390625 \nQ 18.3125 48.734375 21.84375 45.5625 \nQ 25.390625 42.390625 31.78125 42.390625 \nQ 38.140625 42.390625 41.71875 45.5625 \nQ 45.3125 48.734375 45.3125 54.390625 \nQ 45.3125 60.0625 41.71875 63.234375 \nQ 38.140625 66.40625 31.78125 66.40625 \nQ 25.390625 66.40625 21.84375 63.234375 \nQ 18.3125 60.0625 18.3125 54.390625 \nz\n\" id=\"DejaVuSans-38\"/>\n      </defs>\n      <g transform=\"translate(13.5625 116.879075)scale(0.1 -0.1)\">\n       <use xlink:href=\"#DejaVuSans-38\"/>\n      </g>\n     </g>\n    </g>\n    <g id=\"ytick_6\">\n     <g id=\"line2d_15\">\n      <g>\n       <use style=\"stroke:#000000;stroke-width:0.8;\" x=\"26.925\" xlink:href=\"#m320438cbaa\" y=\"85.342148\"/>\n      </g>\n     </g>\n     <g id=\"text_15\">\n      <!-- 10 -->\n      <g transform=\"translate(7.2 89.141366)scale(0.1 -0.1)\">\n       <use xlink:href=\"#DejaVuSans-31\"/>\n       <use x=\"63.623047\" xlink:href=\"#DejaVuSans-30\"/>\n      </g>\n     </g>\n    </g>\n    <g id=\"ytick_7\">\n     <g id=\"line2d_16\">\n      <g>\n       <use style=\"stroke:#000000;stroke-width:0.8;\" x=\"26.925\" xlink:href=\"#m320438cbaa\" y=\"57.604439\"/>\n      </g>\n     </g>\n     <g id=\"text_16\">\n      <!-- 12 -->\n      <g transform=\"translate(7.2 61.403658)scale(0.1 -0.1)\">\n       <use xlink:href=\"#DejaVuSans-31\"/>\n       <use x=\"63.623047\" xlink:href=\"#DejaVuSans-32\"/>\n      </g>\n     </g>\n    </g>\n    <g id=\"ytick_8\">\n     <g id=\"line2d_17\">\n      <g>\n       <use style=\"stroke:#000000;stroke-width:0.8;\" x=\"26.925\" xlink:href=\"#m320438cbaa\" y=\"29.866731\"/>\n      </g>\n     </g>\n     <g id=\"text_17\">\n      <!-- 14 -->\n      <g transform=\"translate(7.2 33.66595)scale(0.1 -0.1)\">\n       <use xlink:href=\"#DejaVuSans-31\"/>\n       <use x=\"63.623047\" xlink:href=\"#DejaVuSans-34\"/>\n      </g>\n     </g>\n    </g>\n   </g>\n   <g id=\"patch_3\">\n    <path d=\"M 26.925 228.14 \nL 26.925 10.7 \n\" style=\"fill:none;stroke:#000000;stroke-linecap:square;stroke-linejoin:miter;stroke-width:0.8;\"/>\n   </g>\n   <g id=\"patch_4\">\n    <path d=\"M 361.725 228.14 \nL 361.725 10.7 \n\" style=\"fill:none;stroke:#000000;stroke-linecap:square;stroke-linejoin:miter;stroke-width:0.8;\"/>\n   </g>\n   <g id=\"patch_5\">\n    <path d=\"M 26.925 228.14 \nL 361.725 228.14 \n\" style=\"fill:none;stroke:#000000;stroke-linecap:square;stroke-linejoin:miter;stroke-width:0.8;\"/>\n   </g>\n   <g id=\"patch_6\">\n    <path d=\"M 26.925 10.7 \nL 361.725 10.7 \n\" style=\"fill:none;stroke:#000000;stroke-linecap:square;stroke-linejoin:miter;stroke-width:0.8;\"/>\n   </g>\n  </g>\n </g>\n <defs>\n  <clipPath id=\"p8bc4885b32\">\n   <rect height=\"217.44\" width=\"334.8\" x=\"26.925\" y=\"10.7\"/>\n  </clipPath>\n </defs>\n</svg>\n"
          },
          "metadata": {
            "tags": [],
            "needs_background": "light"
          }
        }
      ]
    },
    {
      "cell_type": "markdown",
      "metadata": {
        "id": "PoyLG2pntPtw"
      },
      "source": [
        "You can even create contour plots to visualise 3D data"
      ]
    },
    {
      "cell_type": "code",
      "metadata": {
        "id": "USI2ebwMtPtw"
      },
      "source": [
        "def func(x,y):\n",
        "    return np.sin(x * y) ** 2 + np.cos(10 + x) * np.cos(10 + y)"
      ],
      "execution_count": null,
      "outputs": []
    },
    {
      "cell_type": "code",
      "metadata": {
        "id": "v3depjvFtPtz",
        "outputId": "639b8646-d2f1-4b87-8888-106b5d7475a8"
      },
      "source": [
        "x = np.linspace(0,4,30)\n",
        "y = np.linspace(0,4,25)\n",
        "\n",
        "X,Y = np.meshgrid(x,y)\n",
        "Z = func(X,Y)\n",
        "\n",
        "plt.contourf(X, Y, Z, 20, cmap = 'hsv')\n",
        "plt.colorbar()\n"
      ],
      "execution_count": null,
      "outputs": [
        {
          "output_type": "execute_result",
          "data": {
            "text/plain": [
              "<matplotlib.colorbar.Colorbar at 0x7f4768c6f510>"
            ]
          },
          "metadata": {
            "tags": []
          },
          "execution_count": 11
        },
        {
          "output_type": "display_data",
          "data": {
            "image/png": "[encoded data removed]",
            "text/plain": [
              "<Figure size 432x288 with 2 Axes>"
            ],
            "image/svg+xml": "<?xml version=\"1.0\" encoding=\"utf-8\" standalone=\"no\"?>\n<!DOCTYPE svg PUBLIC \"-//W3C//DTD SVG 1.1//EN\"\n  \"http://www.w3.org/Graphics/SVG/1.1/DTD/svg11.dtd\">\n<!-- Created with matplotlib (http://matplotlib.org/) -->\n<svg height=\"252.317344pt\" version=\"1.1\" viewBox=\"0 0 364.037937 252.317344\" width=\"364.037937pt\" xmlns=\"http://www.w3.org/2000/svg\" xmlns:xlink=\"http://www.w3.org/1999/xlink\">\n <defs>\n  <style type=\"text/css\">\n*{stroke-linecap:butt;stroke-linejoin:round;}\n  </style>\n </defs>\n <g id=\"figure_1\">\n  <g id=\"patch_1\">\n   <path d=\"M 0 252.317344 \nL 364.037937 252.317344 \nL 364.037937 0 \nL 0 0 \nz\n\" style=\"fill:none;\"/>\n  </g>\n  <g id=\"axes_1\">\n   <g id=\"patch_2\">\n    <path d=\"M 30.103125 228.439219 \nL 297.943125 228.439219 \nL 297.943125 10.999219 \nL 30.103125 10.999219 \nz\n\" style=\"fill:#ffffff;\"/>\n   </g>\n   <g id=\"PathCollection_1\">\n    <path clip-path=\"url(#p24e62a577f)\" d=\"M 177.876918 228.439219 \nL 187.11278 228.439219 \nL 196.348642 228.439219 \nL 205.584504 228.439219 \nL 214.820366 228.439219 \nL 224.056228 228.439219 \nL 233.046641 228.439219 \nL 224.056228 227.168353 \nL 214.820366 226.19295 \nL 205.584504 225.604028 \nL 196.348642 225.473993 \nL 187.11278 225.898529 \nL 177.876918 227.010036 \nL 171.064044 228.439219 \nz\n\" style=\"fill:#ff2300;\"/>\n    <path clip-path=\"url(#p24e62a577f)\" d=\"M 31.403102 110.659219 \nL 33.498643 101.599219 \nL 34.195453 92.539219 \nL 33.805982 83.479219 \nL 32.539871 74.419219 \nL 30.548291 65.359219 \nL 30.103125 63.861487 \nL 30.103125 65.359219 \nL 30.103125 74.419219 \nL 30.103125 83.479219 \nL 30.103125 92.539219 \nL 30.103125 101.599219 \nL 30.103125 110.659219 \nL 30.103125 113.861657 \nz\n\" style=\"fill:#ff2300;\"/>\n   </g>\n   <g id=\"PathCollection_2\">\n    <path clip-path=\"url(#p24e62a577f)\" d=\"M 150.169332 228.439219 \nL 159.405194 228.439219 \nL 168.641056 228.439219 \nL 171.064044 228.439219 \nL 177.876918 227.010036 \nL 187.11278 225.898529 \nL 196.348642 225.473993 \nL 205.584504 225.604028 \nL 214.820366 226.19295 \nL 224.056228 227.168353 \nL 233.046641 228.439219 \nL 233.292091 228.439219 \nL 242.527953 228.439219 \nL 251.763815 228.439219 \nL 253.674334 228.439219 \nL 251.763815 227.98908 \nL 242.527953 226.037838 \nL 233.292091 224.298882 \nL 224.056228 222.810893 \nL 214.820366 221.615774 \nL 205.584504 220.762182 \nL 196.348642 220.310509 \nL 187.11278 220.340188 \nL 177.876918 220.960967 \nL 168.641056 222.331232 \nL 159.405194 224.689574 \nL 150.169332 228.412718 \nL 150.119364 228.439219 \nz\n\" style=\"fill:#ff7600;\"/>\n    <path clip-path=\"url(#p24e62a577f)\" d=\"M 31.855907 128.779219 \nL 37.031855 119.719219 \nL 39.338987 112.630254 \nL 39.628196 110.659219 \nL 40.271529 101.599219 \nL 40.301208 92.539219 \nL 39.852129 83.479219 \nL 39.338987 78.061048 \nL 38.698582 74.419219 \nL 36.399187 65.359219 \nL 33.553764 56.299219 \nL 30.252544 47.239219 \nL 30.103125 46.881051 \nL 30.103125 47.239219 \nL 30.103125 56.299219 \nL 30.103125 63.861487 \nL 30.548291 65.359219 \nL 32.539871 74.419219 \nL 33.805982 83.479219 \nL 34.195453 92.539219 \nL 33.498643 101.599219 \nL 31.403102 110.659219 \nL 30.103125 113.861657 \nL 30.103125 119.719219 \nL 30.103125 128.779219 \nL 30.103125 130.875683 \nz\n\" style=\"fill:#ff7600;\"/>\n   </g>\n   <g id=\"PathCollection_3\">\n    <path clip-path=\"url(#p24e62a577f)\" d=\"M 140.93347 228.439219 \nL 150.119364 228.439219 \nL 150.169332 228.412718 \nL 159.405194 224.689574 \nL 168.641056 222.331232 \nL 177.876918 220.960967 \nL 187.11278 220.340188 \nL 196.348642 220.310509 \nL 205.584504 220.762182 \nL 214.820366 221.615774 \nL 224.056228 222.810893 \nL 233.292091 224.298882 \nL 242.527953 226.037838 \nL 251.763815 227.98908 \nL 253.674334 228.439219 \nL 260.999677 228.439219 \nL 269.181535 228.439219 \nL 260.999677 226.342255 \nL 251.763815 224.10289 \nL 242.527953 222.019458 \nL 233.292091 220.125313 \nL 229.071868 219.379219 \nL 224.056228 218.878334 \nL 214.820366 218.128605 \nL 205.584504 217.550517 \nL 196.348642 217.161845 \nL 187.11278 216.98977 \nL 177.876918 217.074701 \nL 168.641056 217.476546 \nL 159.405194 218.285284 \nL 151.777035 219.379219 \nL 150.169332 219.897218 \nL 140.93347 224.182926 \nL 134.761963 228.439219 \nz\n\" style=\"fill:#ffc300;\"/>\n    <path clip-path=\"url(#p24e62a577f)\" d=\"M 36.514233 137.839219 \nL 39.338987 134.305357 \nL 41.208488 128.779219 \nL 43.066444 119.719219 \nL 43.964632 110.659219 \nL 44.178124 101.599219 \nL 43.876432 92.539219 \nL 43.169085 83.479219 \nL 42.12976 74.419219 \nL 40.809915 65.359219 \nL 39.338987 56.854553 \nL 39.156947 56.299219 \nL 35.653584 47.239219 \nL 31.818847 38.179219 \nL 30.103125 34.428636 \nL 30.103125 38.179219 \nL 30.103125 46.881051 \nL 30.252544 47.239219 \nL 33.553764 56.299219 \nL 36.399187 65.359219 \nL 38.698582 74.419219 \nL 39.338987 78.061048 \nL 39.852129 83.479219 \nL 40.301208 92.539219 \nL 40.271529 101.599219 \nL 39.628196 110.659219 \nL 39.338987 112.630254 \nL 37.031855 119.719219 \nL 31.855907 128.779219 \nL 30.103125 130.875683 \nL 30.103125 137.839219 \nL 30.103125 143.432992 \nz\n\" style=\"fill:#ffc300;\"/>\n   </g>\n   <g id=\"PathCollection_4\">\n    <path clip-path=\"url(#p24e62a577f)\" d=\"M 122.461746 228.439219 \nL 131.697608 228.439219 \nL 134.761963 228.439219 \nL 140.93347 224.182926 \nL 150.169332 219.897218 \nL 151.777035 219.379219 \nL 159.405194 218.285284 \nL 168.641056 217.476546 \nL 177.876918 217.074701 \nL 187.11278 216.98977 \nL 196.348642 217.161845 \nL 205.584504 217.550517 \nL 214.820366 218.128605 \nL 224.056228 218.878334 \nL 229.071868 219.379219 \nL 233.292091 220.125313 \nL 242.527953 222.019458 \nL 251.763815 224.10289 \nL 260.999677 226.342255 \nL 269.181535 228.439219 \nL 270.235539 228.439219 \nL 279.471401 228.439219 \nL 282.592685 228.439219 \nL 279.471401 227.560067 \nL 270.235539 225.029396 \nL 260.999677 222.569936 \nL 251.763815 220.2167 \nL 248.199833 219.379219 \nL 242.527953 218.608719 \nL 233.292091 217.496904 \nL 224.056228 216.520783 \nL 214.820366 215.682981 \nL 205.584504 214.990645 \nL 196.348642 214.45654 \nL 187.11278 214.100864 \nL 177.876918 213.95422 \nL 168.641056 214.062496 \nL 159.405194 214.495115 \nL 150.169332 215.359577 \nL 140.93347 216.828524 \nL 131.697608 219.193815 \nL 131.151748 219.379219 \nL 122.461746 227.017031 \nL 121.274274 228.439219 \nz\n\" style=\"fill:#e8ff00;\"/>\n    <path clip-path=\"url(#p24e62a577f)\" d=\"M 39.338987 148.890111 \nL 40.633517 146.899219 \nL 44.66223 137.839219 \nL 46.879437 128.779219 \nL 47.970125 119.719219 \nL 48.301068 110.659219 \nL 48.084718 101.599219 \nL 47.451656 92.539219 \nL 46.486041 83.479219 \nL 45.244405 74.419219 \nL 43.766274 65.359219 \nL 42.080531 56.299219 \nL 40.209419 47.239219 \nL 39.338987 43.426128 \nL 37.051729 38.179219 \nL 32.830147 29.119219 \nL 30.103125 23.489085 \nL 30.103125 29.119219 \nL 30.103125 34.428636 \nL 31.818847 38.179219 \nL 35.653584 47.239219 \nL 39.156947 56.299219 \nL 39.338987 56.854553 \nL 40.809915 65.359219 \nL 42.12976 74.419219 \nL 43.169085 83.479219 \nL 43.876432 92.539219 \nL 44.178124 101.599219 \nL 43.964632 110.659219 \nL 43.066444 119.719219 \nL 41.208488 128.779219 \nL 39.338987 134.305357 \nL 36.514233 137.839219 \nL 30.103125 143.432992 \nL 30.103125 146.899219 \nL 30.103125 154.398972 \nz\n\" style=\"fill:#e8ff00;\"/>\n   </g>\n   <g id=\"PathCollection_5\">\n    <path clip-path=\"url(#p24e62a577f)\" d=\"M 113.225884 228.439219 \nL 121.274274 228.439219 \nL 122.461746 227.017031 \nL 131.151748 219.379219 \nL 131.697608 219.193815 \nL 140.93347 216.828524 \nL 150.169332 215.359577 \nL 159.405194 214.495115 \nL 168.641056 214.062496 \nL 177.876918 213.95422 \nL 187.11278 214.100864 \nL 196.348642 214.45654 \nL 205.584504 214.990645 \nL 214.820366 215.682981 \nL 224.056228 216.520783 \nL 233.292091 217.496904 \nL 242.527953 218.608719 \nL 248.199833 219.379219 \nL 251.763815 220.2167 \nL 260.999677 222.569936 \nL 270.235539 225.029396 \nL 279.471401 227.560067 \nL 282.592685 228.439219 \nL 288.707263 228.439219 \nL 295.065524 228.439219 \nL 288.707263 226.618866 \nL 279.471401 223.975701 \nL 270.235539 221.356562 \nL 263.055784 219.379219 \nL 260.999677 219.038507 \nL 251.763815 217.637979 \nL 242.527953 216.362097 \nL 233.292091 215.204846 \nL 224.056228 214.163233 \nL 214.820366 213.237357 \nL 205.584504 212.430774 \nL 196.348642 211.751235 \nL 187.11278 211.211958 \nL 177.876918 210.83374 \nL 168.641056 210.648446 \nL 159.405194 210.704946 \nL 150.169332 211.079583 \nL 140.93347 211.895696 \nL 131.697608 213.362656 \nL 122.461746 215.861439 \nL 114.58781 219.379219 \nL 113.225884 221.112004 \nL 108.830419 228.439219 \nz\n\" style=\"fill:#9cff00;\"/>\n    <path clip-path=\"url(#p24e62a577f)\" d=\"M 39.338987 161.294156 \nL 44.184511 155.959219 \nL 48.574849 147.822522 \nL 48.852702 146.899219 \nL 50.681813 137.839219 \nL 51.609635 128.779219 \nL 51.949198 119.719219 \nL 51.864272 110.659219 \nL 51.440631 101.599219 \nL 50.717322 92.539219 \nL 49.700197 83.479219 \nL 48.574849 75.847327 \nL 48.359051 74.419219 \nL 46.722634 65.359219 \nL 44.914135 56.299219 \nL 42.949648 47.239219 \nL 40.842924 38.179219 \nL 39.338987 32.121434 \nL 37.919256 29.119219 \nL 33.445002 20.059219 \nL 30.103125 13.343473 \nL 30.103125 20.059219 \nL 30.103125 23.489085 \nL 32.830147 29.119219 \nL 37.051729 38.179219 \nL 39.338987 43.426128 \nL 40.209419 47.239219 \nL 42.080531 56.299219 \nL 43.766274 65.359219 \nL 45.244405 74.419219 \nL 46.486041 83.479219 \nL 47.451656 92.539219 \nL 48.084718 101.599219 \nL 48.301068 110.659219 \nL 47.970125 119.719219 \nL 46.879437 128.779219 \nL 44.66223 137.839219 \nL 40.633517 146.899219 \nL 39.338987 148.890111 \nL 30.103125 154.398972 \nL 30.103125 155.959219 \nL 30.103125 164.540666 \nz\n\" style=\"fill:#9cff00;\"/>\n   </g>\n   <g id=\"PathCollection_6\">\n    <path clip-path=\"url(#p24e62a577f)\" d=\"M 103.990022 228.439219 \nL 108.830419 228.439219 \nL 113.225884 221.112004 \nL 114.58781 219.379219 \nL 122.461746 215.861439 \nL 131.697608 213.362656 \nL 140.93347 211.895696 \nL 150.169332 211.079583 \nL 159.405194 210.704946 \nL 168.641056 210.648446 \nL 177.876918 210.83374 \nL 187.11278 211.211958 \nL 196.348642 211.751235 \nL 205.584504 212.430774 \nL 214.820366 213.237357 \nL 224.056228 214.163233 \nL 233.292091 215.204846 \nL 242.527953 216.362097 \nL 251.763815 217.637979 \nL 260.999677 219.038507 \nL 263.055784 219.379219 \nL 270.235539 221.356562 \nL 279.471401 223.975701 \nL 288.707263 226.618866 \nL 295.065524 228.439219 \nL 297.943125 228.439219 \nL 297.943125 225.816347 \nL 288.707263 223.114881 \nL 279.471401 220.391335 \nL 275.966121 219.379219 \nL 270.235539 218.355674 \nL 260.999677 216.828623 \nL 251.763815 215.41842 \nL 242.527953 214.115475 \nL 233.292091 212.912788 \nL 224.056228 211.805682 \nL 214.820366 210.791733 \nL 209.97582 210.319219 \nL 205.584504 209.828608 \nL 196.348642 209.019357 \nL 187.11278 208.399854 \nL 177.876918 207.940713 \nL 168.641056 207.629484 \nL 159.405194 207.468705 \nL 150.169332 207.47758 \nL 140.93347 207.69818 \nL 131.697608 208.209619 \nL 122.461746 209.159364 \nL 115.679732 210.319219 \nL 113.225884 211.05064 \nL 103.990022 215.562558 \nL 99.465655 219.379219 \nL 96.769598 228.439219 \nz\n\" style=\"fill:#49ff00;\"/>\n    <path clip-path=\"url(#p24e62a577f)\" d=\"M 260.999677 183.906233 \nL 270.235539 184.692386 \nL 279.471401 185.000522 \nL 288.707263 184.5817 \nL 295.426567 183.139219 \nL 288.707263 182.413741 \nL 279.471401 181.578047 \nL 270.235539 180.905055 \nL 260.999677 180.808298 \nL 255.363339 183.139219 \nz\n\" style=\"fill:#49ff00;\"/>\n    <path clip-path=\"url(#p24e62a577f)\" d=\"M 31.88286 174.079219 \nL 39.338987 172.89129 \nL 48.574849 166.341192 \nL 49.413325 165.019219 \nL 53.103575 155.959219 \nL 54.887143 146.899219 \nL 55.699081 137.839219 \nL 55.93864 128.779219 \nL 55.798209 119.719219 \nL 55.375368 110.659219 \nL 54.717543 101.599219 \nL 53.841191 92.539219 \nL 52.739512 83.479219 \nL 51.383546 74.419219 \nL 49.717743 65.359219 \nL 48.574849 60.273756 \nL 47.747738 56.299219 \nL 45.689878 47.239219 \nL 43.514659 38.179219 \nL 41.231546 29.119219 \nL 39.338987 21.932475 \nL 38.406526 20.059219 \nL 33.807457 10.999219 \nL 30.103125 10.999219 \nL 30.103125 13.343473 \nL 33.445002 20.059219 \nL 37.919256 29.119219 \nL 39.338987 32.121434 \nL 40.842924 38.179219 \nL 42.949648 47.239219 \nL 44.914135 56.299219 \nL 46.722634 65.359219 \nL 48.359051 74.419219 \nL 48.574849 75.847327 \nL 49.700197 83.479219 \nL 50.717322 92.539219 \nL 51.440631 101.599219 \nL 51.864272 110.659219 \nL 51.949198 119.719219 \nL 51.609635 128.779219 \nL 50.681813 137.839219 \nL 48.852702 146.899219 \nL 48.574849 147.822522 \nL 44.184511 155.959219 \nL 39.338987 161.294156 \nL 30.103125 164.540666 \nL 30.103125 165.019219 \nL 30.103125 174.079219 \nL 30.103125 174.32083 \nz\n\" style=\"fill:#49ff00;\"/>\n    <path clip-path=\"url(#p24e62a577f)\" d=\"M 94.754159 59.557752 \nL 95.479469 56.299219 \nL 95.16445 47.239219 \nL 94.754159 44.562987 \nL 90.597582 47.239219 \nL 93.468602 56.299219 \nz\n\" style=\"fill:#49ff00;\"/>\n    <path clip-path=\"url(#p24e62a577f)\" d=\"M 85.518297 44.326146 \nL 90.315944 38.179219 \nL 88.469892 29.119219 \nL 86.926542 20.059219 \nL 85.518297 11.889201 \nL 83.095443 20.059219 \nL 83.2203 29.119219 \nL 84.284191 38.179219 \nz\n\" style=\"fill:#49ff00;\"/>\n   </g>\n   <g id=\"PathCollection_7\">\n    <path clip-path=\"url(#p24e62a577f)\" d=\"M 85.518297 228.439219 \nL 94.754159 228.439219 \nL 96.769598 228.439219 \nL 99.465655 219.379219 \nL 103.990022 215.562558 \nL 113.225884 211.05064 \nL 115.679732 210.319219 \nL 122.461746 209.159364 \nL 131.697608 208.209619 \nL 140.93347 207.69818 \nL 150.169332 207.47758 \nL 159.405194 207.468705 \nL 168.641056 207.629484 \nL 177.876918 207.940713 \nL 187.11278 208.399854 \nL 196.348642 209.019357 \nL 205.584504 209.828608 \nL 209.97582 210.319219 \nL 214.820366 210.791733 \nL 224.056228 211.805682 \nL 233.292091 212.912788 \nL 242.527953 214.115475 \nL 251.763815 215.41842 \nL 260.999677 216.828623 \nL 270.235539 218.355674 \nL 275.966121 219.379219 \nL 279.471401 220.391335 \nL 288.707263 223.114881 \nL 297.943125 225.816347 \nL 297.943125 222.387228 \nL 288.707263 219.610897 \nL 287.928109 219.379219 \nL 279.471401 217.770388 \nL 270.235539 216.138435 \nL 260.999677 214.618738 \nL 251.763815 213.198861 \nL 242.527953 211.868853 \nL 233.292091 210.62073 \nL 230.867221 210.319219 \nL 224.056228 209.179654 \nL 214.820366 207.976528 \nL 205.584504 207.027235 \nL 196.348642 206.257596 \nL 187.11278 205.622097 \nL 177.876918 205.092595 \nL 168.641056 204.652686 \nL 159.405194 204.295225 \nL 150.169332 204.022047 \nL 140.93347 203.846041 \nL 131.697608 203.796906 \nL 122.461746 203.934538 \nL 113.225884 204.381441 \nL 103.990022 205.411911 \nL 94.754159 207.756826 \nL 89.783104 210.319219 \nL 85.518297 217.340853 \nL 84.740072 219.379219 \nL 84.720673 228.439219 \nz\n\" style=\"fill:#04ff08;\"/>\n    <path clip-path=\"url(#p24e62a577f)\" d=\"M 39.338987 184.2721 \nL 45.213969 183.139219 \nL 48.574849 182.26591 \nL 56.840548 174.079219 \nL 57.810711 171.834485 \nL 59.38003 165.019219 \nL 60.27025 155.959219 \nL 60.537405 146.899219 \nL 60.464062 137.839219 \nL 60.161443 128.779219 \nL 59.666278 119.719219 \nL 58.970562 110.659219 \nL 58.025069 101.599219 \nL 57.810711 100.044613 \nL 56.96506 92.539219 \nL 55.778827 83.479219 \nL 54.40133 74.419219 \nL 52.777856 65.359219 \nL 50.822467 56.299219 \nL 48.574849 47.868136 \nL 48.430107 47.239219 \nL 46.186394 38.179219 \nL 43.85636 29.119219 \nL 41.447954 20.059219 \nL 39.338987 12.349038 \nL 38.650469 10.999219 \nL 33.807457 10.999219 \nL 38.406526 20.059219 \nL 39.338987 21.932475 \nL 41.231546 29.119219 \nL 43.514659 38.179219 \nL 45.689878 47.239219 \nL 47.747738 56.299219 \nL 48.574849 60.273756 \nL 49.717743 65.359219 \nL 51.383546 74.419219 \nL 52.739512 83.479219 \nL 53.841191 92.539219 \nL 54.717543 101.599219 \nL 55.375368 110.659219 \nL 55.798209 119.719219 \nL 55.93864 128.779219 \nL 55.699081 137.839219 \nL 54.887143 146.899219 \nL 53.103575 155.959219 \nL 49.413325 165.019219 \nL 48.574849 166.341192 \nL 39.338987 172.89129 \nL 31.88286 174.079219 \nL 30.103125 174.32083 \nL 30.103125 183.139219 \nL 30.103125 184.106429 \nz\n\" style=\"fill:#04ff08;\"/>\n    <path clip-path=\"url(#p24e62a577f)\" d=\"M 242.527953 184.473551 \nL 251.763815 186.151496 \nL 260.999677 187.441309 \nL 270.235539 188.492412 \nL 279.471401 189.405517 \nL 288.707263 190.276921 \nL 297.943125 191.301596 \nL 297.943125 183.139219 \nL 297.943125 180.939205 \nL 288.707263 179.549398 \nL 279.471401 177.883348 \nL 270.235539 175.438882 \nL 266.544253 174.079219 \nL 260.999677 173.246394 \nL 251.763815 172.049367 \nL 242.527953 170.920722 \nL 233.292091 169.832962 \nL 224.056228 168.945758 \nL 214.820366 172.200336 \nL 214.306068 174.079219 \nL 214.820366 174.293371 \nL 224.056228 177.554811 \nL 233.292091 181.198 \nL 237.002537 183.139219 \nz\nM 255.363339 183.139219 \nL 260.999677 180.808298 \nL 270.235539 180.905055 \nL 279.471401 181.578047 \nL 288.707263 182.413741 \nL 295.426567 183.139219 \nL 288.707263 184.5817 \nL 279.471401 185.000522 \nL 270.235539 184.692386 \nL 260.999677 183.906233 \nz\n\" style=\"fill:#04ff08;\"/>\n    <path clip-path=\"url(#p24e62a577f)\" d=\"M 297.943125 146.993275 \nL 297.943125 146.899219 \nL 297.943125 146.244729 \nL 297.684605 146.899219 \nz\n\" style=\"fill:#04ff08;\"/>\n    <path clip-path=\"url(#p24e62a577f)\" d=\"M 297.943125 101.769996 \nL 297.943125 101.599219 \nL 297.943125 101.330857 \nL 297.66301 101.599219 \nz\n\" style=\"fill:#04ff08;\"/>\n    <path clip-path=\"url(#p24e62a577f)\" d=\"M 103.990022 83.81799 \nL 104.270641 83.479219 \nL 105.588998 74.419219 \nL 104.549689 65.359219 \nL 103.990022 62.704861 \nL 101.612766 56.299219 \nL 99.071463 47.239219 \nL 97.00294 38.179219 \nL 94.980047 29.119219 \nL 94.754159 28.254526 \nL 91.231076 20.059219 \nL 88.655898 10.999219 \nL 85.518297 10.999219 \nL 76.282435 10.999219 \nL 75.310709 10.999219 \nL 76.044209 20.059219 \nL 76.282435 21.990156 \nL 77.865163 29.119219 \nL 79.726631 38.179219 \nL 81.757719 47.239219 \nL 84.320311 56.299219 \nL 85.518297 59.520039 \nL 89.042278 65.359219 \nL 93.800447 74.419219 \nL 94.754159 76.006538 \nL 103.679771 83.479219 \nz\nM 93.468602 56.299219 \nL 90.597582 47.239219 \nL 94.754159 44.562987 \nL 95.16445 47.239219 \nL 95.479469 56.299219 \nL 94.754159 59.557752 \nz\nM 84.284191 38.179219 \nL 83.2203 29.119219 \nL 83.095443 20.059219 \nL 85.518297 11.889201 \nL 86.926542 20.059219 \nL 88.469892 29.119219 \nL 90.315944 38.179219 \nL 85.518297 44.326146 \nz\n\" style=\"fill:#04ff08;\"/>\n    <path clip-path=\"url(#p24e62a577f)\" d=\"M 297.943125 57.149744 \nL 297.943125 56.299219 \nL 297.943125 55.761302 \nL 296.7511 56.299219 \nz\n\" style=\"fill:#04ff08;\"/>\n    <path clip-path=\"url(#p24e62a577f)\" d=\"M 131.697608 12.392013 \nL 135.925057 10.999219 \nL 131.697608 10.999219 \nL 130.888215 10.999219 \nz\n\" style=\"fill:#04ff08;\"/>\n    <path clip-path=\"url(#p24e62a577f)\" d=\"M 187.11278 11.392456 \nL 187.681919 10.999219 \nL 187.11278 10.999219 \nL 186.67786 10.999219 \nz\n\" style=\"fill:#04ff08;\"/>\n    <path clip-path=\"url(#p24e62a577f)\" d=\"M 242.527953 11.743027 \nL 243.099273 10.999219 \nL 242.527953 10.999219 \nL 241.284918 10.999219 \nz\n\" style=\"fill:#04ff08;\"/>\n    <path clip-path=\"url(#p24e62a577f)\" d=\"M 288.707263 11.713605 \nL 297.943125 16.9893 \nL 297.943125 10.999219 \nL 288.707263 10.999219 \nL 287.800288 10.999219 \nz\n\" style=\"fill:#04ff08;\"/>\n   </g>\n   <g id=\"PathCollection_8\">\n    <path clip-path=\"url(#p24e62a577f)\" d=\"M 76.282435 228.439219 \nL 84.720673 228.439219 \nL 84.740072 219.379219 \nL 85.518297 217.340853 \nL 89.783104 210.319219 \nL 94.754159 207.756826 \nL 103.990022 205.411911 \nL 113.225884 204.381441 \nL 122.461746 203.934538 \nL 131.697608 203.796906 \nL 140.93347 203.846041 \nL 150.169332 204.022047 \nL 159.405194 204.295225 \nL 168.641056 204.652686 \nL 177.876918 205.092595 \nL 187.11278 205.622097 \nL 196.348642 206.257596 \nL 205.584504 207.027235 \nL 214.820366 207.976528 \nL 224.056228 209.179654 \nL 230.867221 210.319219 \nL 233.292091 210.62073 \nL 242.527953 211.868853 \nL 251.763815 213.198861 \nL 260.999677 214.618738 \nL 270.235539 216.138435 \nL 279.471401 217.770388 \nL 287.928109 219.379219 \nL 288.707263 219.610897 \nL 297.943125 222.387228 \nL 297.943125 219.379219 \nL 297.943125 219.090982 \nL 288.707263 217.245643 \nL 279.471401 215.528523 \nL 270.235539 213.921195 \nL 260.999677 212.408853 \nL 251.763815 210.979302 \nL 247.2435 210.319219 \nL 242.527953 209.13308 \nL 233.292091 207.39078 \nL 224.056228 206.095481 \nL 214.820366 205.072818 \nL 205.584504 204.225863 \nL 196.348642 203.495834 \nL 187.11278 202.844341 \nL 177.876918 202.244476 \nL 168.641056 201.675889 \nL 161.588009 201.259219 \nL 159.405194 201.099376 \nL 150.169332 200.511793 \nL 140.93347 199.977815 \nL 131.697608 199.461639 \nL 122.461746 198.930802 \nL 113.225884 198.34717 \nL 103.990022 197.651285 \nL 94.754159 196.718628 \nL 85.518297 195.173531 \nL 77.835763 192.199219 \nL 76.282435 191.145069 \nL 71.046969 183.139219 \nL 68.966327 174.079219 \nL 67.7075 165.019219 \nL 67.046573 159.424869 \nL 66.702744 155.959219 \nL 65.826619 146.899219 \nL 65.045697 137.839219 \nL 64.303325 128.779219 \nL 63.55523 119.719219 \nL 62.756139 110.659219 \nL 61.847978 101.599219 \nL 60.741816 92.539219 \nL 59.279776 83.479219 \nL 57.810711 76.968177 \nL 57.419114 74.419219 \nL 55.837968 65.359219 \nL 53.996592 56.299219 \nL 51.773823 47.239219 \nL 48.967548 38.179219 \nL 48.574849 37.116205 \nL 46.481175 29.119219 \nL 44.045006 20.059219 \nL 41.557961 10.999219 \nL 39.338987 10.999219 \nL 38.650469 10.999219 \nL 39.338987 12.349038 \nL 41.447954 20.059219 \nL 43.85636 29.119219 \nL 46.186394 38.179219 \nL 48.430107 47.239219 \nL 48.574849 47.868136 \nL 50.822467 56.299219 \nL 52.777856 65.359219 \nL 54.40133 74.419219 \nL 55.778827 83.479219 \nL 56.96506 92.539219 \nL 57.810711 100.044613 \nL 58.025069 101.599219 \nL 58.970562 110.659219 \nL 59.666278 119.719219 \nL 60.161443 128.779219 \nL 60.464062 137.839219 \nL 60.537405 146.899219 \nL 60.27025 155.959219 \nL 59.38003 165.019219 \nL 57.810711 171.834485 \nL 56.840548 174.079219 \nL 48.574849 182.26591 \nL 45.213969 183.139219 \nL 39.338987 184.2721 \nL 30.103125 184.106429 \nL 30.103125 192.199219 \nL 30.103125 194.25019 \nL 39.338987 196.034621 \nL 48.574849 197.849896 \nL 57.810711 200.645163 \nL 59.102246 201.259219 \nL 66.655153 210.319219 \nL 67.046573 211.146949 \nL 69.616861 219.379219 \nL 72.223098 228.439219 \nz\n\" style=\"fill:#00ff57;\"/>\n    <path clip-path=\"url(#p24e62a577f)\" d=\"M 270.235539 192.281307 \nL 279.471401 193.231571 \nL 288.707263 193.848296 \nL 297.943125 194.249467 \nL 297.943125 192.199219 \nL 297.943125 191.301596 \nL 288.707263 190.276921 \nL 279.471401 189.405517 \nL 270.235539 188.492412 \nL 260.999677 187.441309 \nL 251.763815 186.151496 \nL 242.527953 184.473551 \nL 237.002537 183.139219 \nL 233.292091 181.198 \nL 224.056228 177.554811 \nL 214.820366 174.293371 \nL 214.306068 174.079219 \nL 214.820366 172.200336 \nL 224.056228 168.945758 \nL 233.292091 169.832962 \nL 242.527953 170.920722 \nL 251.763815 172.049367 \nL 260.999677 173.246394 \nL 266.544253 174.079219 \nL 270.235539 175.438882 \nL 279.471401 177.883348 \nL 288.707263 179.549398 \nL 297.943125 180.939205 \nL 297.943125 178.508626 \nL 288.707263 176.685056 \nL 279.471401 174.188649 \nL 279.121089 174.079219 \nL 270.235539 172.502641 \nL 260.999677 171.017369 \nL 251.763815 169.480707 \nL 242.527953 167.662588 \nL 233.292091 165.10164 \nL 233.011782 165.019219 \nL 224.056228 163.598054 \nL 214.820366 162.237273 \nL 205.584504 160.941205 \nL 196.348642 160.033833 \nL 189.289697 165.019219 \nL 196.348642 169.317414 \nL 202.103082 174.079219 \nL 205.584504 175.778051 \nL 214.820366 179.629394 \nL 223.185023 183.139219 \nL 224.056228 183.471181 \nL 233.292091 186.211245 \nL 242.527953 188.134829 \nL 251.763815 189.648308 \nL 260.999677 190.976385 \nL 269.623937 192.199219 \nz\n\" style=\"fill:#00ff57;\"/>\n    <path clip-path=\"url(#p24e62a577f)\" d=\"M 297.943125 149.408601 \nL 297.943125 146.993275 \nL 297.684605 146.899219 \nL 297.943125 146.244729 \nL 297.943125 137.839219 \nL 297.943125 136.759448 \nL 288.707263 135.968292 \nL 279.471401 136.540589 \nL 276.91298 137.839219 \nL 279.471401 138.991484 \nL 288.707263 143.916674 \nL 291.045941 146.899219 \nz\n\" style=\"fill:#00ff57;\"/>\n    <path clip-path=\"url(#p24e62a577f)\" d=\"M 113.225884 101.932531 \nL 113.769502 101.599219 \nL 115.561317 92.539219 \nL 113.979941 83.479219 \nL 113.225884 80.763076 \nL 110.812218 74.419219 \nL 108.034273 65.359219 \nL 105.698119 56.299219 \nL 103.990022 49.931361 \nL 102.978475 47.239219 \nL 100.003297 38.179219 \nL 97.595807 29.119219 \nL 95.216357 20.059219 \nL 94.754159 18.501502 \nL 91.909448 10.999219 \nL 88.655898 10.999219 \nL 91.231076 20.059219 \nL 94.754159 28.254526 \nL 94.980047 29.119219 \nL 97.00294 38.179219 \nL 99.071463 47.239219 \nL 101.612766 56.299219 \nL 103.990022 62.704861 \nL 104.549689 65.359219 \nL 105.588998 74.419219 \nL 104.270641 83.479219 \nL 103.990022 83.81799 \nL 103.679771 83.479219 \nL 94.754159 76.006538 \nL 93.800447 74.419219 \nL 89.042278 65.359219 \nL 85.518297 59.520039 \nL 84.320311 56.299219 \nL 81.757719 47.239219 \nL 79.726631 38.179219 \nL 77.865163 29.119219 \nL 76.282435 21.990156 \nL 76.044209 20.059219 \nL 75.310709 10.999219 \nL 72.482925 10.999219 \nL 73.068311 20.059219 \nL 73.959256 29.119219 \nL 75.334226 38.179219 \nL 76.282435 42.490043 \nL 77.443517 47.239219 \nL 79.861127 56.299219 \nL 82.937382 65.359219 \nL 85.518297 70.846763 \nL 87.591616 74.419219 \nL 93.028426 83.479219 \nL 94.754159 85.921312 \nL 101.035486 92.539219 \nL 103.990022 95.822757 \nL 112.810332 101.599219 \nz\n\" style=\"fill:#00ff57;\"/>\n    <path clip-path=\"url(#p24e62a577f)\" d=\"M 297.943125 104.741749 \nL 297.943125 101.769996 \nL 297.66301 101.599219 \nL 297.943125 101.330857 \nL 297.943125 96.660997 \nL 292.788625 101.599219 \nz\n\" style=\"fill:#00ff57;\"/>\n    <path clip-path=\"url(#p24e62a577f)\" d=\"M 297.943125 61.849964 \nL 297.943125 57.149744 \nL 296.7511 56.299219 \nL 297.943125 55.761302 \nL 297.943125 52.788638 \nL 290.163664 56.299219 \nz\n\" style=\"fill:#00ff57;\"/>\n    <path clip-path=\"url(#p24e62a577f)\" d=\"M 288.707263 49.787277 \nL 289.116303 47.239219 \nL 288.707263 47.020307 \nL 283.92909 47.239219 \nz\n\" style=\"fill:#00ff57;\"/>\n    <path clip-path=\"url(#p24e62a577f)\" d=\"M 260.999677 29.289557 \nL 261.219421 29.119219 \nL 260.999677 28.918282 \nL 260.74438 29.119219 \nz\n\" style=\"fill:#00ff57;\"/>\n    <path clip-path=\"url(#p24e62a577f)\" d=\"M 140.93347 27.585843 \nL 144.028036 20.059219 \nL 142.872706 10.999219 \nL 140.93347 10.999219 \nL 135.925057 10.999219 \nL 131.697608 12.392013 \nL 130.888215 10.999219 \nL 127.577167 10.999219 \nL 131.697608 18.089625 \nL 134.605006 20.059219 \nz\n\" style=\"fill:#00ff57;\"/>\n    <path clip-path=\"url(#p24e62a577f)\" d=\"M 251.763815 22.224583 \nL 253.614428 20.059219 \nL 251.763815 17.766566 \nL 248.16632 20.059219 \nz\n\" style=\"fill:#00ff57;\"/>\n    <path clip-path=\"url(#p24e62a577f)\" d=\"M 297.943125 21.853703 \nL 297.943125 20.059219 \nL 297.943125 16.9893 \nL 288.707263 11.713605 \nL 287.800288 10.999219 \nL 284.900836 10.999219 \nL 288.707263 13.997381 \nL 295.733798 20.059219 \nz\n\" style=\"fill:#00ff57;\"/>\n    <path clip-path=\"url(#p24e62a577f)\" d=\"M 187.11278 15.449569 \nL 193.55384 10.999219 \nL 187.681919 10.999219 \nL 187.11278 11.392456 \nL 186.67786 10.999219 \nL 182.190694 10.999219 \nz\n\" style=\"fill:#00ff57;\"/>\n    <path clip-path=\"url(#p24e62a577f)\" d=\"M 233.292091 11.077856 \nL 242.527953 16.703446 \nL 246.909381 10.999219 \nL 243.099273 10.999219 \nL 242.527953 11.743027 \nL 241.284918 10.999219 \nL 233.292091 10.999219 \nL 233.197506 10.999219 \nz\n\" style=\"fill:#00ff57;\"/>\n   </g>\n   <g id=\"PathCollection_9\">\n    <path clip-path=\"url(#p24e62a577f)\" d=\"M 57.810711 226.479777 \nL 58.82632 228.439219 \nL 67.046573 228.439219 \nL 72.223098 228.439219 \nL 69.616861 219.379219 \nL 67.046573 211.146949 \nL 66.655153 210.319219 \nL 59.102246 201.259219 \nL 57.810711 200.645163 \nL 48.574849 197.849896 \nL 39.338987 196.034621 \nL 30.103125 194.25019 \nL 30.103125 201.259219 \nL 30.103125 205.210296 \nL 39.338987 208.806876 \nL 42.305153 210.319219 \nL 48.574849 214.739967 \nL 53.068376 219.379219 \nz\n\" style=\"fill:#00ffa3;\"/>\n    <path clip-path=\"url(#p24e62a577f)\" d=\"M 251.763815 210.979302 \nL 260.999677 212.408853 \nL 270.235539 213.921195 \nL 279.471401 215.528523 \nL 288.707263 217.245643 \nL 297.943125 219.090982 \nL 297.943125 216.743857 \nL 288.707263 214.961011 \nL 279.471401 213.286658 \nL 270.235539 211.703955 \nL 261.739894 210.319219 \nL 260.999677 210.001213 \nL 251.763815 207.119309 \nL 242.527953 205.309762 \nL 233.292091 204.018766 \nL 224.056228 203.011308 \nL 214.820366 202.169107 \nL 205.584504 201.424491 \nL 203.397488 201.259219 \nL 196.348642 200.223658 \nL 187.11278 199.309253 \nL 177.876918 198.612749 \nL 168.641056 198.0028 \nL 159.405194 197.409518 \nL 150.169332 196.783286 \nL 140.93347 196.076703 \nL 131.697608 195.231188 \nL 122.461746 194.159067 \nL 113.225884 192.708151 \nL 110.62094 192.199219 \nL 103.990022 190.635088 \nL 94.754159 187.490761 \nL 87.336538 183.139219 \nL 85.518297 181.638063 \nL 79.396459 174.079219 \nL 76.282435 167.539595 \nL 75.367431 165.019219 \nL 72.881929 155.959219 \nL 71.165694 146.899219 \nL 69.834356 137.839219 \nL 68.683191 128.779219 \nL 67.561687 119.719219 \nL 67.046573 115.787621 \nL 66.541716 110.659219 \nL 65.670887 101.599219 \nL 64.760916 92.539219 \nL 63.711794 83.479219 \nL 62.338478 74.419219 \nL 60.194354 65.359219 \nL 57.810711 59.579059 \nL 57.170716 56.299219 \nL 55.151193 47.239219 \nL 52.671263 38.179219 \nL 49.428556 29.119219 \nL 48.574849 27.182428 \nL 46.642059 20.059219 \nL 44.144682 10.999219 \nL 41.557961 10.999219 \nL 44.045006 20.059219 \nL 46.481175 29.119219 \nL 48.574849 37.116205 \nL 48.967548 38.179219 \nL 51.773823 47.239219 \nL 53.996592 56.299219 \nL 55.837968 65.359219 \nL 57.419114 74.419219 \nL 57.810711 76.968177 \nL 59.279776 83.479219 \nL 60.741816 92.539219 \nL 61.847978 101.599219 \nL 62.756139 110.659219 \nL 63.55523 119.719219 \nL 64.303325 128.779219 \nL 65.045697 137.839219 \nL 65.826619 146.899219 \nL 66.702744 155.959219 \nL 67.046573 159.424869 \nL 67.7075 165.019219 \nL 68.966327 174.079219 \nL 71.046969 183.139219 \nL 76.282435 191.145069 \nL 77.835763 192.199219 \nL 85.518297 195.173531 \nL 94.754159 196.718628 \nL 103.990022 197.651285 \nL 113.225884 198.34717 \nL 122.461746 198.930802 \nL 131.697608 199.461639 \nL 140.93347 199.977815 \nL 150.169332 200.511793 \nL 159.405194 201.099376 \nL 161.588009 201.259219 \nL 168.641056 201.675889 \nL 177.876918 202.244476 \nL 187.11278 202.844341 \nL 196.348642 203.495834 \nL 205.584504 204.225863 \nL 214.820366 205.072818 \nL 224.056228 206.095481 \nL 233.292091 207.39078 \nL 242.527953 209.13308 \nL 247.2435 210.319219 \nz\n\" style=\"fill:#00ffa3;\"/>\n    <path clip-path=\"url(#p24e62a577f)\" d=\"M 251.763815 193.773038 \nL 260.999677 194.955566 \nL 270.235539 195.627593 \nL 279.471401 196.053842 \nL 288.707263 196.337576 \nL 297.943125 196.526355 \nL 297.943125 194.249467 \nL 288.707263 193.848296 \nL 279.471401 193.231571 \nL 270.235539 192.281307 \nL 269.623937 192.199219 \nL 260.999677 190.976385 \nL 251.763815 189.648308 \nL 242.527953 188.134829 \nL 233.292091 186.211245 \nL 224.056228 183.471181 \nL 223.185023 183.139219 \nL 214.820366 179.629394 \nL 205.584504 175.778051 \nL 202.103082 174.079219 \nL 196.348642 169.317414 \nL 189.289697 165.019219 \nL 196.348642 160.033833 \nL 205.584504 160.941205 \nL 214.820366 162.237273 \nL 224.056228 163.598054 \nL 233.011782 165.019219 \nL 233.292091 165.10164 \nL 242.527953 167.662588 \nL 251.763815 169.480707 \nL 260.999677 171.017369 \nL 270.235539 172.502641 \nL 279.121089 174.079219 \nL 279.471401 174.188649 \nL 288.707263 176.685056 \nL 297.943125 178.508626 \nL 297.943125 176.078048 \nL 289.620602 174.079219 \nL 288.707263 173.86317 \nL 279.471401 172.0017 \nL 270.235539 170.40406 \nL 260.999677 168.788343 \nL 251.763815 166.912047 \nL 244.410749 165.019219 \nL 242.527953 164.615634 \nL 233.292091 162.833665 \nL 224.056228 161.044594 \nL 214.820366 158.95129 \nL 205.584504 155.965286 \nL 205.566094 155.959219 \nL 196.348642 154.010969 \nL 187.11278 151.903641 \nL 177.876918 149.011771 \nL 172.680774 146.899219 \nL 168.641056 145.879143 \nL 159.405194 146.566683 \nL 159.181556 146.899219 \nL 159.405194 147.080748 \nL 167.217714 155.959219 \nL 168.641056 157.03457 \nL 177.732899 165.019219 \nL 177.876918 165.11948 \nL 187.11278 171.00601 \nL 191.557376 174.079219 \nL 196.348642 176.849945 \nL 205.584504 181.096674 \nL 210.468194 183.139219 \nL 214.820366 185.312484 \nL 224.056228 188.316785 \nL 233.292091 190.278716 \nL 242.527953 191.796106 \nL 245.199704 192.199219 \nz\n\" style=\"fill:#00ffa3;\"/>\n    <path clip-path=\"url(#p24e62a577f)\" d=\"M 288.707263 148.476651 \nL 297.943125 151.823927 \nL 297.943125 149.408601 \nL 291.045941 146.899219 \nL 288.707263 143.916674 \nL 279.471401 138.991484 \nL 276.91298 137.839219 \nL 279.471401 136.540589 \nL 288.707263 135.968292 \nL 297.943125 136.759448 \nL 297.943125 134.599385 \nL 288.707263 133.361944 \nL 279.471401 132.172319 \nL 270.235539 132.328438 \nL 268.940802 137.839219 \nL 270.235539 138.51 \nL 279.471401 142.867421 \nL 285.163138 146.899219 \nz\n\" style=\"fill:#00ffa3;\"/>\n    <path clip-path=\"url(#p24e62a577f)\" d=\"M 131.697608 122.337906 \nL 133.168527 119.719219 \nL 131.697608 116.325147 \nL 129.212201 110.659219 \nL 125.240659 101.599219 \nL 122.461746 93.948325 \nL 121.845643 92.539219 \nL 117.791181 83.479219 \nL 114.801775 74.419219 \nL 113.225884 69.677578 \nL 111.518857 65.359219 \nL 108.487297 56.299219 \nL 105.88741 47.239219 \nL 103.990022 40.963244 \nL 103.003654 38.179219 \nL 100.211568 29.119219 \nL 97.762319 20.059219 \nL 95.104412 10.999219 \nL 94.754159 10.999219 \nL 91.909448 10.999219 \nL 94.754159 18.501502 \nL 95.216357 20.059219 \nL 97.595807 29.119219 \nL 100.003297 38.179219 \nL 102.978475 47.239219 \nL 103.990022 49.931361 \nL 105.698119 56.299219 \nL 108.034273 65.359219 \nL 110.812218 74.419219 \nL 113.225884 80.763076 \nL 113.979941 83.479219 \nL 115.561317 92.539219 \nL 113.769502 101.599219 \nL 113.225884 101.932531 \nL 112.810332 101.599219 \nL 103.990022 95.822757 \nL 101.035486 92.539219 \nL 94.754159 85.921312 \nL 93.028426 83.479219 \nL 87.591616 74.419219 \nL 85.518297 70.846763 \nL 82.937382 65.359219 \nL 79.861127 56.299219 \nL 77.443517 47.239219 \nL 76.282435 42.490043 \nL 75.334226 38.179219 \nL 73.959256 29.119219 \nL 73.068311 20.059219 \nL 72.482925 10.999219 \nL 69.65514 10.999219 \nL 70.092413 20.059219 \nL 70.661377 29.119219 \nL 71.452726 38.179219 \nL 72.668482 47.239219 \nL 74.876025 56.299219 \nL 76.282435 59.738946 \nL 77.905778 65.359219 \nL 81.316236 74.419219 \nL 85.518297 81.348051 \nL 86.795279 83.479219 \nL 92.955283 92.539219 \nL 94.754159 94.649645 \nL 101.075395 101.599219 \nL 103.990022 104.604266 \nL 111.058955 110.659219 \nL 113.225884 112.585143 \nL 122.461746 119.142659 \nL 124.637346 119.719219 \nz\n\" style=\"fill:#00ffa3;\"/>\n    <path clip-path=\"url(#p24e62a577f)\" d=\"M 288.707263 101.978434 \nL 297.943125 107.713503 \nL 297.943125 104.741749 \nL 292.788625 101.599219 \nL 297.943125 96.660997 \nL 297.943125 92.539219 \nL 297.943125 92.273084 \nL 288.707263 90.392962 \nL 279.471401 91.044259 \nL 278.368465 92.539219 \nL 279.471401 93.313181 \nL 288.163826 101.599219 \nz\n\" style=\"fill:#00ffa3;\"/>\n    <path clip-path=\"url(#p24e62a577f)\" d=\"M 297.943125 65.923641 \nL 297.943125 65.359219 \nL 297.943125 61.849964 \nL 290.163664 56.299219 \nL 297.943125 52.788638 \nL 297.943125 49.815974 \nL 293.844578 47.239219 \nL 288.707263 44.489816 \nL 279.655876 38.179219 \nL 279.471401 38.047578 \nL 270.235539 32.701138 \nL 266.843799 29.119219 \nL 260.999677 23.775273 \nL 257.901834 20.059219 \nL 251.763815 12.455067 \nL 250.719488 10.999219 \nL 246.909381 10.999219 \nL 242.527953 16.703446 \nL 233.292091 11.077856 \nL 233.197506 10.999219 \nL 230.556681 10.999219 \nL 233.292091 13.27344 \nL 241.652854 20.059219 \nL 242.527953 20.770901 \nL 251.763815 27.241187 \nL 254.210033 29.119219 \nL 260.999677 33.649385 \nL 265.892429 38.179219 \nL 270.235539 41.347018 \nL 276.248911 47.239219 \nL 279.471401 49.703482 \nL 286.486539 56.299219 \nL 288.707263 58.054054 \nL 297.273704 65.359219 \nz\nM 283.92909 47.239219 \nL 288.707263 47.020307 \nL 289.116303 47.239219 \nL 288.707263 49.787277 \nz\nM 260.74438 29.119219 \nL 260.999677 28.918282 \nL 261.219421 29.119219 \nL 260.999677 29.289557 \nz\nM 248.16632 20.059219 \nL 251.763815 17.766566 \nL 253.614428 20.059219 \nL 251.763815 22.224583 \nz\n\" style=\"fill:#00ffa3;\"/>\n    <path clip-path=\"url(#p24e62a577f)\" d=\"M 150.169332 39.395201 \nL 151.020694 38.179219 \nL 151.014284 29.119219 \nL 150.169332 25.790517 \nL 148.140689 20.059219 \nL 145.602531 10.999219 \nL 142.872706 10.999219 \nL 144.028036 20.059219 \nL 140.93347 27.585843 \nL 134.605006 20.059219 \nL 131.697608 18.089625 \nL 127.577167 10.999219 \nL 124.26612 10.999219 \nL 129.745814 20.059219 \nL 131.697608 22.938698 \nL 137.459623 29.119219 \nL 140.93347 33.492248 \nL 148.775138 38.179219 \nz\n\" style=\"fill:#00ffa3;\"/>\n    <path clip-path=\"url(#p24e62a577f)\" d=\"M 196.348642 25.363414 \nL 200.350469 20.059219 \nL 197.733014 10.999219 \nL 196.348642 10.999219 \nL 193.55384 10.999219 \nL 187.11278 15.449569 \nL 182.190694 10.999219 \nL 177.876918 10.999219 \nL 177.7716 10.999219 \nL 177.876918 11.101859 \nL 187.11278 19.506681 \nL 188.264864 20.059219 \nz\n\" style=\"fill:#00ffa3;\"/>\n    <path clip-path=\"url(#p24e62a577f)\" d=\"M 297.943125 24.003859 \nL 297.943125 21.853703 \nL 295.733798 20.059219 \nL 288.707263 13.997381 \nL 284.900836 10.999219 \nL 282.001385 10.999219 \nL 288.707263 16.281157 \nL 293.086576 20.059219 \nz\n\" style=\"fill:#00ffa3;\"/>\n   </g>\n   <g id=\"PathCollection_10\">\n    <path clip-path=\"url(#p24e62a577f)\" d=\"M 39.338987 224.343604 \nL 43.258956 228.439219 \nL 48.574849 228.439219 \nL 57.810711 228.439219 \nL 58.82632 228.439219 \nL 57.810711 226.479777 \nL 53.068376 219.379219 \nL 48.574849 214.739967 \nL 42.305153 210.319219 \nL 39.338987 208.806876 \nL 30.103125 205.210296 \nL 30.103125 210.319219 \nL 30.103125 217.740852 \nL 32.936761 219.379219 \nz\n\" style=\"fill:#00fff6;\"/>\n    <path clip-path=\"url(#p24e62a577f)\" d=\"M 270.235539 211.703955 \nL 279.471401 213.286658 \nL 288.707263 214.961011 \nL 297.943125 216.743857 \nL 297.943125 214.396732 \nL 288.707263 212.67638 \nL 279.471401 211.044793 \nL 275.195767 210.319219 \nL 270.235539 207.105224 \nL 260.999677 204.157114 \nL 251.763815 202.564966 \nL 242.527953 201.486445 \nL 240.250949 201.259219 \nL 242.527953 200.692027 \nL 251.763815 199.591145 \nL 260.999677 199.169613 \nL 270.235539 198.97388 \nL 279.471401 198.876113 \nL 288.707263 198.826855 \nL 297.943125 198.803243 \nL 297.943125 196.526355 \nL 288.707263 196.337576 \nL 279.471401 196.053842 \nL 270.235539 195.627593 \nL 260.999677 194.955566 \nL 251.763815 193.773038 \nL 245.199704 192.199219 \nL 242.527953 191.796106 \nL 233.292091 190.278716 \nL 224.056228 188.316785 \nL 214.820366 185.312484 \nL 210.468194 183.139219 \nL 205.584504 181.096674 \nL 196.348642 176.849945 \nL 191.557376 174.079219 \nL 187.11278 171.00601 \nL 177.876918 165.11948 \nL 177.732899 165.019219 \nL 168.641056 157.03457 \nL 167.217714 155.959219 \nL 159.405194 147.080748 \nL 159.181556 146.899219 \nL 159.405194 146.566683 \nL 168.641056 145.879143 \nL 172.680774 146.899219 \nL 177.876918 149.011771 \nL 187.11278 151.903641 \nL 196.348642 154.010969 \nL 205.566094 155.959219 \nL 205.584504 155.965286 \nL 214.820366 158.95129 \nL 224.056228 161.044594 \nL 233.292091 162.833665 \nL 242.527953 164.615634 \nL 244.410749 165.019219 \nL 251.763815 166.912047 \nL 260.999677 168.788343 \nL 270.235539 170.40406 \nL 279.471401 172.0017 \nL 288.707263 173.86317 \nL 289.620602 174.079219 \nL 297.943125 176.078048 \nL 297.943125 174.079219 \nL 297.943125 173.540178 \nL 288.707263 171.469259 \nL 279.471401 169.86077 \nL 270.235539 168.305479 \nL 260.999677 166.559318 \nL 254.310906 165.019219 \nL 251.763815 164.420031 \nL 242.527953 162.476712 \nL 233.292091 160.609363 \nL 224.056228 158.491134 \nL 215.584556 155.959219 \nL 214.820366 155.754083 \nL 205.584504 153.428999 \nL 196.348642 150.81977 \nL 187.11278 147.094491 \nL 186.664446 146.899219 \nL 177.876918 143.917939 \nL 168.641056 139.451725 \nL 165.992801 137.839219 \nL 159.405194 134.340674 \nL 152.389239 128.779219 \nL 150.169332 126.971425 \nL 143.006886 119.719219 \nL 140.93347 117.292848 \nL 135.807472 110.659219 \nL 131.697608 103.670678 \nL 130.461165 101.599219 \nL 125.583848 92.539219 \nL 122.461746 85.291096 \nL 121.60242 83.479219 \nL 117.731504 74.419219 \nL 114.582352 65.359219 \nL 113.225884 61.536603 \nL 111.276475 56.299219 \nL 108.447662 47.239219 \nL 105.791078 38.179219 \nL 103.990022 32.728579 \nL 102.827328 29.119219 \nL 100.308281 20.059219 \nL 97.891729 10.999219 \nL 95.104412 10.999219 \nL 97.762319 20.059219 \nL 100.211568 29.119219 \nL 103.003654 38.179219 \nL 103.990022 40.963244 \nL 105.88741 47.239219 \nL 108.487297 56.299219 \nL 111.518857 65.359219 \nL 113.225884 69.677578 \nL 114.801775 74.419219 \nL 117.791181 83.479219 \nL 121.845643 92.539219 \nL 122.461746 93.948325 \nL 125.240659 101.599219 \nL 129.212201 110.659219 \nL 131.697608 116.325147 \nL 133.168527 119.719219 \nL 131.697608 122.337906 \nL 124.637346 119.719219 \nL 122.461746 119.142659 \nL 113.225884 112.585143 \nL 111.058955 110.659219 \nL 103.990022 104.604266 \nL 101.075395 101.599219 \nL 94.754159 94.649645 \nL 92.955283 92.539219 \nL 86.795279 83.479219 \nL 85.518297 81.348051 \nL 81.316236 74.419219 \nL 77.905778 65.359219 \nL 76.282435 59.738946 \nL 74.876025 56.299219 \nL 72.668482 47.239219 \nL 71.452726 38.179219 \nL 70.661377 29.119219 \nL 70.092413 20.059219 \nL 69.65514 10.999219 \nL 67.046573 10.999219 \nL 66.720518 10.999219 \nL 67.046573 17.951501 \nL 67.116514 20.059219 \nL 67.363499 29.119219 \nL 67.571226 38.179219 \nL 67.723753 47.239219 \nL 67.753378 56.299219 \nL 67.330449 65.359219 \nL 67.046573 67.028475 \nL 66.902483 65.359219 \nL 66.025516 56.299219 \nL 63.427523 47.239219 \nL 57.810711 44.030789 \nL 56.374977 38.179219 \nL 53.647441 29.119219 \nL 49.869381 20.059219 \nL 48.574849 17.666356 \nL 46.731403 10.999219 \nL 44.144682 10.999219 \nL 46.642059 20.059219 \nL 48.574849 27.182428 \nL 49.428556 29.119219 \nL 52.671263 38.179219 \nL 55.151193 47.239219 \nL 57.170716 56.299219 \nL 57.810711 59.579059 \nL 60.194354 65.359219 \nL 62.338478 74.419219 \nL 63.711794 83.479219 \nL 64.760916 92.539219 \nL 65.670887 101.599219 \nL 66.541716 110.659219 \nL 67.046573 115.787621 \nL 67.561687 119.719219 \nL 68.683191 128.779219 \nL 69.834356 137.839219 \nL 71.165694 146.899219 \nL 72.881929 155.959219 \nL 75.367431 165.019219 \nL 76.282435 167.539595 \nL 79.396459 174.079219 \nL 85.518297 181.638063 \nL 87.336538 183.139219 \nL 94.754159 187.490761 \nL 103.990022 190.635088 \nL 110.62094 192.199219 \nL 113.225884 192.708151 \nL 122.461746 194.159067 \nL 131.697608 195.231188 \nL 140.93347 196.076703 \nL 150.169332 196.783286 \nL 159.405194 197.409518 \nL 168.641056 198.0028 \nL 177.876918 198.612749 \nL 187.11278 199.309253 \nL 196.348642 200.223658 \nL 203.397488 201.259219 \nL 205.584504 201.424491 \nL 214.820366 202.169107 \nL 224.056228 203.011308 \nL 233.292091 204.018766 \nL 242.527953 205.309762 \nL 251.763815 207.119309 \nL 260.999677 210.001213 \nL 261.739894 210.319219 \nz\nM 141.170975 192.199219 \nL 140.93347 192.168241 \nL 131.697608 190.778565 \nL 122.461746 189.1265 \nL 113.225884 186.961899 \nL 103.990022 183.82675 \nL 102.454311 183.139219 \nL 94.754159 178.614127 \nL 89.535887 174.079219 \nL 85.518297 169.08846 \nL 83.064754 165.019219 \nL 79.256355 155.959219 \nL 76.560011 146.899219 \nL 76.282435 145.74269 \nL 74.783522 137.839219 \nL 73.529832 128.779219 \nL 72.599945 119.719219 \nL 71.912949 110.659219 \nL 71.447374 101.599219 \nL 71.288528 92.539219 \nL 72.149419 83.479219 \nL 76.282435 78.966918 \nL 78.142489 83.479219 \nL 85.518297 92.18457 \nL 85.751645 92.539219 \nL 92.992315 101.599219 \nL 94.754159 103.197548 \nL 101.944194 110.659219 \nL 103.990022 112.509622 \nL 112.062711 119.719219 \nL 113.225884 120.715769 \nL 122.461746 128.242944 \nL 123.193647 128.779219 \nL 131.697608 135.316585 \nL 134.832294 137.839219 \nL 140.93347 142.620904 \nL 145.81038 146.899219 \nL 150.169332 150.360887 \nL 156.592318 155.959219 \nL 159.405194 158.164325 \nL 168.149802 165.019219 \nL 168.641056 165.406654 \nL 177.876918 171.798141 \nL 181.367712 174.079219 \nL 187.11278 178.165996 \nL 196.348642 182.719576 \nL 197.309148 183.139219 \nL 205.584504 189.157578 \nL 214.820366 191.662613 \nL 217.575493 192.199219 \nL 214.820366 193.19202 \nL 205.584504 194.451394 \nL 196.348642 194.777614 \nL 187.11278 194.767603 \nL 177.876918 194.566575 \nL 168.641056 194.216387 \nL 159.405194 193.71966 \nL 150.169332 193.05478 \nz\n\" style=\"fill:#00fff6;\"/>\n    <path clip-path=\"url(#p24e62a577f)\" d=\"M 288.707263 150.912019 \nL 297.943125 154.239252 \nL 297.943125 151.823927 \nL 288.707263 148.476651 \nL 285.163138 146.899219 \nL 279.471401 142.867421 \nL 270.235539 138.51 \nL 268.940802 137.839219 \nL 270.235539 132.328438 \nL 279.471401 132.172319 \nL 288.707263 133.361944 \nL 297.943125 134.599385 \nL 297.943125 132.439322 \nL 288.707263 130.755597 \nL 281.571999 128.779219 \nL 279.471401 128.287062 \nL 270.235539 126.750491 \nL 260.999677 125.87852 \nL 251.763815 128.25521 \nL 251.429778 128.779219 \nL 251.763815 128.988995 \nL 260.999677 135.04757 \nL 263.162935 137.839219 \nL 270.235539 141.503413 \nL 279.471401 146.743358 \nL 279.691432 146.899219 \nz\n\" style=\"fill:#00fff6;\"/>\n    <path clip-path=\"url(#p24e62a577f)\" d=\"M 297.943125 110.683248 \nL 297.943125 110.659219 \nL 297.943125 107.713503 \nL 288.707263 101.978434 \nL 288.163826 101.599219 \nL 279.471401 93.313181 \nL 278.368465 92.539219 \nL 279.471401 91.044259 \nL 288.707263 90.392962 \nL 297.943125 92.273084 \nL 297.943125 90.005513 \nL 288.707263 87.854172 \nL 279.471401 84.893915 \nL 276.102315 83.479219 \nL 270.235539 82.170285 \nL 266.389115 83.479219 \nL 270.235539 86.521305 \nL 273.830929 92.539219 \nL 279.471401 96.497301 \nL 284.823541 101.599219 \nL 288.707263 104.309316 \nL 297.913516 110.659219 \nz\n\" style=\"fill:#00fff6;\"/>\n    <path clip-path=\"url(#p24e62a577f)\" d=\"M 297.943125 68.151171 \nL 297.943125 65.923641 \nL 297.273704 65.359219 \nL 288.707263 58.054054 \nL 286.486539 56.299219 \nL 279.471401 49.703482 \nL 276.248911 47.239219 \nL 270.235539 41.347018 \nL 265.892429 38.179219 \nL 260.999677 33.649385 \nL 254.210033 29.119219 \nL 251.763815 27.241187 \nL 242.527953 20.770901 \nL 241.652854 20.059219 \nL 233.292091 13.27344 \nL 230.556681 10.999219 \nL 227.915856 10.999219 \nL 233.292091 15.469023 \nL 238.947674 20.059219 \nL 242.527953 22.970915 \nL 250.074404 29.119219 \nL 251.763815 30.487363 \nL 260.999677 38.009213 \nL 261.183303 38.179219 \nL 270.235539 44.781783 \nL 272.743511 47.239219 \nL 279.471401 52.384089 \nL 283.635481 56.299219 \nL 288.707263 60.306986 \nL 294.631792 65.359219 \nz\n\" style=\"fill:#00fff6;\"/>\n    <path clip-path=\"url(#p24e62a577f)\" d=\"M 297.943125 49.815974 \nL 297.943125 47.239219 \nL 297.943125 46.864197 \nL 288.707263 41.959326 \nL 283.285398 38.179219 \nL 279.471401 35.45757 \nL 271.524568 29.119219 \nL 270.235539 27.975301 \nL 261.846948 20.059219 \nL 260.999677 19.150106 \nL 253.850126 10.999219 \nL 251.763815 10.999219 \nL 250.719488 10.999219 \nL 251.763815 12.455067 \nL 257.901834 20.059219 \nL 260.999677 23.775273 \nL 266.843799 29.119219 \nL 270.235539 32.701138 \nL 279.471401 38.047578 \nL 279.655876 38.179219 \nL 288.707263 44.489816 \nL 293.844578 47.239219 \nz\n\" style=\"fill:#00fff6;\"/>\n    <path clip-path=\"url(#p24e62a577f)\" d=\"M 140.93347 38.553767 \nL 150.169332 46.931706 \nL 156.29733 38.179219 \nL 153.963639 29.119219 \nL 151.503209 20.059219 \nL 150.169332 16.16743 \nL 148.332355 10.999219 \nL 145.602531 10.999219 \nL 148.140689 20.059219 \nL 150.169332 25.790517 \nL 151.014284 29.119219 \nL 151.020694 38.179219 \nL 150.169332 39.395201 \nL 148.775138 38.179219 \nL 140.93347 33.492248 \nL 137.459623 29.119219 \nL 131.697608 22.938698 \nL 129.745814 20.059219 \nL 124.26612 10.999219 \nL 122.461746 10.999219 \nL 121.025122 10.999219 \nL 122.461746 13.172573 \nL 126.762846 20.059219 \nL 131.697608 27.339469 \nL 133.356845 29.119219 \nL 140.607715 38.179219 \nz\n\" style=\"fill:#00fff6;\"/>\n    <path clip-path=\"url(#p24e62a577f)\" d=\"M 196.348642 30.013935 \nL 205.584504 35.175728 \nL 208.469453 29.119219 \nL 205.584504 22.304985 \nL 204.538244 20.059219 \nL 200.374745 10.999219 \nL 197.733014 10.999219 \nL 200.350469 20.059219 \nL 196.348642 25.363414 \nL 188.264864 20.059219 \nL 187.11278 19.506681 \nL 177.876918 11.101859 \nL 177.7716 10.999219 \nL 175.046047 10.999219 \nL 177.876918 13.758099 \nL 184.647384 20.059219 \nL 187.11278 22.345532 \nL 195.312592 29.119219 \nz\n\" style=\"fill:#00fff6;\"/>\n    <path clip-path=\"url(#p24e62a577f)\" d=\"M 297.943125 26.154014 \nL 297.943125 24.003859 \nL 293.086576 20.059219 \nL 288.707263 16.281157 \nL 282.001385 10.999219 \nL 279.471401 10.999219 \nL 279.077518 10.999219 \nL 279.471401 11.332188 \nL 288.707263 18.564933 \nL 290.439353 20.059219 \nz\n\" style=\"fill:#00fff6;\"/>\n   </g>\n   <g id=\"PathCollection_11\">\n    <path clip-path=\"url(#p24e62a577f)\" d=\"M 39.338987 228.439219 \nL 43.258956 228.439219 \nL 39.338987 224.343604 \nL 32.936761 219.379219 \nL 30.103125 217.740852 \nL 30.103125 219.379219 \nL 30.103125 228.439219 \nz\n\" style=\"fill:#00bbff;\"/>\n    <path clip-path=\"url(#p24e62a577f)\" d=\"M 279.471401 211.044793 \nL 288.707263 212.67638 \nL 297.943125 214.396732 \nL 297.943125 212.049606 \nL 288.707263 210.391748 \nL 288.293188 210.319219 \nL 288.707263 205.052442 \nL 290.787383 201.259219 \nL 297.943125 201.080131 \nL 297.943125 198.803243 \nL 288.707263 198.826855 \nL 279.471401 198.876113 \nL 270.235539 198.97388 \nL 260.999677 199.169613 \nL 251.763815 199.591145 \nL 242.527953 200.692027 \nL 240.250949 201.259219 \nL 242.527953 201.486445 \nL 251.763815 202.564966 \nL 260.999677 204.157114 \nL 270.235539 207.105224 \nL 275.195767 210.319219 \nz\n\" style=\"fill:#00bbff;\"/>\n    <path clip-path=\"url(#p24e62a577f)\" d=\"M 150.169332 193.05478 \nL 159.405194 193.71966 \nL 168.641056 194.216387 \nL 177.876918 194.566575 \nL 187.11278 194.767603 \nL 196.348642 194.777614 \nL 205.584504 194.451394 \nL 214.820366 193.19202 \nL 217.575493 192.199219 \nL 214.820366 191.662613 \nL 205.584504 189.157578 \nL 197.309148 183.139219 \nL 196.348642 182.719576 \nL 187.11278 178.165996 \nL 181.367712 174.079219 \nL 177.876918 171.798141 \nL 168.641056 165.406654 \nL 168.149802 165.019219 \nL 159.405194 158.164325 \nL 156.592318 155.959219 \nL 150.169332 150.360887 \nL 145.81038 146.899219 \nL 140.93347 142.620904 \nL 134.832294 137.839219 \nL 131.697608 135.316585 \nL 123.193647 128.779219 \nL 122.461746 128.242944 \nL 113.225884 120.715769 \nL 112.062711 119.719219 \nL 103.990022 112.509622 \nL 101.944194 110.659219 \nL 94.754159 103.197548 \nL 92.992315 101.599219 \nL 85.751645 92.539219 \nL 85.518297 92.18457 \nL 78.142489 83.479219 \nL 76.282435 78.966918 \nL 72.149419 83.479219 \nL 71.288528 92.539219 \nL 71.447374 101.599219 \nL 71.912949 110.659219 \nL 72.599945 119.719219 \nL 73.529832 128.779219 \nL 74.783522 137.839219 \nL 76.282435 145.74269 \nL 76.560011 146.899219 \nL 79.256355 155.959219 \nL 83.064754 165.019219 \nL 85.518297 169.08846 \nL 89.535887 174.079219 \nL 94.754159 178.614127 \nL 102.454311 183.139219 \nL 103.990022 183.82675 \nL 113.225884 186.961899 \nL 122.461746 189.1265 \nL 131.697608 190.778565 \nL 140.93347 192.168241 \nL 141.170975 192.199219 \nz\nM 119.634416 183.139219 \nL 113.225884 180.819425 \nL 103.990022 176.439501 \nL 100.375488 174.079219 \nL 94.754159 169.082673 \nL 91.334969 165.019219 \nL 85.972691 155.959219 \nL 85.518297 154.918783 \nL 82.823228 146.899219 \nL 80.787557 137.839219 \nL 79.471553 128.779219 \nL 78.904633 119.719219 \nL 80.093517 110.659219 \nL 85.518297 105.56851 \nL 91.516134 110.659219 \nL 94.754159 112.498618 \nL 102.999658 119.719219 \nL 103.990022 120.441926 \nL 113.225884 128.236604 \nL 113.884615 128.779219 \nL 122.461746 135.834949 \nL 124.938173 137.839219 \nL 131.697608 143.33581 \nL 136.062352 146.899219 \nL 140.93347 150.89567 \nL 147.200702 155.959219 \nL 150.169332 158.466961 \nL 158.69178 165.019219 \nL 159.405194 165.692224 \nL 168.641056 172.815754 \nL 170.540954 174.079219 \nL 177.876918 181.108772 \nL 181.347341 183.139219 \nL 177.876918 185.986864 \nL 168.641056 188.097172 \nL 159.405194 188.333776 \nL 150.169332 187.909992 \nL 140.93347 187.053489 \nL 131.697608 185.763881 \nL 122.461746 183.912139 \nz\n\" style=\"fill:#00bbff;\"/>\n    <path clip-path=\"url(#p24e62a577f)\" d=\"M 260.999677 166.559318 \nL 270.235539 168.305479 \nL 279.471401 169.86077 \nL 288.707263 171.469259 \nL 297.943125 173.540178 \nL 297.943125 170.505588 \nL 288.707263 169.075347 \nL 279.471401 167.71984 \nL 270.235539 166.206897 \nL 264.261948 165.019219 \nL 260.999677 164.168812 \nL 251.763815 162.142672 \nL 242.527953 160.33779 \nL 233.292091 158.385062 \nL 224.127131 155.959219 \nL 224.056228 155.939427 \nL 214.820366 153.460627 \nL 205.584504 150.895691 \nL 196.348642 147.628571 \nL 194.571738 146.899219 \nL 187.11278 144.192026 \nL 177.876918 140.171958 \nL 173.684439 137.839219 \nL 168.641056 135.182283 \nL 159.445685 128.779219 \nL 159.405194 128.749672 \nL 150.169332 121.212159 \nL 148.69487 119.719219 \nL 140.946262 110.659219 \nL 140.93347 110.64285 \nL 134.367669 101.599219 \nL 131.697608 97.07835 \nL 129.045303 92.539219 \nL 124.697813 83.479219 \nL 122.461746 78.427565 \nL 120.661232 74.419219 \nL 117.241464 65.359219 \nL 114.07715 56.299219 \nL 113.225884 53.962559 \nL 111.007913 47.239219 \nL 108.474216 38.179219 \nL 105.830929 29.119219 \nL 103.990022 24.094458 \nL 102.854243 20.059219 \nL 100.679046 10.999219 \nL 97.891729 10.999219 \nL 100.308281 20.059219 \nL 102.827328 29.119219 \nL 103.990022 32.728579 \nL 105.791078 38.179219 \nL 108.447662 47.239219 \nL 111.276475 56.299219 \nL 113.225884 61.536603 \nL 114.582352 65.359219 \nL 117.731504 74.419219 \nL 121.60242 83.479219 \nL 122.461746 85.291096 \nL 125.583848 92.539219 \nL 130.461165 101.599219 \nL 131.697608 103.670678 \nL 135.807472 110.659219 \nL 140.93347 117.292848 \nL 143.006886 119.719219 \nL 150.169332 126.971425 \nL 152.389239 128.779219 \nL 159.405194 134.340674 \nL 165.992801 137.839219 \nL 168.641056 139.451725 \nL 177.876918 143.917939 \nL 186.664446 146.899219 \nL 187.11278 147.094491 \nL 196.348642 150.81977 \nL 205.584504 153.428999 \nL 214.820366 155.754083 \nL 215.584556 155.959219 \nL 224.056228 158.491134 \nL 233.292091 160.609363 \nL 242.527953 162.476712 \nL 251.763815 164.420031 \nL 254.310906 165.019219 \nz\n\" style=\"fill:#00bbff;\"/>\n    <path clip-path=\"url(#p24e62a577f)\" d=\"M 297.943125 157.203744 \nL 297.943125 155.959219 \nL 297.943125 154.239252 \nL 288.707263 150.912019 \nL 279.691432 146.899219 \nL 279.471401 146.743358 \nL 270.235539 141.503413 \nL 263.162935 137.839219 \nL 260.999677 135.04757 \nL 251.763815 128.988995 \nL 251.429778 128.779219 \nL 251.763815 128.25521 \nL 260.999677 125.87852 \nL 270.235539 126.750491 \nL 279.471401 128.287062 \nL 281.571999 128.779219 \nL 288.707263 130.755597 \nL 297.943125 132.439322 \nL 297.943125 130.279259 \nL 291.091885 128.779219 \nL 288.707263 128.120572 \nL 279.471401 126.082448 \nL 270.235539 124.379588 \nL 260.999677 122.428122 \nL 253.073412 119.719219 \nL 251.763815 119.398894 \nL 242.527953 118.429145 \nL 237.71009 119.719219 \nL 242.527953 123.823229 \nL 245.17736 128.779219 \nL 251.763815 132.915548 \nL 257.925562 137.839219 \nL 260.999677 139.712047 \nL 270.235539 144.496827 \nL 274.44148 146.899219 \nL 279.471401 149.708749 \nL 288.707263 153.347386 \nL 295.98852 155.959219 \nz\n\" style=\"fill:#00bbff;\"/>\n    <path clip-path=\"url(#p24e62a577f)\" d=\"M 297.943125 113.425765 \nL 297.943125 110.683248 \nL 297.913516 110.659219 \nL 288.707263 104.309316 \nL 284.823541 101.599219 \nL 279.471401 96.497301 \nL 273.830929 92.539219 \nL 270.235539 86.521305 \nL 266.389115 83.479219 \nL 270.235539 82.170285 \nL 276.102315 83.479219 \nL 279.471401 84.893915 \nL 288.707263 87.854172 \nL 297.943125 90.005513 \nL 297.943125 87.737943 \nL 288.707263 85.315381 \nL 284.233873 83.479219 \nL 279.471401 81.63781 \nL 270.235539 78.902405 \nL 261.900662 74.419219 \nL 260.999677 74.001194 \nL 251.763815 72.606821 \nL 250.404062 74.419219 \nL 251.763815 75.448109 \nL 259.330204 83.479219 \nL 260.999677 84.751221 \nL 269.572919 92.539219 \nL 270.235539 93.053284 \nL 279.471401 99.681421 \nL 281.483257 101.599219 \nL 288.707263 106.640198 \nL 294.534144 110.659219 \nz\n\" style=\"fill:#00bbff;\"/>\n    <path clip-path=\"url(#p24e62a577f)\" d=\"M 67.046573 67.028475 \nL 67.330449 65.359219 \nL 67.753378 56.299219 \nL 67.723753 47.239219 \nL 67.571226 38.179219 \nL 67.363499 29.119219 \nL 67.116514 20.059219 \nL 67.046573 17.951501 \nL 66.720518 10.999219 \nL 62.514587 10.999219 \nL 61.211271 20.059219 \nL 57.810711 28.914095 \nL 54.930583 20.059219 \nL 50.462729 10.999219 \nL 48.574849 10.999219 \nL 46.731403 10.999219 \nL 48.574849 17.666356 \nL 49.869381 20.059219 \nL 53.647441 29.119219 \nL 56.374977 38.179219 \nL 57.810711 44.030789 \nL 63.427523 47.239219 \nL 66.025516 56.299219 \nL 66.902483 65.359219 \nz\n\" style=\"fill:#00bbff;\"/>\n    <path clip-path=\"url(#p24e62a577f)\" d=\"M 297.943125 70.378701 \nL 297.943125 68.151171 \nL 294.631792 65.359219 \nL 288.707263 60.306986 \nL 283.635481 56.299219 \nL 279.471401 52.384089 \nL 272.743511 47.239219 \nL 270.235539 44.781783 \nL 261.183303 38.179219 \nL 260.999677 38.009213 \nL 251.763815 30.487363 \nL 250.074404 29.119219 \nL 242.527953 22.970915 \nL 238.947674 20.059219 \nL 233.292091 15.469023 \nL 227.915856 10.999219 \nL 225.275031 10.999219 \nL 233.292091 17.664607 \nL 236.242494 20.059219 \nL 242.527953 25.170929 \nL 247.374098 29.119219 \nL 251.763815 32.674165 \nL 258.448012 38.179219 \nL 260.999677 40.275144 \nL 269.479864 47.239219 \nL 270.235539 47.883627 \nL 279.471401 55.064696 \nL 280.784423 56.299219 \nL 288.707263 62.559917 \nL 291.989879 65.359219 \nz\n\" style=\"fill:#00bbff;\"/>\n    <path clip-path=\"url(#p24e62a577f)\" d=\"M 159.405194 58.31552 \nL 164.569504 56.299219 \nL 163.16589 47.239219 \nL 160.535293 38.179219 \nL 159.405194 35.214448 \nL 156.912994 29.119219 \nL 154.135525 20.059219 \nL 151.324209 10.999219 \nL 150.169332 10.999219 \nL 148.332355 10.999219 \nL 150.169332 16.16743 \nL 151.503209 20.059219 \nL 153.963639 29.119219 \nL 156.29733 38.179219 \nL 150.169332 46.931706 \nL 140.93347 38.553767 \nL 140.607715 38.179219 \nL 133.356845 29.119219 \nL 131.697608 27.339469 \nL 126.762846 20.059219 \nL 122.461746 13.172573 \nL 121.025122 10.999219 \nL 117.868014 10.999219 \nL 122.461746 17.94871 \nL 123.779878 20.059219 \nL 129.606769 29.119219 \nL 131.697608 31.65743 \nL 137.086371 38.179219 \nL 140.93347 42.602558 \nL 145.959563 47.239219 \nL 150.169332 51.472757 \nL 156.998541 56.299219 \nz\n\" style=\"fill:#00bbff;\"/>\n    <path clip-path=\"url(#p24e62a577f)\" d=\"M 224.056228 48.620728 \nL 224.54711 47.239219 \nL 224.056228 46.650887 \nL 217.921591 47.239219 \nz\n\" style=\"fill:#00bbff;\"/>\n    <path clip-path=\"url(#p24e62a577f)\" d=\"M 205.584504 39.995636 \nL 214.820366 46.613206 \nL 217.786062 38.179219 \nL 214.820366 33.36227 \nL 212.275105 29.119219 \nL 207.708555 20.059219 \nL 205.584504 16.112972 \nL 203.016475 10.999219 \nL 200.374745 10.999219 \nL 204.538244 20.059219 \nL 205.584504 22.304985 \nL 208.469453 29.119219 \nL 205.584504 35.175728 \nL 196.348642 30.013935 \nL 195.312592 29.119219 \nL 187.11278 22.345532 \nL 184.647384 20.059219 \nL 177.876918 13.758099 \nL 175.046047 10.999219 \nL 172.320493 10.999219 \nL 177.876918 16.41434 \nL 181.79329 20.059219 \nL 187.11278 24.99231 \nL 192.108564 29.119219 \nL 196.348642 32.780879 \nL 203.34621 38.179219 \nz\n\" style=\"fill:#00bbff;\"/>\n    <path clip-path=\"url(#p24e62a577f)\" d=\"M 288.707263 41.959326 \nL 297.943125 46.864197 \nL 297.943125 44.048365 \nL 288.707263 39.428835 \nL 286.91492 38.179219 \nL 279.471401 32.867562 \nL 274.771842 29.119219 \nL 270.235539 25.093588 \nL 264.90067 20.059219 \nL 260.999677 15.873497 \nL 256.724203 10.999219 \nL 253.850126 10.999219 \nL 260.999677 19.150106 \nL 261.846948 20.059219 \nL 270.235539 27.975301 \nL 271.524568 29.119219 \nL 279.471401 35.45757 \nL 283.285398 38.179219 \nz\n\" style=\"fill:#00bbff;\"/>\n    <path clip-path=\"url(#p24e62a577f)\" d=\"M 288.707263 21.166104 \nL 297.943125 28.30417 \nL 297.943125 26.154014 \nL 290.439353 20.059219 \nL 288.707263 18.564933 \nL 279.471401 11.332188 \nL 279.077518 10.999219 \nL 275.986465 10.999219 \nL 279.471401 13.94521 \nL 287.51837 20.059219 \nz\n\" style=\"fill:#00bbff;\"/>\n   </g>\n   <g id=\"PathCollection_12\">\n    <path clip-path=\"url(#p24e62a577f)\" d=\"M 288.707263 210.391748 \nL 297.943125 212.049606 \nL 297.943125 210.319219 \nL 297.943125 201.259219 \nL 297.943125 201.080131 \nL 290.787383 201.259219 \nL 288.707263 205.052442 \nL 288.293188 210.319219 \nz\n\" style=\"fill:#006eff;\"/>\n    <path clip-path=\"url(#p24e62a577f)\" d=\"M 122.461746 183.912139 \nL 131.697608 185.763881 \nL 140.93347 187.053489 \nL 150.169332 187.909992 \nL 159.405194 188.333776 \nL 168.641056 188.097172 \nL 177.876918 185.986864 \nL 181.347341 183.139219 \nL 177.876918 181.108772 \nL 170.540954 174.079219 \nL 168.641056 172.815754 \nL 159.405194 165.692224 \nL 158.69178 165.019219 \nL 150.169332 158.466961 \nL 147.200702 155.959219 \nL 140.93347 150.89567 \nL 136.062352 146.899219 \nL 131.697608 143.33581 \nL 124.938173 137.839219 \nL 122.461746 135.834949 \nL 113.884615 128.779219 \nL 113.225884 128.236604 \nL 103.990022 120.441926 \nL 102.999658 119.719219 \nL 94.754159 112.498618 \nL 91.516134 110.659219 \nL 85.518297 105.56851 \nL 80.093517 110.659219 \nL 78.904633 119.719219 \nL 79.471553 128.779219 \nL 80.787557 137.839219 \nL 82.823228 146.899219 \nL 85.518297 154.918783 \nL 85.972691 155.959219 \nL 91.334969 165.019219 \nL 94.754159 169.082673 \nL 100.375488 174.079219 \nL 103.990022 176.439501 \nL 113.225884 180.819425 \nL 119.634416 183.139219 \nz\nM 113.703669 174.079219 \nL 113.225884 173.830555 \nL 103.990022 167.568055 \nL 101.140365 165.019219 \nL 94.754159 157.012782 \nL 94.112139 155.959219 \nL 90.577781 146.899219 \nL 88.61093 137.839219 \nL 89.337473 128.779219 \nL 94.754159 124.822804 \nL 101.949924 128.779219 \nL 103.990022 129.69748 \nL 113.225884 136.553988 \nL 114.823812 137.839219 \nL 122.461746 143.966616 \nL 126.149935 146.899219 \nL 131.697608 151.575479 \nL 137.22272 155.959219 \nL 140.93347 159.435039 \nL 147.902614 165.019219 \nL 150.169332 167.946929 \nL 156.865454 174.079219 \nL 150.169332 180.582879 \nL 140.93347 180.700905 \nL 131.697608 179.347713 \nL 122.461746 177.147776 \nz\n\" style=\"fill:#006eff;\"/>\n    <path clip-path=\"url(#p24e62a577f)\" d=\"M 270.235539 166.206897 \nL 279.471401 167.71984 \nL 288.707263 169.075347 \nL 297.943125 170.505588 \nL 297.943125 167.470998 \nL 288.707263 166.681436 \nL 279.471401 165.57891 \nL 275.999732 165.019219 \nL 270.235539 163.252047 \nL 260.999677 161.417315 \nL 251.763815 159.865314 \nL 242.527953 158.198869 \nL 233.292091 156.16076 \nL 232.530658 155.959219 \nL 224.056228 153.593647 \nL 214.820366 151.167172 \nL 205.584504 148.362382 \nL 201.630253 146.899219 \nL 196.348642 144.958189 \nL 187.11278 141.370257 \nL 180.016393 137.839219 \nL 177.876918 136.748586 \nL 168.641056 131.635544 \nL 164.539118 128.779219 \nL 159.405194 125.032978 \nL 153.321499 119.719219 \nL 150.169332 116.654226 \nL 144.712426 110.659219 \nL 140.93347 105.823786 \nL 137.866376 101.599219 \nL 132.41527 92.539219 \nL 131.697608 91.262123 \nL 127.584817 83.479219 \nL 123.581173 74.419219 \nL 122.461746 71.829849 \nL 119.900577 65.359219 \nL 116.904515 56.299219 \nL 113.717781 47.239219 \nL 113.225884 45.900287 \nL 111.157353 38.179219 \nL 109.144865 29.119219 \nL 107.014061 20.059219 \nL 103.990022 13.293917 \nL 103.466363 10.999219 \nL 100.679046 10.999219 \nL 102.854243 20.059219 \nL 103.990022 24.094458 \nL 105.830929 29.119219 \nL 108.474216 38.179219 \nL 111.007913 47.239219 \nL 113.225884 53.962559 \nL 114.07715 56.299219 \nL 117.241464 65.359219 \nL 120.661232 74.419219 \nL 122.461746 78.427565 \nL 124.697813 83.479219 \nL 129.045303 92.539219 \nL 131.697608 97.07835 \nL 134.367669 101.599219 \nL 140.93347 110.64285 \nL 140.946262 110.659219 \nL 148.69487 119.719219 \nL 150.169332 121.212159 \nL 159.405194 128.749672 \nL 159.445685 128.779219 \nL 168.641056 135.182283 \nL 173.684439 137.839219 \nL 177.876918 140.171958 \nL 187.11278 144.192026 \nL 194.571738 146.899219 \nL 196.348642 147.628571 \nL 205.584504 150.895691 \nL 214.820366 153.460627 \nL 224.056228 155.939427 \nL 224.127131 155.959219 \nL 233.292091 158.385062 \nL 242.527953 160.33779 \nL 251.763815 162.142672 \nL 260.999677 164.168812 \nL 264.261948 165.019219 \nz\n\" style=\"fill:#006eff;\"/>\n    <path clip-path=\"url(#p24e62a577f)\" d=\"M 297.943125 161.526596 \nL 297.943125 157.203744 \nL 295.98852 155.959219 \nL 288.707263 153.347386 \nL 279.471401 149.708749 \nL 274.44148 146.899219 \nL 270.235539 144.496827 \nL 260.999677 139.712047 \nL 257.925562 137.839219 \nL 251.763815 132.915548 \nL 245.17736 128.779219 \nL 242.527953 123.823229 \nL 237.71009 119.719219 \nL 242.527953 118.429145 \nL 251.763815 119.398894 \nL 253.073412 119.719219 \nL 260.999677 122.428122 \nL 270.235539 124.379588 \nL 279.471401 126.082448 \nL 288.707263 128.120572 \nL 291.091885 128.779219 \nL 297.943125 130.279259 \nL 297.943125 128.779219 \nL 297.943125 127.04936 \nL 288.707263 125.395577 \nL 279.471401 123.877833 \nL 270.235539 122.008686 \nL 262.680922 119.719219 \nL 260.999677 119.214246 \nL 251.763815 116.929462 \nL 242.527953 114.752634 \nL 233.292091 111.058101 \nL 231.989245 110.659219 \nL 224.056228 109.659159 \nL 221.92417 110.659219 \nL 224.056228 112.401431 \nL 229.0513 119.719219 \nL 233.292091 122.794779 \nL 239.720794 128.779219 \nL 242.527953 130.728242 \nL 251.763815 136.842102 \nL 253.011661 137.839219 \nL 260.999677 142.705718 \nL 269.094567 146.899219 \nL 270.235539 147.798698 \nL 279.471401 152.63599 \nL 288.707263 155.782753 \nL 289.199213 155.959219 \nz\n\" style=\"fill:#006eff;\"/>\n    <path clip-path=\"url(#p24e62a577f)\" d=\"M 297.943125 116.168281 \nL 297.943125 113.425765 \nL 294.534144 110.659219 \nL 288.707263 106.640198 \nL 281.483257 101.599219 \nL 279.471401 99.681421 \nL 270.235539 93.053284 \nL 269.572919 92.539219 \nL 260.999677 84.751221 \nL 259.330204 83.479219 \nL 251.763815 75.448109 \nL 250.404062 74.419219 \nL 251.763815 72.606821 \nL 260.999677 74.001194 \nL 261.900662 74.419219 \nL 270.235539 78.902405 \nL 279.471401 81.63781 \nL 284.233873 83.479219 \nL 288.707263 85.315381 \nL 297.943125 87.737943 \nL 297.943125 85.470372 \nL 290.920601 83.479219 \nL 288.707263 82.540629 \nL 279.471401 79.246311 \nL 270.235539 75.634525 \nL 267.976113 74.419219 \nL 260.999677 71.182405 \nL 251.763815 65.492886 \nL 251.588471 65.359219 \nL 242.527953 60.334314 \nL 238.153643 56.299219 \nL 233.292091 52.061486 \nL 228.950362 47.239219 \nL 224.056228 41.373493 \nL 221.692039 38.179219 \nL 215.852713 29.119219 \nL 214.820366 27.491045 \nL 210.540007 20.059219 \nL 205.747664 10.999219 \nL 205.584504 10.999219 \nL 203.016475 10.999219 \nL 205.584504 16.112972 \nL 207.708555 20.059219 \nL 212.275105 29.119219 \nL 214.820366 33.36227 \nL 217.786062 38.179219 \nL 214.820366 46.613206 \nL 205.584504 39.995636 \nL 203.34621 38.179219 \nL 196.348642 32.780879 \nL 192.108564 29.119219 \nL 187.11278 24.99231 \nL 181.79329 20.059219 \nL 177.876918 16.41434 \nL 172.320493 10.999219 \nL 169.59494 10.999219 \nL 177.876918 19.070581 \nL 178.939196 20.059219 \nL 187.11278 27.639088 \nL 188.904537 29.119219 \nL 196.348642 35.547824 \nL 199.759573 38.179219 \nL 205.584504 42.906258 \nL 211.237213 47.239219 \nL 214.820366 50.052426 \nL 222.637213 56.299219 \nL 224.056228 57.410204 \nL 233.292091 64.737718 \nL 233.861727 65.359219 \nL 242.527953 71.439989 \nL 245.066828 74.419219 \nL 251.763815 79.486657 \nL 255.525346 83.479219 \nL 260.999677 87.650211 \nL 266.38163 92.539219 \nL 270.235539 95.529109 \nL 278.182347 101.599219 \nL 279.471401 102.71615 \nL 288.707263 108.971079 \nL 291.154771 110.659219 \nz\nM 217.921591 47.239219 \nL 224.056228 46.650887 \nL 224.54711 47.239219 \nL 224.056228 48.620728 \nz\n\" style=\"fill:#006eff;\"/>\n    <path clip-path=\"url(#p24e62a577f)\" d=\"M 168.641056 69.501804 \nL 174.373809 65.359219 \nL 171.069734 56.299219 \nL 168.641056 50.68573 \nL 167.001571 47.239219 \nL 163.284829 38.179219 \nL 159.880649 29.119219 \nL 159.405194 27.905374 \nL 156.767841 20.059219 \nL 154.85517 10.999219 \nL 151.324209 10.999219 \nL 154.135525 20.059219 \nL 156.912994 29.119219 \nL 159.405194 35.214448 \nL 160.535293 38.179219 \nL 163.16589 47.239219 \nL 164.569504 56.299219 \nL 159.405194 58.31552 \nL 156.998541 56.299219 \nL 150.169332 51.472757 \nL 145.959563 47.239219 \nL 140.93347 42.602558 \nL 137.086371 38.179219 \nL 131.697608 31.65743 \nL 129.606769 29.119219 \nL 123.779878 20.059219 \nL 122.461746 17.94871 \nL 117.868014 10.999219 \nL 114.710907 10.999219 \nL 119.422236 20.059219 \nL 122.461746 23.232634 \nL 126.09619 29.119219 \nL 131.697608 35.919162 \nL 133.565027 38.179219 \nL 140.93347 46.651348 \nL 141.570716 47.239219 \nL 150.169332 55.886385 \nL 150.753471 56.299219 \nL 159.405194 63.547661 \nL 162.632221 65.359219 \nz\n\" style=\"fill:#006eff;\"/>\n    <path clip-path=\"url(#p24e62a577f)\" d=\"M 297.943125 72.606231 \nL 297.943125 70.378701 \nL 291.989879 65.359219 \nL 288.707263 62.559917 \nL 280.784423 56.299219 \nL 279.471401 55.064696 \nL 270.235539 47.883627 \nL 269.479864 47.239219 \nL 260.999677 40.275144 \nL 258.448012 38.179219 \nL 251.763815 32.674165 \nL 247.374098 29.119219 \nL 242.527953 25.170929 \nL 236.242494 20.059219 \nL 233.292091 17.664607 \nL 225.275031 10.999219 \nL 224.056228 10.999219 \nL 221.676483 10.999219 \nL 224.056228 12.617508 \nL 233.292091 19.86019 \nL 233.537313 20.059219 \nL 242.527953 27.370943 \nL 244.673793 29.119219 \nL 251.763815 34.860967 \nL 255.792812 38.179219 \nL 260.999677 42.456112 \nL 266.824088 47.239219 \nL 270.235539 50.14836 \nL 277.940897 56.299219 \nL 279.471401 57.724962 \nL 288.707263 64.812848 \nL 289.347967 65.359219 \nz\n\" style=\"fill:#006eff;\"/>\n    <path clip-path=\"url(#p24e62a577f)\" d=\"M 288.707263 39.428835 \nL 297.943125 44.048365 \nL 297.943125 41.232533 \nL 291.646548 38.179219 \nL 288.707263 35.874764 \nL 279.471401 30.277553 \nL 278.019116 29.119219 \nL 270.235539 22.211875 \nL 267.954391 20.059219 \nL 260.999677 12.596888 \nL 259.598281 10.999219 \nL 256.724203 10.999219 \nL 260.999677 15.873497 \nL 264.90067 20.059219 \nL 270.235539 25.093588 \nL 274.771842 29.119219 \nL 279.471401 32.867562 \nL 286.91492 38.179219 \nz\n\" style=\"fill:#006eff;\"/>\n    <path clip-path=\"url(#p24e62a577f)\" d=\"M 297.943125 32.418204 \nL 297.943125 29.119219 \nL 297.943125 28.30417 \nL 288.707263 21.166104 \nL 287.51837 20.059219 \nL 279.471401 13.94521 \nL 275.986465 10.999219 \nL 272.895412 10.999219 \nL 279.471401 16.558233 \nL 284.079233 20.059219 \nL 288.707263 24.368016 \nL 295.218461 29.119219 \nz\n\" style=\"fill:#006eff;\"/>\n    <path clip-path=\"url(#p24e62a577f)\" d=\"M 57.810711 28.914095 \nL 61.211271 20.059219 \nL 62.514587 10.999219 \nL 58.308656 10.999219 \nL 57.810711 12.95182 \nL 57.032865 10.999219 \nL 50.462729 10.999219 \nL 54.930583 20.059219 \nz\n\" style=\"fill:#006eff;\"/>\n   </g>\n   <g id=\"PathCollection_13\">\n    <path clip-path=\"url(#p24e62a577f)\" d=\"M 122.461746 177.147776 \nL 131.697608 179.347713 \nL 140.93347 180.700905 \nL 150.169332 180.582879 \nL 156.865454 174.079219 \nL 150.169332 167.946929 \nL 147.902614 165.019219 \nL 140.93347 159.435039 \nL 137.22272 155.959219 \nL 131.697608 151.575479 \nL 126.149935 146.899219 \nL 122.461746 143.966616 \nL 114.823812 137.839219 \nL 113.225884 136.553988 \nL 103.990022 129.69748 \nL 101.949924 128.779219 \nL 94.754159 124.822804 \nL 89.337473 128.779219 \nL 88.61093 137.839219 \nL 90.577781 146.899219 \nL 94.112139 155.959219 \nL 94.754159 157.012782 \nL 101.140365 165.019219 \nL 103.990022 167.568055 \nL 113.225884 173.830555 \nL 113.703669 174.079219 \nz\nM 119.294311 165.019219 \nL 113.225884 160.491829 \nL 108.672153 155.959219 \nL 113.225884 150.406088 \nL 122.461746 155.619246 \nL 122.902317 155.959219 \nL 129.275983 165.019219 \nL 122.461746 166.167147 \nz\n\" style=\"fill:#001cff;\"/>\n    <path clip-path=\"url(#p24e62a577f)\" d=\"M 279.471401 165.57891 \nL 288.707263 166.681436 \nL 297.943125 167.470998 \nL 297.943125 165.019219 \nL 297.943125 161.526596 \nL 289.199213 155.959219 \nL 288.707263 155.782753 \nL 279.471401 152.63599 \nL 270.235539 147.798698 \nL 269.094567 146.899219 \nL 260.999677 142.705718 \nL 253.011661 137.839219 \nL 251.763815 136.842102 \nL 242.527953 130.728242 \nL 239.720794 128.779219 \nL 233.292091 122.794779 \nL 229.0513 119.719219 \nL 224.056228 112.401431 \nL 221.92417 110.659219 \nL 224.056228 109.659159 \nL 231.989245 110.659219 \nL 233.292091 111.058101 \nL 242.527953 114.752634 \nL 251.763815 116.929462 \nL 260.999677 119.214246 \nL 262.680922 119.719219 \nL 270.235539 122.008686 \nL 279.471401 123.877833 \nL 288.707263 125.395577 \nL 297.943125 127.04936 \nL 297.943125 121.388028 \nL 288.707263 122.670582 \nL 279.471401 121.673219 \nL 270.580105 119.719219 \nL 270.235539 119.610759 \nL 260.999677 116.864461 \nL 251.763815 114.460029 \nL 242.527953 111.076123 \nL 241.560153 110.659219 \nL 233.292091 107.890382 \nL 224.056228 104.400982 \nL 219.18291 101.599219 \nL 214.820366 99.648514 \nL 205.584504 94.795536 \nL 203.153181 101.599219 \nL 205.584504 103.473463 \nL 212.776405 110.659219 \nL 214.820366 112.245574 \nL 223.092114 119.719219 \nL 224.056228 120.465556 \nL 233.292091 127.329488 \nL 234.849445 128.779219 \nL 242.527953 134.110443 \nL 248.036261 137.839219 \nL 251.763815 140.696872 \nL 260.999677 145.69939 \nL 263.315756 146.899219 \nL 270.235539 152.354389 \nL 279.471401 155.563232 \nL 280.646951 155.959219 \nL 279.471401 157.36175 \nL 270.235539 159.180754 \nL 260.999677 158.665818 \nL 251.763815 157.587956 \nL 242.527953 156.059947 \nL 242.073222 155.959219 \nL 233.292091 153.447958 \nL 224.056228 151.247867 \nL 214.820366 148.873717 \nL 208.62458 146.899219 \nL 205.584504 145.795605 \nL 196.348642 142.442106 \nL 187.11278 138.548488 \nL 185.687349 137.839219 \nL 177.876918 133.857723 \nL 169.562375 128.779219 \nL 168.641056 128.157545 \nL 159.405194 121.316284 \nL 157.576723 119.719219 \nL 150.169332 112.516683 \nL 148.47859 110.659219 \nL 141.349751 101.599219 \nL 140.93347 101.010335 \nL 135.485345 92.539219 \nL 131.697608 85.798856 \nL 130.471821 83.479219 \nL 126.48551 74.419219 \nL 122.595279 65.359219 \nL 122.461746 65.026292 \nL 119.73188 56.299219 \nL 117.397165 47.239219 \nL 114.862678 38.179219 \nL 113.225884 33.672912 \nL 112.458801 29.119219 \nL 112.473696 20.059219 \nL 113.225884 18.188941 \nL 113.976198 20.059219 \nL 122.461746 28.918598 \nL 122.585611 29.119219 \nL 128.868162 38.179219 \nL 131.697608 40.589463 \nL 137.26255 47.239219 \nL 140.93347 50.768015 \nL 146.442364 56.299219 \nL 150.169332 59.791557 \nL 156.528407 65.359219 \nL 159.405194 67.89092 \nL 167.512323 74.419219 \nL 168.641056 75.356917 \nL 177.876918 81.86512 \nL 180.53455 83.479219 \nL 187.11278 87.685087 \nL 192.702843 83.479219 \nL 187.11278 75.908245 \nL 186.231154 74.419219 \nL 180.018199 65.359219 \nL 177.876918 61.833425 \nL 174.558338 56.299219 \nL 170.286746 47.239219 \nL 168.641056 43.827786 \nL 166.034366 38.179219 \nL 162.948066 29.119219 \nL 159.405194 20.074206 \nL 159.400156 20.059219 \nL 158.386132 10.999219 \nL 154.85517 10.999219 \nL 156.767841 20.059219 \nL 159.405194 27.905374 \nL 159.880649 29.119219 \nL 163.284829 38.179219 \nL 167.001571 47.239219 \nL 168.641056 50.68573 \nL 171.069734 56.299219 \nL 174.373809 65.359219 \nL 168.641056 69.501804 \nL 162.632221 65.359219 \nL 159.405194 63.547661 \nL 150.753471 56.299219 \nL 150.169332 55.886385 \nL 141.570716 47.239219 \nL 140.93347 46.651348 \nL 133.565027 38.179219 \nL 131.697608 35.919162 \nL 126.09619 29.119219 \nL 122.461746 23.232634 \nL 119.422236 20.059219 \nL 114.710907 10.999219 \nL 113.225884 10.999219 \nL 103.990022 10.999219 \nL 103.466363 10.999219 \nL 103.990022 13.293917 \nL 107.014061 20.059219 \nL 109.144865 29.119219 \nL 111.157353 38.179219 \nL 113.225884 45.900287 \nL 113.717781 47.239219 \nL 116.904515 56.299219 \nL 119.900577 65.359219 \nL 122.461746 71.829849 \nL 123.581173 74.419219 \nL 127.584817 83.479219 \nL 131.697608 91.262123 \nL 132.41527 92.539219 \nL 137.866376 101.599219 \nL 140.93347 105.823786 \nL 144.712426 110.659219 \nL 150.169332 116.654226 \nL 153.321499 119.719219 \nL 159.405194 125.032978 \nL 164.539118 128.779219 \nL 168.641056 131.635544 \nL 177.876918 136.748586 \nL 180.016393 137.839219 \nL 187.11278 141.370257 \nL 196.348642 144.958189 \nL 201.630253 146.899219 \nL 205.584504 148.362382 \nL 214.820366 151.167172 \nL 224.056228 153.593647 \nL 232.530658 155.959219 \nL 233.292091 156.16076 \nL 242.527953 158.198869 \nL 251.763815 159.865314 \nL 260.999677 161.417315 \nL 270.235539 163.252047 \nL 275.999732 165.019219 \nz\n\" style=\"fill:#001cff;\"/>\n    <path clip-path=\"url(#p24e62a577f)\" d=\"M 288.707263 112.497798 \nL 297.943125 118.910798 \nL 297.943125 116.168281 \nL 291.154771 110.659219 \nL 288.707263 108.971079 \nL 279.471401 102.71615 \nL 278.182347 101.599219 \nL 270.235539 95.529109 \nL 266.38163 92.539219 \nL 260.999677 87.650211 \nL 255.525346 83.479219 \nL 251.763815 79.486657 \nL 245.066828 74.419219 \nL 242.527953 71.439989 \nL 233.861727 65.359219 \nL 233.292091 64.737718 \nL 224.056228 57.410204 \nL 222.637213 56.299219 \nL 214.820366 50.052426 \nL 211.237213 47.239219 \nL 205.584504 42.906258 \nL 199.759573 38.179219 \nL 196.348642 35.547824 \nL 188.904537 29.119219 \nL 187.11278 27.639088 \nL 178.939196 20.059219 \nL 177.876918 19.070581 \nL 169.59494 10.999219 \nL 168.641056 10.999219 \nL 162.245015 10.999219 \nL 168.641056 13.900257 \nL 174.98904 20.059219 \nL 177.876918 22.125263 \nL 185.526284 29.119219 \nL 187.11278 30.374935 \nL 196.186381 38.179219 \nL 196.348642 38.310485 \nL 205.584504 45.81688 \nL 207.440063 47.239219 \nL 214.820366 53.033646 \nL 218.9067 56.299219 \nL 224.056228 60.330925 \nL 230.038828 65.359219 \nL 233.292091 67.940587 \nL 240.842983 74.419219 \nL 242.527953 75.783717 \nL 251.728385 83.479219 \nL 251.763815 83.509082 \nL 260.999677 90.549202 \nL 263.190342 92.539219 \nL 270.235539 98.004935 \nL 274.941069 101.599219 \nL 279.471401 105.524633 \nL 287.496805 110.659219 \nz\n\" style=\"fill:#001cff;\"/>\n    <path clip-path=\"url(#p24e62a577f)\" d=\"M 196.348642 94.905123 \nL 203.265492 92.539219 \nL 196.348642 88.066126 \nL 193.067284 92.539219 \nz\n\" style=\"fill:#001cff;\"/>\n    <path clip-path=\"url(#p24e62a577f)\" d=\"M 297.943125 85.470372 \nL 297.943125 83.479219 \nL 297.943125 74.419219 \nL 297.943125 72.606231 \nL 289.347967 65.359219 \nL 288.707263 64.812848 \nL 279.471401 57.724962 \nL 277.940897 56.299219 \nL 270.235539 50.14836 \nL 266.824088 47.239219 \nL 260.999677 42.456112 \nL 255.792812 38.179219 \nL 251.763815 34.860967 \nL 244.673793 29.119219 \nL 242.527953 27.370943 \nL 233.537313 20.059219 \nL 233.292091 19.86019 \nL 224.056228 12.617508 \nL 221.676483 10.999219 \nL 217.257078 10.999219 \nL 224.056228 15.622819 \nL 229.771443 20.059219 \nL 233.292091 22.666745 \nL 241.755654 29.119219 \nL 242.527953 29.728259 \nL 251.763815 37.04777 \nL 253.137612 38.179219 \nL 260.999677 44.637081 \nL 264.168312 47.239219 \nL 270.235539 52.413093 \nL 275.103801 56.299219 \nL 279.471401 60.367864 \nL 286.063337 65.359219 \nL 288.707263 68.547958 \nL 296.855845 74.419219 \nL 288.707263 79.149243 \nL 279.471401 76.854812 \nL 273.758735 74.419219 \nL 270.235539 72.580228 \nL 260.999677 68.363615 \nL 256.190817 65.359219 \nL 251.763815 62.482929 \nL 243.401413 56.299219 \nL 242.527953 55.565173 \nL 233.343438 47.239219 \nL 233.292091 47.184801 \nL 225.402962 38.179219 \nL 224.056228 36.414507 \nL 218.969803 29.119219 \nL 214.820366 22.574902 \nL 213.371459 20.059219 \nL 211.595865 10.999219 \nL 205.747664 10.999219 \nL 210.540007 20.059219 \nL 214.820366 27.491045 \nL 215.852713 29.119219 \nL 221.692039 38.179219 \nL 224.056228 41.373493 \nL 228.950362 47.239219 \nL 233.292091 52.061486 \nL 238.153643 56.299219 \nL 242.527953 60.334314 \nL 251.588471 65.359219 \nL 251.763815 65.492886 \nL 260.999677 71.182405 \nL 267.976113 74.419219 \nL 270.235539 75.634525 \nL 279.471401 79.246311 \nL 288.707263 82.540629 \nL 290.920601 83.479219 \nz\n\" style=\"fill:#001cff;\"/>\n    <path clip-path=\"url(#p24e62a577f)\" d=\"M 297.943125 41.232533 \nL 297.943125 38.416701 \nL 297.453387 38.179219 \nL 297.943125 37.731136 \nL 297.943125 32.418204 \nL 295.218461 29.119219 \nL 288.707263 24.368016 \nL 284.079233 20.059219 \nL 279.471401 16.558233 \nL 272.895412 10.999219 \nL 270.235539 10.999219 \nL 260.999677 10.999219 \nL 259.598281 10.999219 \nL 260.999677 12.596888 \nL 267.954391 20.059219 \nL 270.235539 22.211875 \nL 278.019116 29.119219 \nL 279.471401 30.277553 \nL 288.707263 35.874764 \nL 291.646548 38.179219 \nz\nM 284.39628 29.119219 \nL 288.707263 27.569928 \nL 290.83046 29.119219 \nL 288.707263 31.322094 \nz\nM 274.177095 20.059219 \nL 279.471401 19.171255 \nL 280.640097 20.059219 \nL 279.471401 23.508495 \nz\n\" style=\"fill:#001cff;\"/>\n    <path clip-path=\"url(#p24e62a577f)\" d=\"M 57.810711 12.95182 \nL 58.308656 10.999219 \nL 57.810711 10.999219 \nL 57.032865 10.999219 \nz\n\" style=\"fill:#001cff;\"/>\n   </g>\n   <g id=\"PathCollection_14\">\n    <path clip-path=\"url(#p24e62a577f)\" d=\"M 122.461746 166.167147 \nL 129.275983 165.019219 \nL 122.902317 155.959219 \nL 122.461746 155.619246 \nL 113.225884 150.406088 \nL 108.672153 155.959219 \nL 113.225884 160.491829 \nL 119.294311 165.019219 \nz\n\" style=\"fill:#3100ff;\"/>\n    <path clip-path=\"url(#p24e62a577f)\" d=\"M 242.527953 156.059947 \nL 251.763815 157.587956 \nL 260.999677 158.665818 \nL 270.235539 159.180754 \nL 279.471401 157.36175 \nL 280.646951 155.959219 \nL 279.471401 155.563232 \nL 270.235539 152.354389 \nL 263.315756 146.899219 \nL 260.999677 145.69939 \nL 251.763815 140.696872 \nL 248.036261 137.839219 \nL 242.527953 134.110443 \nL 234.849445 128.779219 \nL 233.292091 127.329488 \nL 224.056228 120.465556 \nL 223.092114 119.719219 \nL 214.820366 112.245574 \nL 212.776405 110.659219 \nL 205.584504 103.473463 \nL 203.153181 101.599219 \nL 205.584504 94.795536 \nL 214.820366 99.648514 \nL 219.18291 101.599219 \nL 224.056228 104.400982 \nL 233.292091 107.890382 \nL 241.560153 110.659219 \nL 242.527953 111.076123 \nL 251.763815 114.460029 \nL 260.999677 116.864461 \nL 270.235539 119.610759 \nL 270.580105 119.719219 \nL 279.471401 121.673219 \nL 288.707263 122.670582 \nL 297.943125 121.388028 \nL 297.943125 119.719219 \nL 297.943125 118.910798 \nL 288.707263 112.497798 \nL 287.496805 110.659219 \nL 279.471401 105.524633 \nL 274.941069 101.599219 \nL 270.235539 98.004935 \nL 263.190342 92.539219 \nL 260.999677 90.549202 \nL 251.763815 83.509082 \nL 251.728385 83.479219 \nL 242.527953 75.783717 \nL 240.842983 74.419219 \nL 233.292091 67.940587 \nL 230.038828 65.359219 \nL 224.056228 60.330925 \nL 218.9067 56.299219 \nL 214.820366 53.033646 \nL 207.440063 47.239219 \nL 205.584504 45.81688 \nL 196.348642 38.310485 \nL 196.186381 38.179219 \nL 187.11278 30.374935 \nL 185.526284 29.119219 \nL 177.876918 22.125263 \nL 174.98904 20.059219 \nL 168.641056 13.900257 \nL 162.245015 10.999219 \nL 159.405194 10.999219 \nL 158.386132 10.999219 \nL 159.400156 20.059219 \nL 159.405194 20.074206 \nL 162.948066 29.119219 \nL 166.034366 38.179219 \nL 168.641056 43.827786 \nL 170.286746 47.239219 \nL 174.558338 56.299219 \nL 177.876918 61.833425 \nL 180.018199 65.359219 \nL 186.231154 74.419219 \nL 187.11278 75.908245 \nL 192.702843 83.479219 \nL 187.11278 87.685087 \nL 180.53455 83.479219 \nL 177.876918 81.86512 \nL 168.641056 75.356917 \nL 167.512323 74.419219 \nL 159.405194 67.89092 \nL 156.528407 65.359219 \nL 150.169332 59.791557 \nL 146.442364 56.299219 \nL 140.93347 50.768015 \nL 137.26255 47.239219 \nL 131.697608 40.589463 \nL 128.868162 38.179219 \nL 122.585611 29.119219 \nL 122.461746 28.918598 \nL 113.976198 20.059219 \nL 113.225884 18.188941 \nL 112.473696 20.059219 \nL 112.458801 29.119219 \nL 113.225884 33.672912 \nL 114.862678 38.179219 \nL 117.397165 47.239219 \nL 119.73188 56.299219 \nL 122.461746 65.026292 \nL 122.595279 65.359219 \nL 126.48551 74.419219 \nL 130.471821 83.479219 \nL 131.697608 85.798856 \nL 135.485345 92.539219 \nL 140.93347 101.010335 \nL 141.349751 101.599219 \nL 148.47859 110.659219 \nL 150.169332 112.516683 \nL 157.576723 119.719219 \nL 159.405194 121.316284 \nL 168.641056 128.157545 \nL 169.562375 128.779219 \nL 177.876918 133.857723 \nL 185.687349 137.839219 \nL 187.11278 138.548488 \nL 196.348642 142.442106 \nL 205.584504 145.795605 \nL 208.62458 146.899219 \nL 214.820366 148.873717 \nL 224.056228 151.247867 \nL 233.292091 153.447958 \nL 242.073222 155.959219 \nz\nM 216.11402 146.899219 \nL 214.820366 146.447229 \nL 205.584504 143.183068 \nL 196.348642 139.926022 \nL 191.494429 137.839219 \nL 187.11278 135.700885 \nL 177.876918 130.966859 \nL 174.295306 128.779219 \nL 168.641056 124.963929 \nL 161.785802 119.719219 \nL 159.405194 117.63989 \nL 152.233526 110.659219 \nL 150.169332 108.352832 \nL 144.724172 101.599219 \nL 140.93347 96.236772 \nL 138.555421 92.539219 \nL 133.644329 83.479219 \nL 131.697608 79.67395 \nL 129.389846 74.419219 \nL 126.22062 65.359219 \nL 122.691539 56.299219 \nL 122.461746 55.538987 \nL 121.076548 47.239219 \nL 122.008285 38.179219 \nL 122.461746 37.620027 \nL 122.844037 38.179219 \nL 131.697608 45.721073 \nL 132.96809 47.239219 \nL 140.93347 54.896211 \nL 142.330819 56.299219 \nL 150.169332 63.644262 \nL 152.128061 65.359219 \nL 159.405194 71.763423 \nL 162.703278 74.419219 \nL 168.641056 79.352043 \nL 173.878178 83.479219 \nL 177.876918 86.699356 \nL 185.108032 92.539219 \nL 187.11278 94.147148 \nL 196.060673 101.599219 \nL 196.348642 101.832767 \nL 205.584504 109.048694 \nL 207.196406 110.659219 \nL 214.820366 116.576312 \nL 218.298901 119.719219 \nL 224.056228 124.176062 \nL 230.021091 128.779219 \nL 233.292091 131.4781 \nL 242.527953 137.492644 \nL 243.039928 137.839219 \nL 251.763815 144.52721 \nL 256.457761 146.899219 \nL 251.763815 153.105046 \nL 242.527953 152.128223 \nL 233.292091 150.686484 \nL 224.056228 148.902086 \nz\nM 284.807696 119.719219 \nL 288.707263 119.165338 \nL 289.680542 119.719219 \nL 288.707263 119.945587 \nz\nM 248.271292 110.659219 \nL 242.527953 108.436853 \nL 233.292091 105.032271 \nL 226.642438 101.599219 \nL 224.056228 100.285742 \nL 214.820366 95.558921 \nL 210.628569 92.539219 \nL 205.584504 89.059903 \nL 199.269039 83.479219 \nL 196.348642 80.731851 \nL 190.549038 74.419219 \nL 187.11278 70.152651 \nL 183.551426 65.359219 \nL 178.030539 56.299219 \nL 177.876918 56.037867 \nL 173.160964 47.239219 \nL 168.847925 38.179219 \nL 168.641056 37.660782 \nL 166.015484 29.119219 \nL 166.09427 20.059219 \nL 168.641056 18.363242 \nL 170.389083 20.059219 \nL 177.876918 25.416162 \nL 181.926992 29.119219 \nL 187.11278 33.223787 \nL 192.874181 38.179219 \nL 196.348642 40.989989 \nL 203.923715 47.239219 \nL 205.584504 48.58733 \nL 214.820366 56.014866 \nL 215.176187 56.299219 \nL 224.056228 63.251645 \nL 226.563793 65.359219 \nL 233.292091 70.697925 \nL 237.629285 74.419219 \nL 242.527953 78.386188 \nL 248.616975 83.479219 \nL 251.763815 86.131622 \nL 259.949234 92.539219 \nL 260.999677 93.532211 \nL 270.235539 100.48076 \nL 271.699792 101.599219 \nL 279.471401 108.333115 \nL 283.107122 110.659219 \nL 279.471401 118.625796 \nL 270.235539 116.453053 \nL 260.999677 114.514675 \nL 251.763815 111.990596 \nz\nM 193.067284 92.539219 \nL 196.348642 88.066126 \nL 203.265492 92.539219 \nL 196.348642 94.905123 \nz\n\" style=\"fill:#3100ff;\"/>\n    <path clip-path=\"url(#p24e62a577f)\" d=\"M 279.471401 76.854812 \nL 288.707263 79.149243 \nL 296.855845 74.419219 \nL 288.707263 68.547958 \nL 286.063337 65.359219 \nL 279.471401 60.367864 \nL 275.103801 56.299219 \nL 270.235539 52.413093 \nL 264.168312 47.239219 \nL 260.999677 44.637081 \nL 253.137612 38.179219 \nL 251.763815 37.04777 \nL 242.527953 29.728259 \nL 241.755654 29.119219 \nL 233.292091 22.666745 \nL 229.771443 20.059219 \nL 224.056228 15.622819 \nL 217.257078 10.999219 \nL 214.820366 10.999219 \nL 211.595865 10.999219 \nL 213.371459 20.059219 \nL 214.820366 22.574902 \nL 218.969803 29.119219 \nL 224.056228 36.414507 \nL 225.402962 38.179219 \nL 233.292091 47.184801 \nL 233.343438 47.239219 \nL 242.527953 55.565173 \nL 243.401413 56.299219 \nL 251.763815 62.482929 \nL 256.190817 65.359219 \nL 260.999677 68.363615 \nL 270.235539 72.580228 \nL 273.758735 74.419219 \nz\nM 279.367977 74.419219 \nL 270.235539 69.652391 \nL 260.999677 65.544826 \nL 260.702593 65.359219 \nL 251.763815 59.551561 \nL 247.365583 56.299219 \nL 242.527953 52.233736 \nL 237.018409 47.239219 \nL 233.292091 43.290138 \nL 228.81479 38.179219 \nL 224.056228 31.94377 \nL 222.086893 29.119219 \nL 219.496204 20.059219 \nL 224.056228 18.628129 \nL 225.899837 20.059219 \nL 233.292091 25.534205 \nL 237.994472 29.119219 \nL 242.527953 32.694351 \nL 249.852307 38.179219 \nL 251.763815 39.816168 \nL 260.999677 46.81805 \nL 261.512536 47.239219 \nL 270.235539 54.677826 \nL 272.266705 56.299219 \nL 279.471401 63.010765 \nL 282.572934 65.359219 \nL 288.707263 72.757601 \nL 291.013383 74.419219 \nL 288.707263 75.757857 \nL 279.471401 74.463313 \nz\n\" style=\"fill:#3100ff;\"/>\n    <path clip-path=\"url(#p24e62a577f)\" d=\"M 297.943125 38.416701 \nL 297.943125 38.179219 \nL 297.943125 37.731136 \nL 297.453387 38.179219 \nz\n\" style=\"fill:#3100ff;\"/>\n    <path clip-path=\"url(#p24e62a577f)\" d=\"M 288.707263 31.322094 \nL 290.83046 29.119219 \nL 288.707263 27.569928 \nL 284.39628 29.119219 \nz\n\" style=\"fill:#3100ff;\"/>\n    <path clip-path=\"url(#p24e62a577f)\" d=\"M 279.471401 23.508495 \nL 280.640097 20.059219 \nL 279.471401 19.171255 \nL 274.177095 20.059219 \nz\n\" style=\"fill:#3100ff;\"/>\n   </g>\n   <g id=\"PathCollection_15\">\n    <path clip-path=\"url(#p24e62a577f)\" d=\"M 224.056228 148.902086 \nL 233.292091 150.686484 \nL 242.527953 152.128223 \nL 251.763815 153.105046 \nL 256.457761 146.899219 \nL 251.763815 144.52721 \nL 243.039928 137.839219 \nL 242.527953 137.492644 \nL 233.292091 131.4781 \nL 230.021091 128.779219 \nL 224.056228 124.176062 \nL 218.298901 119.719219 \nL 214.820366 116.576312 \nL 207.196406 110.659219 \nL 205.584504 109.048694 \nL 196.348642 101.832767 \nL 196.060673 101.599219 \nL 187.11278 94.147148 \nL 185.108032 92.539219 \nL 177.876918 86.699356 \nL 173.878178 83.479219 \nL 168.641056 79.352043 \nL 162.703278 74.419219 \nL 159.405194 71.763423 \nL 152.128061 65.359219 \nL 150.169332 63.644262 \nL 142.330819 56.299219 \nL 140.93347 54.896211 \nL 132.96809 47.239219 \nL 131.697608 45.721073 \nL 122.844037 38.179219 \nL 122.461746 37.620027 \nL 122.008285 38.179219 \nL 121.076548 47.239219 \nL 122.461746 55.538987 \nL 122.691539 56.299219 \nL 126.22062 65.359219 \nL 129.389846 74.419219 \nL 131.697608 79.67395 \nL 133.644329 83.479219 \nL 138.555421 92.539219 \nL 140.93347 96.236772 \nL 144.724172 101.599219 \nL 150.169332 108.352832 \nL 152.233526 110.659219 \nL 159.405194 117.63989 \nL 161.785802 119.719219 \nL 168.641056 124.963929 \nL 174.295306 128.779219 \nL 177.876918 130.966859 \nL 187.11278 135.700885 \nL 191.494429 137.839219 \nL 196.348642 139.926022 \nL 205.584504 143.183068 \nL 214.820366 146.447229 \nL 216.11402 146.899219 \nz\nM 226.664416 146.899219 \nL 224.056228 146.094813 \nL 214.820366 143.197205 \nL 205.584504 140.57053 \nL 197.644424 137.839219 \nL 196.348642 137.24553 \nL 187.11278 132.844608 \nL 179.225006 128.779219 \nL 177.876918 127.931265 \nL 168.641056 121.770312 \nL 165.960113 119.719219 \nL 159.405194 113.99386 \nL 155.979314 110.659219 \nL 150.169332 104.167549 \nL 148.098593 101.599219 \nL 141.835856 92.539219 \nL 140.93347 91.059283 \nL 137.027507 83.479219 \nL 132.74618 74.419219 \nL 131.697608 71.820636 \nL 129.845961 65.359219 \nL 129.355308 56.299219 \nL 131.697608 53.282545 \nL 134.906645 56.299219 \nL 140.93347 60.000455 \nL 146.776932 65.359219 \nL 150.169332 67.923681 \nL 157.717714 74.419219 \nL 159.405194 75.75853 \nL 168.641056 83.34717 \nL 168.808618 83.479219 \nL 177.876918 90.781812 \nL 180.052998 92.539219 \nL 187.11278 98.201594 \nL 191.192396 101.599219 \nL 196.348642 105.781028 \nL 202.210575 110.659219 \nL 205.584504 113.46374 \nL 213.458759 119.719219 \nL 214.820366 120.936676 \nL 224.056228 127.886568 \nL 225.212943 128.779219 \nL 233.292091 135.445274 \nL 237.00521 137.839219 \nL 242.527953 144.625906 \nL 246.603092 146.899219 \nL 242.527953 148.107899 \nL 233.292091 147.925011 \nz\n\" style=\"fill:#8400ff;\"/>\n    <path clip-path=\"url(#p24e62a577f)\" d=\"M 288.707263 119.945587 \nL 289.680542 119.719219 \nL 288.707263 119.165338 \nL 284.807696 119.719219 \nz\n\" style=\"fill:#8400ff;\"/>\n    <path clip-path=\"url(#p24e62a577f)\" d=\"M 251.763815 111.990596 \nL 260.999677 114.514675 \nL 270.235539 116.453053 \nL 279.471401 118.625796 \nL 283.107122 110.659219 \nL 279.471401 108.333115 \nL 271.699792 101.599219 \nL 270.235539 100.48076 \nL 260.999677 93.532211 \nL 259.949234 92.539219 \nL 251.763815 86.131622 \nL 248.616975 83.479219 \nL 242.527953 78.386188 \nL 237.629285 74.419219 \nL 233.292091 70.697925 \nL 226.563793 65.359219 \nL 224.056228 63.251645 \nL 215.176187 56.299219 \nL 214.820366 56.014866 \nL 205.584504 48.58733 \nL 203.923715 47.239219 \nL 196.348642 40.989989 \nL 192.874181 38.179219 \nL 187.11278 33.223787 \nL 181.926992 29.119219 \nL 177.876918 25.416162 \nL 170.389083 20.059219 \nL 168.641056 18.363242 \nL 166.09427 20.059219 \nL 166.015484 29.119219 \nL 168.641056 37.660782 \nL 168.847925 38.179219 \nL 173.160964 47.239219 \nL 177.876918 56.037867 \nL 178.030539 56.299219 \nL 183.551426 65.359219 \nL 187.11278 70.152651 \nL 190.549038 74.419219 \nL 196.348642 80.731851 \nL 199.269039 83.479219 \nL 205.584504 89.059903 \nL 210.628569 92.539219 \nL 214.820366 95.558921 \nL 224.056228 100.285742 \nL 226.642438 101.599219 \nL 233.292091 105.032271 \nL 242.527953 108.436853 \nL 248.271292 110.659219 \nz\nM 255.627566 110.659219 \nL 251.763815 109.161807 \nL 242.527953 105.930246 \nL 233.292091 102.174161 \nL 232.178456 101.599219 \nL 224.056228 97.474124 \nL 216.018416 92.539219 \nL 214.820366 91.727508 \nL 205.584504 85.144022 \nL 203.700504 83.479219 \nL 196.348642 76.562943 \nL 194.379138 74.419219 \nL 187.11278 65.397076 \nL 187.084653 65.359219 \nL 181.182577 56.299219 \nL 177.876918 50.675382 \nL 176.035182 47.239219 \nL 172.829786 38.179219 \nL 173.581433 29.119219 \nL 177.876918 28.707061 \nL 178.3277 29.119219 \nL 187.11278 36.072639 \nL 189.561982 38.179219 \nL 196.348642 43.669492 \nL 200.675726 47.239219 \nL 205.584504 51.223818 \nL 211.867759 56.299219 \nL 214.820366 58.715683 \nL 223.126429 65.359219 \nL 224.056228 66.139697 \nL 233.292091 73.455263 \nL 234.415588 74.419219 \nL 242.527953 80.98866 \nL 245.505565 83.479219 \nL 251.763815 88.754162 \nL 256.599055 92.539219 \nL 260.999677 96.699161 \nL 267.819145 101.599219 \nL 270.235539 105.190592 \nL 277.895443 110.659219 \nL 270.235539 113.295348 \nL 260.999677 112.16489 \nz\n\" style=\"fill:#8400ff;\"/>\n    <path clip-path=\"url(#p24e62a577f)\" d=\"M 279.471401 74.463313 \nL 288.707263 75.757857 \nL 291.013383 74.419219 \nL 288.707263 72.757601 \nL 282.572934 65.359219 \nL 279.471401 63.010765 \nL 272.266705 56.299219 \nL 270.235539 54.677826 \nL 261.512536 47.239219 \nL 260.999677 46.81805 \nL 251.763815 39.816168 \nL 249.852307 38.179219 \nL 242.527953 32.694351 \nL 237.994472 29.119219 \nL 233.292091 25.534205 \nL 225.899837 20.059219 \nL 224.056228 18.628129 \nL 219.496204 20.059219 \nL 222.086893 29.119219 \nL 224.056228 31.94377 \nL 228.81479 38.179219 \nL 233.292091 43.290138 \nL 237.018409 47.239219 \nL 242.527953 52.233736 \nL 247.365583 56.299219 \nL 251.763815 59.551561 \nL 260.702593 65.359219 \nL 260.999677 65.544826 \nL 270.235539 69.652391 \nL 279.367977 74.419219 \nz\nM 267.160207 65.359219 \nL 260.999677 61.249391 \nL 251.763815 56.620193 \nL 251.329753 56.299219 \nL 242.527953 48.902298 \nL 240.693379 47.239219 \nL 233.292091 39.395474 \nL 232.226618 38.179219 \nL 229.555052 29.119219 \nL 233.292091 28.401664 \nL 234.23329 29.119219 \nL 242.527953 35.660443 \nL 245.891463 38.179219 \nL 251.763815 43.208099 \nL 257.264804 47.239219 \nL 260.999677 51.022977 \nL 268.3738 56.299219 \nL 270.235539 59.728951 \nL 277.690364 65.359219 \nL 270.235539 66.724554 \nz\n\" style=\"fill:#8400ff;\"/>\n   </g>\n   <g id=\"PathCollection_16\">\n    <path clip-path=\"url(#p24e62a577f)\" d=\"M 233.292091 147.925011 \nL 242.527953 148.107899 \nL 246.603092 146.899219 \nL 242.527953 144.625906 \nL 237.00521 137.839219 \nL 233.292091 135.445274 \nL 225.212943 128.779219 \nL 224.056228 127.886568 \nL 214.820366 120.936676 \nL 213.458759 119.719219 \nL 205.584504 113.46374 \nL 202.210575 110.659219 \nL 196.348642 105.781028 \nL 191.192396 101.599219 \nL 187.11278 98.201594 \nL 180.052998 92.539219 \nL 177.876918 90.781812 \nL 168.808618 83.479219 \nL 168.641056 83.34717 \nL 159.405194 75.75853 \nL 157.717714 74.419219 \nL 150.169332 67.923681 \nL 146.776932 65.359219 \nL 140.93347 60.000455 \nL 134.906645 56.299219 \nL 131.697608 53.282545 \nL 129.355308 56.299219 \nL 129.845961 65.359219 \nL 131.697608 71.820636 \nL 132.74618 74.419219 \nL 137.027507 83.479219 \nL 140.93347 91.059283 \nL 141.835856 92.539219 \nL 148.098593 101.599219 \nL 150.169332 104.167549 \nL 155.979314 110.659219 \nL 159.405194 113.99386 \nL 165.960113 119.719219 \nL 168.641056 121.770312 \nL 177.876918 127.931265 \nL 179.225006 128.779219 \nL 187.11278 132.844608 \nL 196.348642 137.24553 \nL 197.644424 137.839219 \nL 205.584504 140.57053 \nL 214.820366 143.197205 \nL 224.056228 146.094813 \nL 226.664416 146.899219 \nz\nM 205.239223 137.839219 \nL 196.348642 133.765819 \nL 187.11278 129.988332 \nL 184.766828 128.779219 \nL 177.876918 124.445435 \nL 170.56926 119.719219 \nL 168.641056 118.157954 \nL 159.842514 110.659219 \nL 159.405194 110.201964 \nL 151.959576 101.599219 \nL 150.169332 99.214826 \nL 145.839165 92.539219 \nL 140.93347 84.493757 \nL 140.410684 83.479219 \nL 137.851003 74.419219 \nL 140.93347 65.97754 \nL 150.169332 72.545421 \nL 152.346848 74.419219 \nL 159.405194 80.021252 \nL 163.618672 83.479219 \nL 168.641056 87.524773 \nL 174.901872 92.539219 \nL 177.876918 94.980323 \nL 186.235867 101.599219 \nL 187.11278 102.349345 \nL 196.348642 109.729288 \nL 197.466104 110.659219 \nL 205.584504 117.4075 \nL 208.494443 119.719219 \nL 214.820366 125.375432 \nL 219.460709 128.779219 \nL 224.056228 134.241174 \nL 229.208169 137.839219 \nL 224.056228 140.592072 \nL 214.820366 139.94718 \nL 205.584504 137.957992 \nz\n\" style=\"fill:#d000ff;\"/>\n    <path clip-path=\"url(#p24e62a577f)\" d=\"M 260.999677 112.16489 \nL 270.235539 113.295348 \nL 277.895443 110.659219 \nL 270.235539 105.190592 \nL 267.819145 101.599219 \nL 260.999677 96.699161 \nL 256.599055 92.539219 \nL 251.763815 88.754162 \nL 245.505565 83.479219 \nL 242.527953 80.98866 \nL 234.415588 74.419219 \nL 233.292091 73.455263 \nL 224.056228 66.139697 \nL 223.126429 65.359219 \nL 214.820366 58.715683 \nL 211.867759 56.299219 \nL 205.584504 51.223818 \nL 200.675726 47.239219 \nL 196.348642 43.669492 \nL 189.561982 38.179219 \nL 187.11278 36.072639 \nL 178.3277 29.119219 \nL 177.876918 28.707061 \nL 173.581433 29.119219 \nL 172.829786 38.179219 \nL 176.035182 47.239219 \nL 177.876918 50.675382 \nL 181.182577 56.299219 \nL 187.084653 65.359219 \nL 187.11278 65.397076 \nL 194.379138 74.419219 \nL 196.348642 76.562943 \nL 203.700504 83.479219 \nL 205.584504 85.144022 \nL 214.820366 91.727508 \nL 216.018416 92.539219 \nL 224.056228 97.474124 \nL 232.178456 101.599219 \nL 233.292091 102.174161 \nL 242.527953 105.930246 \nL 251.763815 109.161807 \nL 255.627566 110.659219 \nz\nM 238.124763 101.599219 \nL 233.292091 99.133448 \nL 224.056228 94.662507 \nL 220.597886 92.539219 \nL 214.820366 88.624791 \nL 207.961879 83.479219 \nL 205.584504 81.404727 \nL 198.201452 74.419219 \nL 196.348642 72.365031 \nL 190.571831 65.359219 \nL 187.11278 60.561659 \nL 184.334614 56.299219 \nL 179.829497 47.239219 \nL 177.876918 42.046503 \nL 176.811647 38.179219 \nL 177.876918 36.057312 \nL 182.555884 38.179219 \nL 187.11278 39.654149 \nL 196.348642 46.348996 \nL 197.427736 47.239219 \nL 205.584504 53.860306 \nL 208.603835 56.299219 \nL 214.820366 61.386934 \nL 219.786704 65.359219 \nL 224.056228 68.943081 \nL 230.985069 74.419219 \nL 233.292091 76.475143 \nL 242.352122 83.479219 \nL 242.527953 83.661489 \nL 251.763815 91.376703 \nL 253.248877 92.539219 \nL 260.999677 99.866111 \nL 263.411663 101.599219 \nL 260.999677 107.06881 \nL 251.763815 105.912617 \nL 242.527953 103.42364 \nz\n\" style=\"fill:#d000ff;\"/>\n    <path clip-path=\"url(#p24e62a577f)\" d=\"M 270.235539 66.724554 \nL 277.690364 65.359219 \nL 270.235539 59.728951 \nL 268.3738 56.299219 \nL 260.999677 51.022977 \nL 257.264804 47.239219 \nL 251.763815 43.208099 \nL 245.891463 38.179219 \nL 242.527953 35.660443 \nL 234.23329 29.119219 \nL 233.292091 28.401664 \nL 229.555052 29.119219 \nL 232.226618 38.179219 \nL 233.292091 39.395474 \nL 240.693379 47.239219 \nL 242.527953 48.902298 \nL 251.329753 56.299219 \nL 251.763815 56.620193 \nL 260.999677 61.249391 \nL 267.160207 65.359219 \nz\nM 259.861528 56.299219 \nL 260.999677 55.712295 \nL 261.819967 56.299219 \nL 260.999677 56.849871 \nz\nM 249.238639 47.239219 \nL 251.763815 46.60003 \nL 252.636072 47.239219 \nL 251.763815 48.821597 \nz\n\" style=\"fill:#d000ff;\"/>\n   </g>\n   <g id=\"PathCollection_17\">\n    <path clip-path=\"url(#p24e62a577f)\" d=\"M 205.584504 137.957992 \nL 214.820366 139.94718 \nL 224.056228 140.592072 \nL 229.208169 137.839219 \nL 224.056228 134.241174 \nL 219.460709 128.779219 \nL 214.820366 125.375432 \nL 208.494443 119.719219 \nL 205.584504 117.4075 \nL 197.466104 110.659219 \nL 196.348642 109.729288 \nL 187.11278 102.349345 \nL 186.235867 101.599219 \nL 177.876918 94.980323 \nL 174.901872 92.539219 \nL 168.641056 87.524773 \nL 163.618672 83.479219 \nL 159.405194 80.021252 \nL 152.346848 74.419219 \nL 150.169332 72.545421 \nL 140.93347 65.97754 \nL 137.851003 74.419219 \nL 140.410684 83.479219 \nL 140.93347 84.493757 \nL 145.839165 92.539219 \nL 150.169332 99.214826 \nL 151.959576 101.599219 \nL 159.405194 110.201964 \nL 159.842514 110.659219 \nL 168.641056 118.157954 \nL 170.56926 119.719219 \nL 177.876918 124.445435 \nL 184.766828 128.779219 \nL 187.11278 129.988332 \nL 196.348642 133.765819 \nL 205.239223 137.839219 \nz\nM 192.387601 128.779219 \nL 187.11278 125.755822 \nL 177.876918 120.959605 \nL 175.959038 119.719219 \nL 168.641056 113.793855 \nL 164.963072 110.659219 \nL 159.405194 104.847994 \nL 156.593401 101.599219 \nL 150.169332 93.04312 \nL 149.842474 92.539219 \nL 147.296707 83.479219 \nL 150.169332 79.937056 \nL 156.348719 83.479219 \nL 159.405194 85.004511 \nL 168.641056 91.708613 \nL 169.678114 92.539219 \nL 177.876918 99.266555 \nL 180.82282 101.599219 \nL 187.11278 106.979753 \nL 191.820043 110.659219 \nL 196.348642 114.937065 \nL 202.571259 119.719219 \nL 205.584504 123.580607 \nL 212.095482 128.779219 \nL 205.584504 132.118351 \nL 196.348642 130.286108 \nz\n\" style=\"fill:#ff00db;\"/>\n    <path clip-path=\"url(#p24e62a577f)\" d=\"M 242.527953 103.42364 \nL 251.763815 105.912617 \nL 260.999677 107.06881 \nL 263.411663 101.599219 \nL 260.999677 99.866111 \nL 253.248877 92.539219 \nL 251.763815 91.376703 \nL 242.527953 83.661489 \nL 242.352122 83.479219 \nL 233.292091 76.475143 \nL 230.985069 74.419219 \nL 224.056228 68.943081 \nL 219.786704 65.359219 \nL 214.820366 61.386934 \nL 208.603835 56.299219 \nL 205.584504 53.860306 \nL 197.427736 47.239219 \nL 196.348642 46.348996 \nL 187.11278 39.654149 \nL 182.555884 38.179219 \nL 177.876918 36.057312 \nL 176.811647 38.179219 \nL 177.876918 42.046503 \nL 179.829497 47.239219 \nL 184.334614 56.299219 \nL 187.11278 60.561659 \nL 190.571831 65.359219 \nL 196.348642 72.365031 \nL 198.201452 74.419219 \nL 205.584504 81.404727 \nL 207.961879 83.479219 \nL 214.820366 88.624791 \nL 220.597886 92.539219 \nL 224.056228 94.662507 \nL 233.292091 99.133448 \nL 238.124763 101.599219 \nz\nM 246.719461 101.599219 \nL 242.527953 99.795001 \nL 233.292091 96.046753 \nL 225.693327 92.539219 \nL 224.056228 91.470071 \nL 214.820366 85.522075 \nL 212.097461 83.479219 \nL 205.584504 77.796026 \nL 202.015523 74.419219 \nL 196.348642 68.136415 \nL 194.058638 65.359219 \nL 187.977586 56.299219 \nL 187.11278 53.955626 \nL 185.265077 47.239219 \nL 187.11278 45.314955 \nL 190.228335 47.239219 \nL 196.348642 50.570874 \nL 205.018616 56.299219 \nL 205.584504 56.680243 \nL 214.820366 64.058186 \nL 216.44698 65.359219 \nL 224.056228 71.746465 \nL 227.438007 74.419219 \nL 233.292091 79.636141 \nL 238.263254 83.479219 \nL 242.527953 87.900103 \nL 248.649855 92.539219 \nL 251.763815 98.243361 \nL 255.640648 101.599219 \nL 251.763815 102.663426 \nz\n\" style=\"fill:#ff00db;\"/>\n    <path clip-path=\"url(#p24e62a577f)\" d=\"M 260.999677 56.849871 \nL 261.819967 56.299219 \nL 260.999677 55.712295 \nL 259.861528 56.299219 \nz\n\" style=\"fill:#ff00db;\"/>\n    <path clip-path=\"url(#p24e62a577f)\" d=\"M 251.763815 48.821597 \nL 252.636072 47.239219 \nL 251.763815 46.60003 \nL 249.238639 47.239219 \nz\n\" style=\"fill:#ff00db;\"/>\n   </g>\n   <g id=\"PathCollection_18\">\n    <path clip-path=\"url(#p24e62a577f)\" d=\"M 196.348642 130.286108 \nL 205.584504 132.118351 \nL 212.095482 128.779219 \nL 205.584504 123.580607 \nL 202.571259 119.719219 \nL 196.348642 114.937065 \nL 191.820043 110.659219 \nL 187.11278 106.979753 \nL 180.82282 101.599219 \nL 177.876918 99.266555 \nL 169.678114 92.539219 \nL 168.641056 91.708613 \nL 159.405194 85.004511 \nL 156.348719 83.479219 \nL 150.169332 79.937056 \nL 147.296707 83.479219 \nL 149.842474 92.539219 \nL 150.169332 93.04312 \nL 156.593401 101.599219 \nL 159.405194 104.847994 \nL 164.963072 110.659219 \nL 168.641056 113.793855 \nL 175.959038 119.719219 \nL 177.876918 120.959605 \nL 187.11278 125.755822 \nL 192.387601 128.779219 \nz\nM 185.354955 119.719219 \nL 187.11278 115.874181 \nL 191.824263 119.719219 \nL 187.11278 120.513077 \nz\nM 172.552933 110.659219 \nL 177.876918 106.519818 \nL 183.89131 110.659219 \nL 177.876918 114.039745 \nz\nM 164.807315 101.599219 \nL 168.641056 99.259461 \nL 172.148329 101.599219 \nL 168.641056 106.107597 \nz\n\" style=\"fill:#ff008e;\"/>\n    <path clip-path=\"url(#p24e62a577f)\" d=\"M 251.763815 102.663426 \nL 255.640648 101.599219 \nL 251.763815 98.243361 \nL 248.649855 92.539219 \nL 242.527953 87.900103 \nL 238.263254 83.479219 \nL 233.292091 79.636141 \nL 227.438007 74.419219 \nL 224.056228 71.746465 \nL 216.44698 65.359219 \nL 214.820366 64.058186 \nL 205.584504 56.680243 \nL 205.018616 56.299219 \nL 196.348642 50.570874 \nL 190.228335 47.239219 \nL 187.11278 45.314955 \nL 185.265077 47.239219 \nL 187.11278 53.955626 \nL 187.977586 56.299219 \nL 194.058638 65.359219 \nL 196.348642 68.136415 \nL 202.015523 74.419219 \nL 205.584504 77.796026 \nL 212.097461 83.479219 \nL 214.820366 85.522075 \nL 224.056228 91.470071 \nL 225.693327 92.539219 \nL 233.292091 96.046753 \nL 242.527953 99.795001 \nL 246.719461 101.599219 \nz\nM 232.380378 92.539219 \nL 224.056228 87.102925 \nL 217.513729 83.479219 \nL 214.820366 81.118083 \nL 206.158815 74.419219 \nL 205.584504 73.664315 \nL 199.367232 65.359219 \nL 205.584504 61.764727 \nL 210.936833 65.359219 \nL 214.820366 68.494875 \nL 223.632532 74.419219 \nL 224.056228 74.900948 \nL 233.292091 82.797139 \nL 234.174386 83.479219 \nL 242.527953 92.138717 \nL 243.056465 92.539219 \nL 242.527953 93.165621 \nL 233.292091 92.960059 \nz\nM 195.268586 56.299219 \nL 196.348642 55.560132 \nL 197.467266 56.299219 \nL 196.348642 59.03056 \nz\n\" style=\"fill:#ff008e;\"/>\n   </g>\n   <g id=\"PathCollection_19\">\n    <path clip-path=\"url(#p24e62a577f)\" d=\"M 187.11278 120.513077 \nL 191.824263 119.719219 \nL 187.11278 115.874181 \nL 185.354955 119.719219 \nz\n\" style=\"fill:#ff003b;\"/>\n    <path clip-path=\"url(#p24e62a577f)\" d=\"M 177.876918 114.039745 \nL 183.89131 110.659219 \nL 177.876918 106.519818 \nL 172.552933 110.659219 \nz\n\" style=\"fill:#ff003b;\"/>\n    <path clip-path=\"url(#p24e62a577f)\" d=\"M 168.641056 106.107597 \nL 172.148329 101.599219 \nL 168.641056 99.259461 \nL 164.807315 101.599219 \nz\n\" style=\"fill:#ff003b;\"/>\n    <path clip-path=\"url(#p24e62a577f)\" d=\"M 233.292091 92.960059 \nL 242.527953 93.165621 \nL 243.056465 92.539219 \nL 242.527953 92.138717 \nL 234.174386 83.479219 \nL 233.292091 82.797139 \nL 224.056228 74.900948 \nL 223.632532 74.419219 \nL 214.820366 68.494875 \nL 210.936833 65.359219 \nL 205.584504 61.764727 \nL 199.367232 65.359219 \nL 205.584504 73.664315 \nL 206.158815 74.419219 \nL 214.820366 81.118083 \nL 217.513729 83.479219 \nL 224.056228 87.102925 \nL 232.380378 92.539219 \nz\n\" style=\"fill:#ff003b;\"/>\n    <path clip-path=\"url(#p24e62a577f)\" d=\"M 196.348642 59.03056 \nL 197.467266 56.299219 \nL 196.348642 55.560132 \nL 195.268586 56.299219 \nz\n\" style=\"fill:#ff003b;\"/>\n   </g>\n   <g id=\"matplotlib.axis_1\">\n    <g id=\"xtick_1\">\n     <g id=\"line2d_1\">\n      <defs>\n       <path d=\"M 0 0 \nL 0 3.5 \n\" id=\"m32a1745927\" style=\"stroke:#000000;stroke-width:0.8;\"/>\n      </defs>\n      <g>\n       <use style=\"stroke:#000000;stroke-width:0.8;\" x=\"30.103125\" xlink:href=\"#m32a1745927\" y=\"228.439219\"/>\n      </g>\n     </g>\n     <g id=\"text_1\">\n      <!-- 0.0 -->\n      <defs>\n       <path d=\"M 31.78125 66.40625 \nQ 24.171875 66.40625 20.328125 58.90625 \nQ 16.5 51.421875 16.5 36.375 \nQ 16.5 21.390625 20.328125 13.890625 \nQ 24.171875 6.390625 31.78125 6.390625 \nQ 39.453125 6.390625 43.28125 13.890625 \nQ 47.125 21.390625 47.125 36.375 \nQ 47.125 51.421875 43.28125 58.90625 \nQ 39.453125 66.40625 31.78125 66.40625 \nz\nM 31.78125 74.21875 \nQ 44.046875 74.21875 50.515625 64.515625 \nQ 56.984375 54.828125 56.984375 36.375 \nQ 56.984375 17.96875 50.515625 8.265625 \nQ 44.046875 -1.421875 31.78125 -1.421875 \nQ 19.53125 -1.421875 13.0625 8.265625 \nQ 6.59375 17.96875 6.59375 36.375 \nQ 6.59375 54.828125 13.0625 64.515625 \nQ 19.53125 74.21875 31.78125 74.21875 \nz\n\" id=\"DejaVuSans-30\"/>\n       <path d=\"M 10.6875 12.40625 \nL 21 12.40625 \nL 21 0 \nL 10.6875 0 \nz\n\" id=\"DejaVuSans-2e\"/>\n      </defs>\n      <g transform=\"translate(22.151563 243.037656)scale(0.1 -0.1)\">\n       <use xlink:href=\"#DejaVuSans-30\"/>\n       <use x=\"63.623047\" xlink:href=\"#DejaVuSans-2e\"/>\n       <use x=\"95.410156\" xlink:href=\"#DejaVuSans-30\"/>\n      </g>\n     </g>\n    </g>\n    <g id=\"xtick_2\">\n     <g id=\"line2d_2\">\n      <g>\n       <use style=\"stroke:#000000;stroke-width:0.8;\" x=\"63.583125\" xlink:href=\"#m32a1745927\" y=\"228.439219\"/>\n      </g>\n     </g>\n     <g id=\"text_2\">\n      <!-- 0.5 -->\n      <defs>\n       <path d=\"M 10.796875 72.90625 \nL 49.515625 72.90625 \nL 49.515625 64.59375 \nL 19.828125 64.59375 \nL 19.828125 46.734375 \nQ 21.96875 47.46875 24.109375 47.828125 \nQ 26.265625 48.1875 28.421875 48.1875 \nQ 40.625 48.1875 47.75 41.5 \nQ 54.890625 34.8125 54.890625 23.390625 \nQ 54.890625 11.625 47.5625 5.09375 \nQ 40.234375 -1.421875 26.90625 -1.421875 \nQ 22.3125 -1.421875 17.546875 -0.640625 \nQ 12.796875 0.140625 7.71875 1.703125 \nL 7.71875 11.625 \nQ 12.109375 9.234375 16.796875 8.0625 \nQ 21.484375 6.890625 26.703125 6.890625 \nQ 35.15625 6.890625 40.078125 11.328125 \nQ 45.015625 15.765625 45.015625 23.390625 \nQ 45.015625 31 40.078125 35.4375 \nQ 35.15625 39.890625 26.703125 39.890625 \nQ 22.75 39.890625 18.8125 39.015625 \nQ 14.890625 38.140625 10.796875 36.28125 \nz\n\" id=\"DejaVuSans-35\"/>\n      </defs>\n      <g transform=\"translate(55.631563 243.037656)scale(0.1 -0.1)\">\n       <use xlink:href=\"#DejaVuSans-30\"/>\n       <use x=\"63.623047\" xlink:href=\"#DejaVuSans-2e\"/>\n       <use x=\"95.410156\" xlink:href=\"#DejaVuSans-35\"/>\n      </g>\n     </g>\n    </g>\n    <g id=\"xtick_3\">\n     <g id=\"line2d_3\">\n      <g>\n       <use style=\"stroke:#000000;stroke-width:0.8;\" x=\"97.063125\" xlink:href=\"#m32a1745927\" y=\"228.439219\"/>\n      </g>\n     </g>\n     <g id=\"text_3\">\n      <!-- 1.0 -->\n      <defs>\n       <path d=\"M 12.40625 8.296875 \nL 28.515625 8.296875 \nL 28.515625 63.921875 \nL 10.984375 60.40625 \nL 10.984375 69.390625 \nL 28.421875 72.90625 \nL 38.28125 72.90625 \nL 38.28125 8.296875 \nL 54.390625 8.296875 \nL 54.390625 0 \nL 12.40625 0 \nz\n\" id=\"DejaVuSans-31\"/>\n      </defs>\n      <g transform=\"translate(89.111563 243.037656)scale(0.1 -0.1)\">\n       <use xlink:href=\"#DejaVuSans-31\"/>\n       <use x=\"63.623047\" xlink:href=\"#DejaVuSans-2e\"/>\n       <use x=\"95.410156\" xlink:href=\"#DejaVuSans-30\"/>\n      </g>\n     </g>\n    </g>\n    <g id=\"xtick_4\">\n     <g id=\"line2d_4\">\n      <g>\n       <use style=\"stroke:#000000;stroke-width:0.8;\" x=\"130.543125\" xlink:href=\"#m32a1745927\" y=\"228.439219\"/>\n      </g>\n     </g>\n     <g id=\"text_4\">\n      <!-- 1.5 -->\n      <g transform=\"translate(122.591563 243.037656)scale(0.1 -0.1)\">\n       <use xlink:href=\"#DejaVuSans-31\"/>\n       <use x=\"63.623047\" xlink:href=\"#DejaVuSans-2e\"/>\n       <use x=\"95.410156\" xlink:href=\"#DejaVuSans-35\"/>\n      </g>\n     </g>\n    </g>\n    <g id=\"xtick_5\">\n     <g id=\"line2d_5\">\n      <g>\n       <use style=\"stroke:#000000;stroke-width:0.8;\" x=\"164.023125\" xlink:href=\"#m32a1745927\" y=\"228.439219\"/>\n      </g>\n     </g>\n     <g id=\"text_5\">\n      <!-- 2.0 -->\n      <defs>\n       <path d=\"M 19.1875 8.296875 \nL 53.609375 8.296875 \nL 53.609375 0 \nL 7.328125 0 \nL 7.328125 8.296875 \nQ 12.9375 14.109375 22.625 23.890625 \nQ 32.328125 33.6875 34.8125 36.53125 \nQ 39.546875 41.84375 41.421875 45.53125 \nQ 43.3125 49.21875 43.3125 52.78125 \nQ 43.3125 58.59375 39.234375 62.25 \nQ 35.15625 65.921875 28.609375 65.921875 \nQ 23.96875 65.921875 18.8125 64.3125 \nQ 13.671875 62.703125 7.8125 59.421875 \nL 7.8125 69.390625 \nQ 13.765625 71.78125 18.9375 73 \nQ 24.125 74.21875 28.421875 74.21875 \nQ 39.75 74.21875 46.484375 68.546875 \nQ 53.21875 62.890625 53.21875 53.421875 \nQ 53.21875 48.921875 51.53125 44.890625 \nQ 49.859375 40.875 45.40625 35.40625 \nQ 44.1875 33.984375 37.640625 27.21875 \nQ 31.109375 20.453125 19.1875 8.296875 \nz\n\" id=\"DejaVuSans-32\"/>\n      </defs>\n      <g transform=\"translate(156.071563 243.037656)scale(0.1 -0.1)\">\n       <use xlink:href=\"#DejaVuSans-32\"/>\n       <use x=\"63.623047\" xlink:href=\"#DejaVuSans-2e\"/>\n       <use x=\"95.410156\" xlink:href=\"#DejaVuSans-30\"/>\n      </g>\n     </g>\n    </g>\n    <g id=\"xtick_6\">\n     <g id=\"line2d_6\">\n      <g>\n       <use style=\"stroke:#000000;stroke-width:0.8;\" x=\"197.503125\" xlink:href=\"#m32a1745927\" y=\"228.439219\"/>\n      </g>\n     </g>\n     <g id=\"text_6\">\n      <!-- 2.5 -->\n      <g transform=\"translate(189.551563 243.037656)scale(0.1 -0.1)\">\n       <use xlink:href=\"#DejaVuSans-32\"/>\n       <use x=\"63.623047\" xlink:href=\"#DejaVuSans-2e\"/>\n       <use x=\"95.410156\" xlink:href=\"#DejaVuSans-35\"/>\n      </g>\n     </g>\n    </g>\n    <g id=\"xtick_7\">\n     <g id=\"line2d_7\">\n      <g>\n       <use style=\"stroke:#000000;stroke-width:0.8;\" x=\"230.983125\" xlink:href=\"#m32a1745927\" y=\"228.439219\"/>\n      </g>\n     </g>\n     <g id=\"text_7\">\n      <!-- 3.0 -->\n      <defs>\n       <path d=\"M 40.578125 39.3125 \nQ 47.65625 37.796875 51.625 33 \nQ 55.609375 28.21875 55.609375 21.1875 \nQ 55.609375 10.40625 48.1875 4.484375 \nQ 40.765625 -1.421875 27.09375 -1.421875 \nQ 22.515625 -1.421875 17.65625 -0.515625 \nQ 12.796875 0.390625 7.625 2.203125 \nL 7.625 11.71875 \nQ 11.71875 9.328125 16.59375 8.109375 \nQ 21.484375 6.890625 26.8125 6.890625 \nQ 36.078125 6.890625 40.9375 10.546875 \nQ 45.796875 14.203125 45.796875 21.1875 \nQ 45.796875 27.640625 41.28125 31.265625 \nQ 36.765625 34.90625 28.71875 34.90625 \nL 20.21875 34.90625 \nL 20.21875 43.015625 \nL 29.109375 43.015625 \nQ 36.375 43.015625 40.234375 45.921875 \nQ 44.09375 48.828125 44.09375 54.296875 \nQ 44.09375 59.90625 40.109375 62.90625 \nQ 36.140625 65.921875 28.71875 65.921875 \nQ 24.65625 65.921875 20.015625 65.03125 \nQ 15.375 64.15625 9.8125 62.3125 \nL 9.8125 71.09375 \nQ 15.4375 72.65625 20.34375 73.4375 \nQ 25.25 74.21875 29.59375 74.21875 \nQ 40.828125 74.21875 47.359375 69.109375 \nQ 53.90625 64.015625 53.90625 55.328125 \nQ 53.90625 49.265625 50.4375 45.09375 \nQ 46.96875 40.921875 40.578125 39.3125 \nz\n\" id=\"DejaVuSans-33\"/>\n      </defs>\n      <g transform=\"translate(223.031563 243.037656)scale(0.1 -0.1)\">\n       <use xlink:href=\"#DejaVuSans-33\"/>\n       <use x=\"63.623047\" xlink:href=\"#DejaVuSans-2e\"/>\n       <use x=\"95.410156\" xlink:href=\"#DejaVuSans-30\"/>\n      </g>\n     </g>\n    </g>\n    <g id=\"xtick_8\">\n     <g id=\"line2d_8\">\n      <g>\n       <use style=\"stroke:#000000;stroke-width:0.8;\" x=\"264.463125\" xlink:href=\"#m32a1745927\" y=\"228.439219\"/>\n      </g>\n     </g>\n     <g id=\"text_8\">\n      <!-- 3.5 -->\n      <g transform=\"translate(256.511562 243.037656)scale(0.1 -0.1)\">\n       <use xlink:href=\"#DejaVuSans-33\"/>\n       <use x=\"63.623047\" xlink:href=\"#DejaVuSans-2e\"/>\n       <use x=\"95.410156\" xlink:href=\"#DejaVuSans-35\"/>\n      </g>\n     </g>\n    </g>\n    <g id=\"xtick_9\">\n     <g id=\"line2d_9\">\n      <g>\n       <use style=\"stroke:#000000;stroke-width:0.8;\" x=\"297.943125\" xlink:href=\"#m32a1745927\" y=\"228.439219\"/>\n      </g>\n     </g>\n     <g id=\"text_9\">\n      <!-- 4.0 -->\n      <defs>\n       <path d=\"M 37.796875 64.3125 \nL 12.890625 25.390625 \nL 37.796875 25.390625 \nz\nM 35.203125 72.90625 \nL 47.609375 72.90625 \nL 47.609375 25.390625 \nL 58.015625 25.390625 \nL 58.015625 17.1875 \nL 47.609375 17.1875 \nL 47.609375 0 \nL 37.796875 0 \nL 37.796875 17.1875 \nL 4.890625 17.1875 \nL 4.890625 26.703125 \nz\n\" id=\"DejaVuSans-34\"/>\n      </defs>\n      <g transform=\"translate(289.991562 243.037656)scale(0.1 -0.1)\">\n       <use xlink:href=\"#DejaVuSans-34\"/>\n       <use x=\"63.623047\" xlink:href=\"#DejaVuSans-2e\"/>\n       <use x=\"95.410156\" xlink:href=\"#DejaVuSans-30\"/>\n      </g>\n     </g>\n    </g>\n   </g>\n   <g id=\"matplotlib.axis_2\">\n    <g id=\"ytick_1\">\n     <g id=\"line2d_10\">\n      <defs>\n       <path d=\"M 0 0 \nL -3.5 0 \n\" id=\"md2a950fa0d\" style=\"stroke:#000000;stroke-width:0.8;\"/>\n      </defs>\n      <g>\n       <use style=\"stroke:#000000;stroke-width:0.8;\" x=\"30.103125\" xlink:href=\"#md2a950fa0d\" y=\"228.439219\"/>\n      </g>\n     </g>\n     <g id=\"text_10\">\n      <!-- 0.0 -->\n      <g transform=\"translate(7.2 232.238437)scale(0.1 -0.1)\">\n       <use xlink:href=\"#DejaVuSans-30\"/>\n       <use x=\"63.623047\" xlink:href=\"#DejaVuSans-2e\"/>\n       <use x=\"95.410156\" xlink:href=\"#DejaVuSans-30\"/>\n      </g>\n     </g>\n    </g>\n    <g id=\"ytick_2\">\n     <g id=\"line2d_11\">\n      <g>\n       <use style=\"stroke:#000000;stroke-width:0.8;\" x=\"30.103125\" xlink:href=\"#md2a950fa0d\" y=\"201.259219\"/>\n      </g>\n     </g>\n     <g id=\"text_11\">\n      <!-- 0.5 -->\n      <g transform=\"translate(7.2 205.058437)scale(0.1 -0.1)\">\n       <use xlink:href=\"#DejaVuSans-30\"/>\n       <use x=\"63.623047\" xlink:href=\"#DejaVuSans-2e\"/>\n       <use x=\"95.410156\" xlink:href=\"#DejaVuSans-35\"/>\n      </g>\n     </g>\n    </g>\n    <g id=\"ytick_3\">\n     <g id=\"line2d_12\">\n      <g>\n       <use style=\"stroke:#000000;stroke-width:0.8;\" x=\"30.103125\" xlink:href=\"#md2a950fa0d\" y=\"174.079219\"/>\n      </g>\n     </g>\n     <g id=\"text_12\">\n      <!-- 1.0 -->\n      <g transform=\"translate(7.2 177.878437)scale(0.1 -0.1)\">\n       <use xlink:href=\"#DejaVuSans-31\"/>\n       <use x=\"63.623047\" xlink:href=\"#DejaVuSans-2e\"/>\n       <use x=\"95.410156\" xlink:href=\"#DejaVuSans-30\"/>\n      </g>\n     </g>\n    </g>\n    <g id=\"ytick_4\">\n     <g id=\"line2d_13\">\n      <g>\n       <use style=\"stroke:#000000;stroke-width:0.8;\" x=\"30.103125\" xlink:href=\"#md2a950fa0d\" y=\"146.899219\"/>\n      </g>\n     </g>\n     <g id=\"text_13\">\n      <!-- 1.5 -->\n      <g transform=\"translate(7.2 150.698437)scale(0.1 -0.1)\">\n       <use xlink:href=\"#DejaVuSans-31\"/>\n       <use x=\"63.623047\" xlink:href=\"#DejaVuSans-2e\"/>\n       <use x=\"95.410156\" xlink:href=\"#DejaVuSans-35\"/>\n      </g>\n     </g>\n    </g>\n    <g id=\"ytick_5\">\n     <g id=\"line2d_14\">\n      <g>\n       <use style=\"stroke:#000000;stroke-width:0.8;\" x=\"30.103125\" xlink:href=\"#md2a950fa0d\" y=\"119.719219\"/>\n      </g>\n     </g>\n     <g id=\"text_14\">\n      <!-- 2.0 -->\n      <g transform=\"translate(7.2 123.518437)scale(0.1 -0.1)\">\n       <use xlink:href=\"#DejaVuSans-32\"/>\n       <use x=\"63.623047\" xlink:href=\"#DejaVuSans-2e\"/>\n       <use x=\"95.410156\" xlink:href=\"#DejaVuSans-30\"/>\n      </g>\n     </g>\n    </g>\n    <g id=\"ytick_6\">\n     <g id=\"line2d_15\">\n      <g>\n       <use style=\"stroke:#000000;stroke-width:0.8;\" x=\"30.103125\" xlink:href=\"#md2a950fa0d\" y=\"92.539219\"/>\n      </g>\n     </g>\n     <g id=\"text_15\">\n      <!-- 2.5 -->\n      <g transform=\"translate(7.2 96.338437)scale(0.1 -0.1)\">\n       <use xlink:href=\"#DejaVuSans-32\"/>\n       <use x=\"63.623047\" xlink:href=\"#DejaVuSans-2e\"/>\n       <use x=\"95.410156\" xlink:href=\"#DejaVuSans-35\"/>\n      </g>\n     </g>\n    </g>\n    <g id=\"ytick_7\">\n     <g id=\"line2d_16\">\n      <g>\n       <use style=\"stroke:#000000;stroke-width:0.8;\" x=\"30.103125\" xlink:href=\"#md2a950fa0d\" y=\"65.359219\"/>\n      </g>\n     </g>\n     <g id=\"text_16\">\n      <!-- 3.0 -->\n      <g transform=\"translate(7.2 69.158437)scale(0.1 -0.1)\">\n       <use xlink:href=\"#DejaVuSans-33\"/>\n       <use x=\"63.623047\" xlink:href=\"#DejaVuSans-2e\"/>\n       <use x=\"95.410156\" xlink:href=\"#DejaVuSans-30\"/>\n      </g>\n     </g>\n    </g>\n    <g id=\"ytick_8\">\n     <g id=\"line2d_17\">\n      <g>\n       <use style=\"stroke:#000000;stroke-width:0.8;\" x=\"30.103125\" xlink:href=\"#md2a950fa0d\" y=\"38.179219\"/>\n      </g>\n     </g>\n     <g id=\"text_17\">\n      <!-- 3.5 -->\n      <g transform=\"translate(7.2 41.978437)scale(0.1 -0.1)\">\n       <use xlink:href=\"#DejaVuSans-33\"/>\n       <use x=\"63.623047\" xlink:href=\"#DejaVuSans-2e\"/>\n       <use x=\"95.410156\" xlink:href=\"#DejaVuSans-35\"/>\n      </g>\n     </g>\n    </g>\n    <g id=\"ytick_9\">\n     <g id=\"line2d_18\">\n      <g>\n       <use style=\"stroke:#000000;stroke-width:0.8;\" x=\"30.103125\" xlink:href=\"#md2a950fa0d\" y=\"10.999219\"/>\n      </g>\n     </g>\n     <g id=\"text_18\">\n      <!-- 4.0 -->\n      <g transform=\"translate(7.2 14.798437)scale(0.1 -0.1)\">\n       <use xlink:href=\"#DejaVuSans-34\"/>\n       <use x=\"63.623047\" xlink:href=\"#DejaVuSans-2e\"/>\n       <use x=\"95.410156\" xlink:href=\"#DejaVuSans-30\"/>\n      </g>\n     </g>\n    </g>\n   </g>\n   <g id=\"patch_3\">\n    <path d=\"M 30.103125 228.439219 \nL 30.103125 10.999219 \n\" style=\"fill:none;stroke:#000000;stroke-linecap:square;stroke-linejoin:miter;stroke-width:0.8;\"/>\n   </g>\n   <g id=\"patch_4\">\n    <path d=\"M 297.943125 228.439219 \nL 297.943125 10.999219 \n\" style=\"fill:none;stroke:#000000;stroke-linecap:square;stroke-linejoin:miter;stroke-width:0.8;\"/>\n   </g>\n   <g id=\"patch_5\">\n    <path d=\"M 30.103125 228.439219 \nL 297.943125 228.439219 \n\" style=\"fill:none;stroke:#000000;stroke-linecap:square;stroke-linejoin:miter;stroke-width:0.8;\"/>\n   </g>\n   <g id=\"patch_6\">\n    <path d=\"M 30.103125 10.999219 \nL 297.943125 10.999219 \n\" style=\"fill:none;stroke:#000000;stroke-linecap:square;stroke-linejoin:miter;stroke-width:0.8;\"/>\n   </g>\n  </g>\n  <g id=\"axes_2\">\n   <g id=\"patch_7\">\n    <path clip-path=\"url(#p2f6087b68a)\" d=\"M 314.683125 228.439219 \nL 314.683125 216.995008 \nL 314.683125 22.443429 \nL 314.683125 10.999219 \nL 325.555125 10.999219 \nL 325.555125 22.443429 \nL 325.555125 216.995008 \nL 325.555125 228.439219 \nz\n\" style=\"fill:#ffffff;stroke:#ffffff;stroke-linejoin:miter;stroke-width:0.01;\"/>\n   </g>\n   <g id=\"QuadMesh_1\">\n    <path clip-path=\"url(#p2f6087b68a)\" d=\"M 314.683125 228.439219 \nL 325.555125 228.439219 \nL 325.555125 216.995008 \nL 314.683125 216.995008 \nL 314.683125 228.439219 \n\" style=\"fill:#ff2300;\"/>\n    <path clip-path=\"url(#p2f6087b68a)\" d=\"M 314.683125 216.995008 \nL 325.555125 216.995008 \nL 325.555125 205.550798 \nL 314.683125 205.550798 \nL 314.683125 216.995008 \n\" style=\"fill:#ff7600;\"/>\n    <path clip-path=\"url(#p2f6087b68a)\" d=\"M 314.683125 205.550798 \nL 325.555125 205.550798 \nL 325.555125 194.106587 \nL 314.683125 194.106587 \nL 314.683125 205.550798 \n\" style=\"fill:#ffc300;\"/>\n    <path clip-path=\"url(#p2f6087b68a)\" d=\"M 314.683125 194.106587 \nL 325.555125 194.106587 \nL 325.555125 182.662377 \nL 314.683125 182.662377 \nL 314.683125 194.106587 \n\" style=\"fill:#e8ff00;\"/>\n    <path clip-path=\"url(#p2f6087b68a)\" d=\"M 314.683125 182.662377 \nL 325.555125 182.662377 \nL 325.555125 171.218166 \nL 314.683125 171.218166 \nL 314.683125 182.662377 \n\" style=\"fill:#9cff00;\"/>\n    <path clip-path=\"url(#p2f6087b68a)\" d=\"M 314.683125 171.218166 \nL 325.555125 171.218166 \nL 325.555125 159.773956 \nL 314.683125 159.773956 \nL 314.683125 171.218166 \n\" style=\"fill:#49ff00;\"/>\n    <path clip-path=\"url(#p2f6087b68a)\" d=\"M 314.683125 159.773956 \nL 325.555125 159.773956 \nL 325.555125 148.329745 \nL 314.683125 148.329745 \nL 314.683125 159.773956 \n\" style=\"fill:#04ff08;\"/>\n    <path clip-path=\"url(#p2f6087b68a)\" d=\"M 314.683125 148.329745 \nL 325.555125 148.329745 \nL 325.555125 136.885535 \nL 314.683125 136.885535 \nL 314.683125 148.329745 \n\" style=\"fill:#00ff57;\"/>\n    <path clip-path=\"url(#p2f6087b68a)\" d=\"M 314.683125 136.885535 \nL 325.555125 136.885535 \nL 325.555125 125.441324 \nL 314.683125 125.441324 \nL 314.683125 136.885535 \n\" style=\"fill:#00ffa3;\"/>\n    <path clip-path=\"url(#p2f6087b68a)\" d=\"M 314.683125 125.441324 \nL 325.555125 125.441324 \nL 325.555125 113.997113 \nL 314.683125 113.997113 \nL 314.683125 125.441324 \n\" style=\"fill:#00fff6;\"/>\n    <path clip-path=\"url(#p2f6087b68a)\" d=\"M 314.683125 113.997113 \nL 325.555125 113.997113 \nL 325.555125 102.552903 \nL 314.683125 102.552903 \nL 314.683125 113.997113 \n\" style=\"fill:#00bbff;\"/>\n    <path clip-path=\"url(#p2f6087b68a)\" d=\"M 314.683125 102.552903 \nL 325.555125 102.552903 \nL 325.555125 91.108692 \nL 314.683125 91.108692 \nL 314.683125 102.552903 \n\" style=\"fill:#006eff;\"/>\n    <path clip-path=\"url(#p2f6087b68a)\" d=\"M 314.683125 91.108692 \nL 325.555125 91.108692 \nL 325.555125 79.664482 \nL 314.683125 79.664482 \nL 314.683125 91.108692 \n\" style=\"fill:#001cff;\"/>\n    <path clip-path=\"url(#p2f6087b68a)\" d=\"M 314.683125 79.664482 \nL 325.555125 79.664482 \nL 325.555125 68.220271 \nL 314.683125 68.220271 \nL 314.683125 79.664482 \n\" style=\"fill:#3100ff;\"/>\n    <path clip-path=\"url(#p2f6087b68a)\" d=\"M 314.683125 68.220271 \nL 325.555125 68.220271 \nL 325.555125 56.776061 \nL 314.683125 56.776061 \nL 314.683125 68.220271 \n\" style=\"fill:#8400ff;\"/>\n    <path clip-path=\"url(#p2f6087b68a)\" d=\"M 314.683125 56.776061 \nL 325.555125 56.776061 \nL 325.555125 45.33185 \nL 314.683125 45.33185 \nL 314.683125 56.776061 \n\" style=\"fill:#d000ff;\"/>\n    <path clip-path=\"url(#p2f6087b68a)\" d=\"M 314.683125 45.33185 \nL 325.555125 45.33185 \nL 325.555125 33.88764 \nL 314.683125 33.88764 \nL 314.683125 45.33185 \n\" style=\"fill:#ff00db;\"/>\n    <path clip-path=\"url(#p2f6087b68a)\" d=\"M 314.683125 33.88764 \nL 325.555125 33.88764 \nL 325.555125 22.443429 \nL 314.683125 22.443429 \nL 314.683125 33.88764 \n\" style=\"fill:#ff008e;\"/>\n    <path clip-path=\"url(#p2f6087b68a)\" d=\"M 314.683125 22.443429 \nL 325.555125 22.443429 \nL 325.555125 10.999219 \nL 314.683125 10.999219 \nL 314.683125 22.443429 \n\" style=\"fill:#ff003b;\"/>\n   </g>\n   <g id=\"matplotlib.axis_3\"/>\n   <g id=\"matplotlib.axis_4\">\n    <g id=\"ytick_10\">\n     <g id=\"line2d_19\">\n      <defs>\n       <path d=\"M 0 0 \nL 3.5 0 \n\" id=\"md8d31a08a0\" style=\"stroke:#000000;stroke-width:0.8;\"/>\n      </defs>\n      <g>\n       <use style=\"stroke:#000000;stroke-width:0.8;\" x=\"325.555125\" xlink:href=\"#md8d31a08a0\" y=\"228.439219\"/>\n      </g>\n     </g>\n     <g id=\"text_19\">\n      <!-- −0.9 -->\n      <defs>\n       <path d=\"M 10.59375 35.5 \nL 73.1875 35.5 \nL 73.1875 27.203125 \nL 10.59375 27.203125 \nz\n\" id=\"DejaVuSans-2212\"/>\n       <path d=\"M 10.984375 1.515625 \nL 10.984375 10.5 \nQ 14.703125 8.734375 18.5 7.8125 \nQ 22.3125 6.890625 25.984375 6.890625 \nQ 35.75 6.890625 40.890625 13.453125 \nQ 46.046875 20.015625 46.78125 33.40625 \nQ 43.953125 29.203125 39.59375 26.953125 \nQ 35.25 24.703125 29.984375 24.703125 \nQ 19.046875 24.703125 12.671875 31.3125 \nQ 6.296875 37.9375 6.296875 49.421875 \nQ 6.296875 60.640625 12.9375 67.421875 \nQ 19.578125 74.21875 30.609375 74.21875 \nQ 43.265625 74.21875 49.921875 64.515625 \nQ 56.59375 54.828125 56.59375 36.375 \nQ 56.59375 19.140625 48.40625 8.859375 \nQ 40.234375 -1.421875 26.421875 -1.421875 \nQ 22.703125 -1.421875 18.890625 -0.6875 \nQ 15.09375 0.046875 10.984375 1.515625 \nz\nM 30.609375 32.421875 \nQ 37.25 32.421875 41.125 36.953125 \nQ 45.015625 41.5 45.015625 49.421875 \nQ 45.015625 57.28125 41.125 61.84375 \nQ 37.25 66.40625 30.609375 66.40625 \nQ 23.96875 66.40625 20.09375 61.84375 \nQ 16.21875 57.28125 16.21875 49.421875 \nQ 16.21875 41.5 20.09375 36.953125 \nQ 23.96875 32.421875 30.609375 32.421875 \nz\n\" id=\"DejaVuSans-39\"/>\n      </defs>\n      <g transform=\"translate(332.555125 232.238437)scale(0.1 -0.1)\">\n       <use xlink:href=\"#DejaVuSans-2212\"/>\n       <use x=\"83.789062\" xlink:href=\"#DejaVuSans-30\"/>\n       <use x=\"147.412109\" xlink:href=\"#DejaVuSans-2e\"/>\n       <use x=\"179.199219\" xlink:href=\"#DejaVuSans-39\"/>\n      </g>\n     </g>\n    </g>\n    <g id=\"ytick_11\">\n     <g id=\"line2d_20\">\n      <g>\n       <use style=\"stroke:#000000;stroke-width:0.8;\" x=\"325.555125\" xlink:href=\"#md8d31a08a0\" y=\"205.550798\"/>\n      </g>\n     </g>\n     <g id=\"text_20\">\n      <!-- −0.6 -->\n      <defs>\n       <path d=\"M 33.015625 40.375 \nQ 26.375 40.375 22.484375 35.828125 \nQ 18.609375 31.296875 18.609375 23.390625 \nQ 18.609375 15.53125 22.484375 10.953125 \nQ 26.375 6.390625 33.015625 6.390625 \nQ 39.65625 6.390625 43.53125 10.953125 \nQ 47.40625 15.53125 47.40625 23.390625 \nQ 47.40625 31.296875 43.53125 35.828125 \nQ 39.65625 40.375 33.015625 40.375 \nz\nM 52.59375 71.296875 \nL 52.59375 62.3125 \nQ 48.875 64.0625 45.09375 64.984375 \nQ 41.3125 65.921875 37.59375 65.921875 \nQ 27.828125 65.921875 22.671875 59.328125 \nQ 17.53125 52.734375 16.796875 39.40625 \nQ 19.671875 43.65625 24.015625 45.921875 \nQ 28.375 48.1875 33.59375 48.1875 \nQ 44.578125 48.1875 50.953125 41.515625 \nQ 57.328125 34.859375 57.328125 23.390625 \nQ 57.328125 12.15625 50.6875 5.359375 \nQ 44.046875 -1.421875 33.015625 -1.421875 \nQ 20.359375 -1.421875 13.671875 8.265625 \nQ 6.984375 17.96875 6.984375 36.375 \nQ 6.984375 53.65625 15.1875 63.9375 \nQ 23.390625 74.21875 37.203125 74.21875 \nQ 40.921875 74.21875 44.703125 73.484375 \nQ 48.484375 72.75 52.59375 71.296875 \nz\n\" id=\"DejaVuSans-36\"/>\n      </defs>\n      <g transform=\"translate(332.555125 209.350016)scale(0.1 -0.1)\">\n       <use xlink:href=\"#DejaVuSans-2212\"/>\n       <use x=\"83.789062\" xlink:href=\"#DejaVuSans-30\"/>\n       <use x=\"147.412109\" xlink:href=\"#DejaVuSans-2e\"/>\n       <use x=\"179.199219\" xlink:href=\"#DejaVuSans-36\"/>\n      </g>\n     </g>\n    </g>\n    <g id=\"ytick_12\">\n     <g id=\"line2d_21\">\n      <g>\n       <use style=\"stroke:#000000;stroke-width:0.8;\" x=\"325.555125\" xlink:href=\"#md8d31a08a0\" y=\"182.662377\"/>\n      </g>\n     </g>\n     <g id=\"text_21\">\n      <!-- −0.3 -->\n      <g transform=\"translate(332.555125 186.461595)scale(0.1 -0.1)\">\n       <use xlink:href=\"#DejaVuSans-2212\"/>\n       <use x=\"83.789062\" xlink:href=\"#DejaVuSans-30\"/>\n       <use x=\"147.412109\" xlink:href=\"#DejaVuSans-2e\"/>\n       <use x=\"179.199219\" xlink:href=\"#DejaVuSans-33\"/>\n      </g>\n     </g>\n    </g>\n    <g id=\"ytick_13\">\n     <g id=\"line2d_22\">\n      <g>\n       <use style=\"stroke:#000000;stroke-width:0.8;\" x=\"325.555125\" xlink:href=\"#md8d31a08a0\" y=\"159.773956\"/>\n      </g>\n     </g>\n     <g id=\"text_22\">\n      <!-- 0.0 -->\n      <g transform=\"translate(332.555125 163.573174)scale(0.1 -0.1)\">\n       <use xlink:href=\"#DejaVuSans-30\"/>\n       <use x=\"63.623047\" xlink:href=\"#DejaVuSans-2e\"/>\n       <use x=\"95.410156\" xlink:href=\"#DejaVuSans-30\"/>\n      </g>\n     </g>\n    </g>\n    <g id=\"ytick_14\">\n     <g id=\"line2d_23\">\n      <g>\n       <use style=\"stroke:#000000;stroke-width:0.8;\" x=\"325.555125\" xlink:href=\"#md8d31a08a0\" y=\"136.885535\"/>\n      </g>\n     </g>\n     <g id=\"text_23\">\n      <!-- 0.3 -->\n      <g transform=\"translate(332.555125 140.684753)scale(0.1 -0.1)\">\n       <use xlink:href=\"#DejaVuSans-30\"/>\n       <use x=\"63.623047\" xlink:href=\"#DejaVuSans-2e\"/>\n       <use x=\"95.410156\" xlink:href=\"#DejaVuSans-33\"/>\n      </g>\n     </g>\n    </g>\n    <g id=\"ytick_15\">\n     <g id=\"line2d_24\">\n      <g>\n       <use style=\"stroke:#000000;stroke-width:0.8;\" x=\"325.555125\" xlink:href=\"#md8d31a08a0\" y=\"113.997113\"/>\n      </g>\n     </g>\n     <g id=\"text_24\">\n      <!-- 0.6 -->\n      <g transform=\"translate(332.555125 117.796332)scale(0.1 -0.1)\">\n       <use xlink:href=\"#DejaVuSans-30\"/>\n       <use x=\"63.623047\" xlink:href=\"#DejaVuSans-2e\"/>\n       <use x=\"95.410156\" xlink:href=\"#DejaVuSans-36\"/>\n      </g>\n     </g>\n    </g>\n    <g id=\"ytick_16\">\n     <g id=\"line2d_25\">\n      <g>\n       <use style=\"stroke:#000000;stroke-width:0.8;\" x=\"325.555125\" xlink:href=\"#md8d31a08a0\" y=\"91.108692\"/>\n      </g>\n     </g>\n     <g id=\"text_25\">\n      <!-- 0.9 -->\n      <g transform=\"translate(332.555125 94.907911)scale(0.1 -0.1)\">\n       <use xlink:href=\"#DejaVuSans-30\"/>\n       <use x=\"63.623047\" xlink:href=\"#DejaVuSans-2e\"/>\n       <use x=\"95.410156\" xlink:href=\"#DejaVuSans-39\"/>\n      </g>\n     </g>\n    </g>\n    <g id=\"ytick_17\">\n     <g id=\"line2d_26\">\n      <g>\n       <use style=\"stroke:#000000;stroke-width:0.8;\" x=\"325.555125\" xlink:href=\"#md8d31a08a0\" y=\"68.220271\"/>\n      </g>\n     </g>\n     <g id=\"text_26\">\n      <!-- 1.2 -->\n      <g transform=\"translate(332.555125 72.01949)scale(0.1 -0.1)\">\n       <use xlink:href=\"#DejaVuSans-31\"/>\n       <use x=\"63.623047\" xlink:href=\"#DejaVuSans-2e\"/>\n       <use x=\"95.410156\" xlink:href=\"#DejaVuSans-32\"/>\n      </g>\n     </g>\n    </g>\n    <g id=\"ytick_18\">\n     <g id=\"line2d_27\">\n      <g>\n       <use style=\"stroke:#000000;stroke-width:0.8;\" x=\"325.555125\" xlink:href=\"#md8d31a08a0\" y=\"45.33185\"/>\n      </g>\n     </g>\n     <g id=\"text_27\">\n      <!-- 1.5 -->\n      <g transform=\"translate(332.555125 49.131069)scale(0.1 -0.1)\">\n       <use xlink:href=\"#DejaVuSans-31\"/>\n       <use x=\"63.623047\" xlink:href=\"#DejaVuSans-2e\"/>\n       <use x=\"95.410156\" xlink:href=\"#DejaVuSans-35\"/>\n      </g>\n     </g>\n    </g>\n    <g id=\"ytick_19\">\n     <g id=\"line2d_28\">\n      <g>\n       <use style=\"stroke:#000000;stroke-width:0.8;\" x=\"325.555125\" xlink:href=\"#md8d31a08a0\" y=\"22.443429\"/>\n      </g>\n     </g>\n     <g id=\"text_28\">\n      <!-- 1.8 -->\n      <defs>\n       <path d=\"M 31.78125 34.625 \nQ 24.75 34.625 20.71875 30.859375 \nQ 16.703125 27.09375 16.703125 20.515625 \nQ 16.703125 13.921875 20.71875 10.15625 \nQ 24.75 6.390625 31.78125 6.390625 \nQ 38.8125 6.390625 42.859375 10.171875 \nQ 46.921875 13.96875 46.921875 20.515625 \nQ 46.921875 27.09375 42.890625 30.859375 \nQ 38.875 34.625 31.78125 34.625 \nz\nM 21.921875 38.8125 \nQ 15.578125 40.375 12.03125 44.71875 \nQ 8.5 49.078125 8.5 55.328125 \nQ 8.5 64.0625 14.71875 69.140625 \nQ 20.953125 74.21875 31.78125 74.21875 \nQ 42.671875 74.21875 48.875 69.140625 \nQ 55.078125 64.0625 55.078125 55.328125 \nQ 55.078125 49.078125 51.53125 44.71875 \nQ 48 40.375 41.703125 38.8125 \nQ 48.828125 37.15625 52.796875 32.3125 \nQ 56.78125 27.484375 56.78125 20.515625 \nQ 56.78125 9.90625 50.3125 4.234375 \nQ 43.84375 -1.421875 31.78125 -1.421875 \nQ 19.734375 -1.421875 13.25 4.234375 \nQ 6.78125 9.90625 6.78125 20.515625 \nQ 6.78125 27.484375 10.78125 32.3125 \nQ 14.796875 37.15625 21.921875 38.8125 \nz\nM 18.3125 54.390625 \nQ 18.3125 48.734375 21.84375 45.5625 \nQ 25.390625 42.390625 31.78125 42.390625 \nQ 38.140625 42.390625 41.71875 45.5625 \nQ 45.3125 48.734375 45.3125 54.390625 \nQ 45.3125 60.0625 41.71875 63.234375 \nQ 38.140625 66.40625 31.78125 66.40625 \nQ 25.390625 66.40625 21.84375 63.234375 \nQ 18.3125 60.0625 18.3125 54.390625 \nz\n\" id=\"DejaVuSans-38\"/>\n      </defs>\n      <g transform=\"translate(332.555125 26.242648)scale(0.1 -0.1)\">\n       <use xlink:href=\"#DejaVuSans-31\"/>\n       <use x=\"63.623047\" xlink:href=\"#DejaVuSans-2e\"/>\n       <use x=\"95.410156\" xlink:href=\"#DejaVuSans-38\"/>\n      </g>\n     </g>\n    </g>\n   </g>\n   <g id=\"patch_8\">\n    <path d=\"M 314.683125 228.439219 \nL 314.683125 216.995008 \nL 314.683125 22.443429 \nL 314.683125 10.999219 \nL 325.555125 10.999219 \nL 325.555125 22.443429 \nL 325.555125 216.995008 \nL 325.555125 228.439219 \nz\n\" style=\"fill:none;stroke:#000000;stroke-linejoin:miter;stroke-width:0.8;\"/>\n   </g>\n  </g>\n </g>\n <defs>\n  <clipPath id=\"p24e62a577f\">\n   <rect height=\"217.44\" width=\"267.84\" x=\"30.103125\" y=\"10.999219\"/>\n  </clipPath>\n  <clipPath id=\"p2f6087b68a\">\n   <rect height=\"217.44\" width=\"10.872\" x=\"314.683125\" y=\"10.999219\"/>\n  </clipPath>\n </defs>\n</svg>\n"
          },
          "metadata": {
            "tags": [],
            "needs_background": "light"
          }
        }
      ]
    },
    {
      "cell_type": "markdown",
      "metadata": {
        "id": "PQtKKkIUtPt2"
      },
      "source": [
        "**Note** : the functions np.arange and np.linspace are very similar in purpose in picking evenly spaced values in the given interval. But the key difference between them is that in the former case you can control the increments/steps of the evenly spaced values whereas in the later case you only control the start and the stop values(both being inclusive)"
      ]
    },
    {
      "cell_type": "markdown",
      "metadata": {
        "id": "Bl5UnWFPtPt2"
      },
      "source": [
        "### Subplots "
      ]
    },
    {
      "cell_type": "markdown",
      "metadata": {
        "id": "sU6nvCBytPt2"
      },
      "source": [
        "You can plot different things in the same figure using the subplot function. Here is an example:"
      ]
    },
    {
      "cell_type": "code",
      "metadata": {
        "id": "TXjPhH-qtPt3",
        "outputId": "bc80277d-dc70-4b84-afe8-c2a5231ac01d"
      },
      "source": [
        "# Compute the x and y coordinates for points on sine and cosine curves\n",
        "x = np.arange(0, 3 * np.pi, 0.1)\n",
        "y_sin = np.sin(x)\n",
        "y_cos = np.cos(x)\n",
        "\n",
        "# Set up a subplot grid that has height 2 and width 1,\n",
        "# and set the first such subplot as active.\n",
        "plt.subplot(2, 1, 1)\n",
        "\n",
        "# Make the first plot\n",
        "plt.plot(x, y_sin)\n",
        "plt.title('Sine')\n",
        "\n",
        "# Set the second subplot as active, and make the second plot.\n",
        "plt.subplot(2, 1, 2)\n",
        "plt.plot(x, y_cos)\n",
        "plt.title('Cosine')\n",
        "\n",
        "# Show the figure.\n",
        "plt.show()"
      ],
      "execution_count": null,
      "outputs": [
        {
          "output_type": "display_data",
          "data": {
            "image/png": "[encoded data removed]",
            "text/plain": [
              "<Figure size 432x288 with 2 Axes>"
            ]
          },
          "metadata": {
            "tags": [],
            "needs_background": "light"
          }
        }
      ]
    },
    {
      "cell_type": "markdown",
      "metadata": {
        "id": "sF0jxCHAtPt6"
      },
      "source": [
        "You can read much more about the `subplot` function in the [documentation](http://matplotlib.org/api/pyplot_api.html#matplotlib.pyplot.subplot)."
      ]
    },
    {
      "cell_type": "markdown",
      "metadata": {
        "id": "J-rcEUyDtPt7"
      },
      "source": [
        ""
      ]
    },
    {
      "cell_type": "markdown",
      "metadata": {
        "id": "dMQoa80qwopR"
      },
      "source": [
        "###Animation using Matplotlib"
      ]
    },
    {
      "cell_type": "markdown",
      "metadata": {
        "id": "LoiyMpfF5AUc"
      },
      "source": [
        "A really dope thing we can do with this library is to create animations.\n",
        "The code below shows the animation of a sine wave"
      ]
    },
    {
      "cell_type": "code",
      "metadata": {
        "id": "ytuSZnip5Z_A",
        "outputId": "02dc9287-b140-4b10-90f6-738743a24a68",
        "colab": {
          "base_uri": "https://localhost:8080/",
          "height": 269
        }
      },
      "source": [
        "from matplotlib import animation\n",
        "\n",
        "# Setting up of the figure, axes and the object to be animated\n",
        "fig = plt.figure()\n",
        "ax = plt.axes(xlim=(0, 2), ylim=(-2, 2))\n",
        "line, = ax.plot([], [], lw=2)\n",
        "\n",
        "# Function to plot the background for each frame\n",
        "def init():\n",
        "    line.set_data([], [])\n",
        "    return line,\n",
        "\n",
        "# Animation Function \n",
        "def update(i):                      # i denotes the frame number for which the curve shifts\n",
        "    x = np.linspace(0, 2, 1000)\n",
        "    y = np.sin(2 * np.pi * (x - 0.01 * i))\n",
        "    line.set_data(x, y)\n",
        "    return line,\n",
        "\n",
        "# Animation Object Creation \n",
        "anim = animation.FuncAnimation(fig, update, init_func=init, frames=200, interval=20, blit=True)\n",
        "\n",
        "anim.save('sin_anim.mp4', fps=30, extra_args=['-vcodec', 'libx264'])\n",
        "plt.show()"
      ],
      "execution_count": 10,
      "outputs": [
        {
          "output_type": "display_data",
          "data": {
            "image/png": "[encoded data removed]",
            "text/plain": [
              "<Figure size 432x288 with 1 Axes>"
            ]
          },
          "metadata": {
            "tags": [],
            "needs_background": "light"
          }
        }
      ]
    }
  ]
}