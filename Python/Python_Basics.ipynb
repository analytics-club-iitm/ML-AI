{
  "nbformat": 4,
  "nbformat_minor": 0,
  "metadata": {
    "kernelspec": {
      "display_name": "Python 3",
      "language": "python",
      "name": "python3"
    },
    "language_info": {
      "codemirror_mode": {
        "name": "ipython",
        "version": 3
      },
      "file_extension": ".py",
      "mimetype": "text/x-python",
      "name": "python",
      "nbconvert_exporter": "python",
      "pygments_lexer": "ipython3",
      "version": "3.7.3"
    },
    "colab": {
      "name": "Python_Basics.ipynb",
      "provenance": []
    }
  },
  "cells": [
    {
      "cell_type": "markdown",
      "metadata": {
        "id": "bUtU71TlfLF-"
      },
      "source": [
        "# Introduction to Python\n"
      ]
    },
    {
      "cell_type": "markdown",
      "metadata": {
        "id": "7fyUSQspfLGA"
      },
      "source": [
        "## What is Python?\n",
        "\n",
        "#### Python is an easy to learn, powerful Object Oriented Programming language. It has efficient high-level data structures and a simple but effective approach to object-oriented programming. \n",
        "\n",
        "Python’s elegant syntax and dynamic typing, together with its interpreted nature, make it an ideal language for scripting and rapid application development in many areas on most platforms.\n"
      ]
    },
    {
      "cell_type": "markdown",
      "metadata": {
        "id": "MNZLaY8xfLGC"
      },
      "source": [
        "Python is a high-level, dynamically typed multiparadigm programming language. Python code is often said to be almost like pseudocode, since it allows you to express very powerful ideas in very few lines of code while being very readable. As an example, here is an implementation of the classic quicksort algorithm in Python:"
      ]
    },
    {
      "cell_type": "code",
      "metadata": {
        "id": "LD2lSjaSfLGF",
        "outputId": "73b0a883-1112-41d4-d08a-6784205d9948"
      },
      "source": [
        "def quicksort(arr):\n",
        "    if len(arr) <= 1:\n",
        "        return arr\n",
        "    pivot = arr[len(arr) // 2]\n",
        "    left = [x for x in arr if x < pivot]\n",
        "    middle = [x for x in arr if x == pivot]\n",
        "    right = [x for x in arr if x > pivot]\n",
        "    return quicksort(left) + middle + quicksort(right)\n",
        "\n",
        "print(quicksort([3,6,8,10,1,2,1]))"
      ],
      "execution_count": null,
      "outputs": [
        {
          "output_type": "stream",
          "text": [
            "[1, 1, 2, 3, 6, 8, 10]\n"
          ],
          "name": "stdout"
        }
      ]
    },
    {
      "cell_type": "markdown",
      "metadata": {
        "id": "mJJETXKsfLGT"
      },
      "source": [
        "## Using Python\n",
        "\n",
        "* Running python program(.py) file\n",
        "* Python Prompt Interpreter\n",
        "* ipython\n"
      ]
    },
    {
      "cell_type": "markdown",
      "metadata": {
        "id": "-W_Ea2pzfLGU"
      },
      "source": [
        "## Why Python?\n",
        "\n",
        "<img src=\"img/Picture1.jpg\" alt=\"drawing\" width=\"300\"/>\n",
        "<img src=\"img/Picture2.jpg\" alt=\"drawing\" width=\"300\"/>\n",
        "\n",
        "\n"
      ]
    },
    {
      "cell_type": "markdown",
      "metadata": {
        "id": "oskv3sqWfLGW"
      },
      "source": [
        "## Comments in Python\n"
      ]
    },
    {
      "cell_type": "code",
      "metadata": {
        "id": "ewM1xZ6ZfLGW",
        "outputId": "bff1c9fd-ac21-4ee2-e3bb-3c0de03a938f"
      },
      "source": [
        "#this is a comment # symbol is used for single line commenting\n",
        " \n",
        "\"\"\"\n",
        " This is how one must do multi line commenting\n",
        "\"\"\"\n"
      ],
      "execution_count": null,
      "outputs": [
        {
          "output_type": "execute_result",
          "data": {
            "text/plain": [
              "'\\n This is how one must do multi line commenting\\n'"
            ]
          },
          "metadata": {
            "tags": []
          },
          "execution_count": 22
        }
      ]
    },
    {
      "cell_type": "markdown",
      "metadata": {
        "id": "UVPt9qdUfLGe"
      },
      "source": [
        "## Exploring basic datatypes in python\n",
        "\n",
        "As mentioned in the introduction python is a **dynamically typed language** and hence **doesn't** require the user to **define variables** before intialising them.\n",
        "\n",
        "use the ```type()``` command to find the datatype of a particular variable\n",
        "\n",
        "| Type     |      example  |\n",
        "|----------|:-------------:|\n",
        "| Text Type |  str |\n",
        "| Numeric Types |    int, float, complex   |\n",
        "| Sequence Types | list, tuple, range |\n",
        "| Mapping Type | dict |\n",
        "| Set Types   | set, frozenset |\n",
        "| Boolean Type  | bool |\n",
        "| Binary Types   | bytes, bytearray, memoryview*** |\n",
        "\n",
        "\n",
        "\n",
        "\n"
      ]
    },
    {
      "cell_type": "code",
      "metadata": {
        "id": "8JPqykmBfLGf",
        "outputId": "5238387d-e50c-458f-b437-8ce70bd440d3"
      },
      "source": [
        "#checking the datatype of a variable\n",
        "a=\"hello\"\n",
        "print(type(a),'\\n')"
      ],
      "execution_count": null,
      "outputs": [
        {
          "output_type": "stream",
          "text": [
            "<class 'str'> \n",
            "\n"
          ],
          "name": "stdout"
        }
      ]
    },
    {
      "cell_type": "markdown",
      "metadata": {
        "id": "qixHOfv-fLGl"
      },
      "source": [
        "## Numeric datatypes"
      ]
    },
    {
      "cell_type": "code",
      "metadata": {
        "id": "ChasdJPHfLGn",
        "outputId": "af02fb7d-6128-4b03-81b7-d07d344b4853"
      },
      "source": [
        "\n",
        "x = 1    # int\n",
        "y = 2.8  # float\n",
        "a = -87.7e100 #another way to represent floating variables\n",
        "z = 1j   # complex\n",
        "\n",
        "\"\"\"\n",
        "user can convert between datatypes using the method mentioned above\n",
        "Note: You cannot convert complex numbers into another number type.\n",
        "\"\"\"\n",
        "#setting datatype of a variable\n",
        "\n",
        "c=int(y)\n",
        "print(c)\n",
        "print(type(c))\n",
        "\n",
        "print(z)\n",
        "print(type(z))\n",
        "d=int(z)  # cannot convert complex numbers to another datatype\n"
      ],
      "execution_count": null,
      "outputs": [
        {
          "output_type": "stream",
          "text": [
            "2\n",
            "<class 'int'>\n",
            "1j\n",
            "<class 'complex'>\n"
          ],
          "name": "stdout"
        },
        {
          "output_type": "error",
          "ename": "TypeError",
          "evalue": "can't convert complex to int",
          "traceback": [
            "\u001b[1;31m---------------------------------------------------------------------------\u001b[0m",
            "\u001b[1;31mTypeError\u001b[0m                                 Traceback (most recent call last)",
            "\u001b[1;32m<ipython-input-15-367488b04cb6>\u001b[0m in \u001b[0;36m<module>\u001b[1;34m\u001b[0m\n\u001b[0;32m     17\u001b[0m \u001b[0mprint\u001b[0m\u001b[1;33m(\u001b[0m\u001b[0mz\u001b[0m\u001b[1;33m)\u001b[0m\u001b[1;33m\u001b[0m\u001b[1;33m\u001b[0m\u001b[0m\n\u001b[0;32m     18\u001b[0m \u001b[0mprint\u001b[0m\u001b[1;33m(\u001b[0m\u001b[0mtype\u001b[0m\u001b[1;33m(\u001b[0m\u001b[0mz\u001b[0m\u001b[1;33m)\u001b[0m\u001b[1;33m)\u001b[0m\u001b[1;33m\u001b[0m\u001b[1;33m\u001b[0m\u001b[0m\n\u001b[1;32m---> 19\u001b[1;33m \u001b[0md\u001b[0m\u001b[1;33m=\u001b[0m\u001b[0mint\u001b[0m\u001b[1;33m(\u001b[0m\u001b[0mz\u001b[0m\u001b[1;33m)\u001b[0m  \u001b[1;31m# cannot convert complex numbers to another datatype\u001b[0m\u001b[1;33m\u001b[0m\u001b[1;33m\u001b[0m\u001b[0m\n\u001b[0m",
            "\u001b[1;31mTypeError\u001b[0m: can't convert complex to int"
          ]
        }
      ]
    },
    {
      "cell_type": "markdown",
      "metadata": {
        "id": "GRN3oN7qfLGt"
      },
      "source": [
        "## string datatypes"
      ]
    },
    {
      "cell_type": "code",
      "metadata": {
        "id": "PKdQCgj8fLGu"
      },
      "source": [
        "\n",
        "\n",
        "a = \"Hello\"\n",
        "print(a)\n",
        "\n",
        "#multiline strings can be created using ''' <insert text here> ''' \n",
        "a = \"\"\"Why does Python live on land?\n",
        "Because it's above C-level\"\"\"\n",
        "print(a)\n",
        "\n",
        "#Note: in the result, the line breaks are inserted at the same position as in the code.\n"
      ],
      "execution_count": null,
      "outputs": []
    },
    {
      "cell_type": "markdown",
      "metadata": {
        "id": "qbG6j6RjfLG0"
      },
      "source": [
        "## Indentation\n",
        "\n",
        "* Whitespaces at the beginning of the line are important.\n",
        "* Statements with same indentations form a block.\n"
      ]
    },
    {
      "cell_type": "code",
      "metadata": {
        "id": "WpdsLbnffLG1"
      },
      "source": [
        "I = 5\n",
        "    print(I)         #IndentationError\n",
        "print(“This is string”)\n"
      ],
      "execution_count": null,
      "outputs": []
    },
    {
      "cell_type": "markdown",
      "metadata": {
        "id": "o8zQMmI4fLG6"
      },
      "source": [
        "<img src=\"img/Picture6.jpg\" alt=\"drawing\" width=300px/>"
      ]
    },
    {
      "cell_type": "markdown",
      "metadata": {
        "id": "62MdJs82fLG7"
      },
      "source": [
        "## Operators"
      ]
    },
    {
      "cell_type": "code",
      "metadata": {
        "id": "eYFFH_8sfLG8"
      },
      "source": [
        "a = 3\n",
        "b = 2\n",
        "\n",
        "print(a + b)\n",
        "print(a - b)\n",
        "print(a * b)\n",
        "print(a / b)\n",
        "print(a // b)\n",
        "print(a % b)\n",
        "\n",
        "a = 'la'\n",
        "a = a * 3\n",
        "print(\"\\n\",a)\n",
        "\n",
        "\n"
      ],
      "execution_count": null,
      "outputs": []
    },
    {
      "cell_type": "markdown",
      "metadata": {
        "id": "4Nam47fgfLHC"
      },
      "source": [
        "Other Binary Operations\n",
        "\n",
        "*  < (less than)\n",
        "*  > ( greater than)\n",
        "*  <= (Less than or equal to)\n",
        "*  >= (Greater than or equal to)\n",
        "*  == ( Equal to)\n",
        "*  != (Not Equal to)\n",
        "*  not( Boolean NOT)\n",
        "*  and ( Boolean AND)\n",
        "*  or (Boolean OR)\n",
        "\n",
        "\n",
        "\n",
        "*  << (left shift)\n",
        "*  >>(right shift)\n",
        "*  & ( bitwise AND)\n",
        "*  | (bitwise OR)\n",
        "*  ^ (bitwise XOR)\n",
        "*  ~ ( bitwise invert)\n"
      ]
    },
    {
      "cell_type": "markdown",
      "metadata": {
        "id": "fBf9gS8lfLHD"
      },
      "source": [
        "## Escape Sequences – Non graphic characters\n",
        "‘\\n’, ‘\\t’, ‘\\\\’, ‘\\’’ – examples of escape sequences\n"
      ]
    },
    {
      "cell_type": "code",
      "metadata": {
        "id": "766blpyIfLHE",
        "outputId": "286caabd-eb78-411c-f068-8334061077e3"
      },
      "source": [
        "print(\"this is line 1\\nthis is second line\\n\")\n",
        "print(r\"This is line 1 \\n This is line 2\")"
      ],
      "execution_count": null,
      "outputs": [
        {
          "output_type": "stream",
          "text": [
            "this is line 1\n",
            "this is second line\n",
            "\n",
            "This is line 1 \\n This is line 2\n"
          ],
          "name": "stdout"
        }
      ]
    },
    {
      "cell_type": "markdown",
      "metadata": {
        "id": "xn3_D_ucfLHJ"
      },
      "source": [
        "## Strings are Arrays\n",
        "\n",
        "Like many other popular programming languages, strings in Python are **arrays of bytes** representing unicode characters.\n",
        "\n",
        "However, Python ***does not have a character data type***, a single character is simply a string with a length of 1.\n",
        "\n",
        "Square brackets can be used to access elements of the string."
      ]
    },
    {
      "cell_type": "code",
      "metadata": {
        "id": "SHFnkn_2fLHK",
        "outputId": "38cffdb7-815d-44af-dc81-bc159bc28660"
      },
      "source": [
        "#accessing unit length string\n",
        "a = \"Hello, World!\"\n",
        "print(a[1])\n",
        "\n",
        "#getting letters between postion 2 and 5 (5 not included)\n",
        "b = \"Hello, World!\"\n",
        "print(b[2:5])\n",
        "\n",
        "#Get the characters from position 5 to position 1, starting the count from the end of the string\n",
        "b = \"Hello, World!\"\n",
        "print(b[-5:-2])\n",
        "\n",
        "#getting the length of the string\n",
        "b = \"Hello, World!\"\n",
        "print(len(b))\n",
        "\n"
      ],
      "execution_count": null,
      "outputs": [
        {
          "output_type": "stream",
          "text": [
            "e\n",
            "llo\n",
            "orl\n",
            "13\n"
          ],
          "name": "stdout"
        }
      ]
    },
    {
      "cell_type": "markdown",
      "metadata": {
        "id": "vrPH6fg9fLHP"
      },
      "source": [
        "## Built-in string methods"
      ]
    },
    {
      "cell_type": "code",
      "metadata": {
        "id": "icc-m5KTfLHR",
        "outputId": "a64abdb0-9580-49a2-84f0-eff86a5f147a"
      },
      "source": [
        "#removes whitespaces at the beginning or end\n",
        "a = \"   Hello, World! \"\n",
        "print(a.strip())\n",
        "\n",
        "#converting to lowercase\n",
        "a = \"Hello, World!\"\n",
        "print(a.lower())\n",
        "\n",
        "#converting to uppercase\n",
        "a = \"Hello, World!\"\n",
        "print(a.upper())\n",
        "\n",
        "#replacing a character with another\n",
        "a = \"Hello, World!\"\n",
        "print(a.replace(\"H\", \"J\"))\n",
        "\n",
        "#splits the string into substrings if it finds instances of the seperator - returns a list\n",
        "a = \"Hello, World!\"\n",
        "print(a.split(\",\"))\n",
        "\n",
        "#checking a string\n",
        "if \"Hello\" in a:\n",
        "    print(\"Hello is present in given string\\n\")\n",
        "\n",
        "#concatenating a string\n",
        "a = \"Hello\"\n",
        "b = \"World\"\n",
        "c = a + b\n",
        "print(c)\n",
        "\n",
        "#formating a string\n",
        "a=1\n",
        "b=2\n",
        "txt = \"{0}+{1}={2}\".format(a,b,a+b)\n",
        "print(txt)\n",
        "print(\"My name is {0} and I am from {1}\".format(\"Me\",  \"Chennai\"))\n",
        "\n"
      ],
      "execution_count": null,
      "outputs": [
        {
          "output_type": "stream",
          "text": [
            "Hello, World!\n",
            "hello, world!\n",
            "HELLO, WORLD!\n",
            "Jello, World!\n",
            "['Hello', ' World!']\n",
            "Hello is present in given string\n",
            "\n",
            "HelloWorld\n",
            "1+2=3\n",
            "My name is Me and I am from Chennai\n"
          ],
          "name": "stdout"
        }
      ]
    },
    {
      "cell_type": "markdown",
      "metadata": {
        "id": "HcUprUR7fLHY"
      },
      "source": [
        "## Boolean datatype"
      ]
    },
    {
      "cell_type": "code",
      "metadata": {
        "id": "9D-xbt5YfLHY",
        "outputId": "42e5458c-7d5e-46d0-94c1-0f266005a885"
      },
      "source": [
        "print(10 > 9)\n",
        "\n",
        "\"\"\"\n",
        "\n",
        "Almost any value is evaluated to True if it has some sort of content.\n",
        "\n",
        "Any string is True, except empty strings.\n",
        "\n",
        "Any number is True, except 0.\n",
        "\n",
        "Any list, tuple, set, and dictionary are True, except empty ones.\n",
        "\n",
        "\"\"\"\n",
        "x = \"Hello\"\n",
        "y = 15\n",
        "z=\"\"\n",
        "print(bool(x))\n",
        "print(bool(y))\n",
        "print(bool(z))\n"
      ],
      "execution_count": null,
      "outputs": [
        {
          "output_type": "stream",
          "text": [
            "True\n",
            "True\n",
            "True\n",
            "False\n"
          ],
          "name": "stdout"
        }
      ]
    },
    {
      "cell_type": "markdown",
      "metadata": {
        "id": "Mnmnj-qMfLHd"
      },
      "source": [
        "## Python Collections\n",
        "\n",
        "There are four collection data types in the Python programming language:\n",
        "\n",
        "**List** is a collection which is ordered and changeable. Allows duplicate members.\n",
        "\n",
        "**Tuple** is a collection which is ordered and unchangeable. Allows duplicate members.\n",
        "\n",
        "**Set** is a collection which is unordered and unindexed. No duplicate members.\n",
        "\n",
        "**Dictionary** is a collection which is unordered, changeable and indexed. No duplicate members."
      ]
    },
    {
      "cell_type": "code",
      "metadata": {
        "id": "Xb6DAet-fLHf",
        "outputId": "9afb2e2f-88da-4689-adbe-b4232ed3f889"
      },
      "source": [
        "#--- lISTS ----#\n",
        "\n",
        "\n",
        "a=[\"hello\",\"welcome\",\"to\",\"python\"]\n",
        "print(type(a))\n",
        "\n",
        "#getting the first element\n",
        "print(a[0])\n",
        "\n",
        "#selecting elements between 1 and 3\n",
        "print(a[1:3])\n",
        "\n",
        "#taking the first two elements\n",
        "print(a[:2])\n",
        "\n",
        "#taking the last two elements\n",
        "print(a[2:])\n",
        "\n",
        "#adding items list\n",
        "a.append(\"workshop\")\n",
        "print(a)\n",
        "\n",
        "#changing element values\n",
        "a[0]=\"Hey\"\n",
        "print(a)\n",
        "\n",
        "#removing an element\n",
        "a.remove(\"Hey\")\n",
        "print(a)"
      ],
      "execution_count": null,
      "outputs": [
        {
          "output_type": "stream",
          "text": [
            "<class 'list'>\n",
            "hello\n",
            "['welcome', 'to']\n",
            "['hello', 'welcome']\n",
            "['to', 'python']\n",
            "['hello', 'welcome', 'to', 'python', 'workshop']\n",
            "['Hey', 'welcome', 'to', 'python', 'workshop']\n",
            "['welcome', 'to', 'python', 'workshop']\n"
          ],
          "name": "stdout"
        }
      ]
    },
    {
      "cell_type": "code",
      "metadata": {
        "id": "XIcdvh4OfLHj",
        "outputId": "cf96fa2c-962f-4317-b832-7875308ff08b"
      },
      "source": [
        "#--- Tuple ---#\n",
        "\n",
        "\n",
        "thistuple = (\"apple\", \"banana\", \"cherry\")\n",
        "print(thistuple)\n",
        "\n",
        "#assignment is not allowed\n",
        "thistuple[0]=\"orange\"\n",
        "\n",
        "## Tuples are IMMUTABLE"
      ],
      "execution_count": null,
      "outputs": [
        {
          "output_type": "stream",
          "text": [
            "('apple', 'banana', 'cherry')\n"
          ],
          "name": "stdout"
        },
        {
          "output_type": "error",
          "ename": "TypeError",
          "evalue": "'tuple' object does not support item assignment",
          "traceback": [
            "\u001b[1;31m---------------------------------------------------------------------------\u001b[0m",
            "\u001b[1;31mTypeError\u001b[0m                                 Traceback (most recent call last)",
            "\u001b[1;32m<ipython-input-21-e238f9eaa7e2>\u001b[0m in \u001b[0;36m<module>\u001b[1;34m\u001b[0m\n\u001b[0;32m      6\u001b[0m \u001b[1;33m\u001b[0m\u001b[0m\n\u001b[0;32m      7\u001b[0m \u001b[1;31m#assignment is not allowed\u001b[0m\u001b[1;33m\u001b[0m\u001b[1;33m\u001b[0m\u001b[1;33m\u001b[0m\u001b[0m\n\u001b[1;32m----> 8\u001b[1;33m \u001b[0mthistuple\u001b[0m\u001b[1;33m[\u001b[0m\u001b[1;36m0\u001b[0m\u001b[1;33m]\u001b[0m\u001b[1;33m=\u001b[0m\u001b[1;34m\"orange\"\u001b[0m\u001b[1;33m\u001b[0m\u001b[1;33m\u001b[0m\u001b[0m\n\u001b[0m\u001b[0;32m      9\u001b[0m \u001b[1;33m\u001b[0m\u001b[0m\n\u001b[0;32m     10\u001b[0m \u001b[1;31m## Tuples are IMMUTABLE\u001b[0m\u001b[1;33m\u001b[0m\u001b[1;33m\u001b[0m\u001b[1;33m\u001b[0m\u001b[0m\n",
            "\u001b[1;31mTypeError\u001b[0m: 'tuple' object does not support item assignment"
          ]
        }
      ]
    },
    {
      "cell_type": "code",
      "metadata": {
        "id": "FFbZ0453fLHo"
      },
      "source": [
        "#--- Dictionary ---#\n",
        "\n",
        "\n",
        "#creating dictionary\n",
        "thisdict = {\n",
        "  \"brand\": \"Ford\",\n",
        "  \"model\": \"Mustang\",\n",
        "  \"year\": 1964\n",
        "}\n",
        "print(thisdict)\n",
        "\n",
        "#accessing values using keys\n",
        "print(thisdict[\"brand\"])\n",
        "\n",
        "#changing values\n",
        "thisdict[\"year\"]=2020\n",
        "print(thisdict)\n",
        "\n"
      ],
      "execution_count": null,
      "outputs": []
    },
    {
      "cell_type": "code",
      "metadata": {
        "id": "bMB7SJwEfLHs"
      },
      "source": [
        "#nested dictionaries\n",
        "child1 = {\n",
        "  \"name\" : \"Emil\",\n",
        "  \"year\" : 2004\n",
        "}\n",
        "child2 = {\n",
        "  \"name\" : \"Tobias\",\n",
        "  \"year\" : 2007\n",
        "}\n",
        "child3 = {\n",
        "  \"name\" : \"Linus\",\n",
        "  \"year\" : 2011\n",
        "}\n",
        "\n",
        "myfamily = {\n",
        "  \"child1\" : child1,\n",
        "  \"child2\" : child2,\n",
        "  \"child3\" : child3\n",
        "}\n",
        "\n",
        "print(myfamily[\"child1\"])\n",
        "\n",
        "print(myfamily[\"child1\"][\"name\"])"
      ],
      "execution_count": null,
      "outputs": []
    },
    {
      "cell_type": "code",
      "metadata": {
        "id": "LdDTJsKZfLHx"
      },
      "source": [
        "#creating dictionaries from lists\n",
        "a=[\"name\",\"age\"]\n",
        "b=[\"allen\",\"20\"]\n",
        "c=dict(zip(a,b))\n",
        "print(c)"
      ],
      "execution_count": null,
      "outputs": []
    },
    {
      "cell_type": "code",
      "metadata": {
        "id": "uxYAXcpufLH0"
      },
      "source": [
        "#--- Sets ---#\n",
        "\n",
        "\n",
        "Metros = set( [\"Delhi\", \"Chennai\", \"Mumbai\", \"Kolkata\"])\n",
        "bigCities = set([\"Delhi\", \"Chennai\", \"Mumbai\", \"Kolkata\", \"Pune\", \"SBC\"])\n",
        "\n",
        "print(Metros.issubset(bigCities))\n",
        "print(Metros.issuperset(bigCities))\n",
        "\n",
        "print( Metros & bigCities)    #Intersection\n",
        "print( Metros | bigCities)    #Union\n"
      ],
      "execution_count": null,
      "outputs": []
    },
    {
      "cell_type": "markdown",
      "metadata": {
        "id": "w5E_XVvffLH5"
      },
      "source": [
        "## Functions \n"
      ]
    },
    {
      "cell_type": "code",
      "metadata": {
        "id": "AmzQew57fLH5"
      },
      "source": [
        "# 1) Without return Type with arguments\n",
        "\n",
        "def add( a, b):\n",
        "    print( a + b )\n",
        "\n",
        "def sub( a, b):\n",
        "    print( a - b)\n",
        "\n",
        "add(4,5)\n",
        "sub(4,9)\n"
      ],
      "execution_count": null,
      "outputs": []
    },
    {
      "cell_type": "code",
      "metadata": {
        "id": "paBvgpGpfLH9"
      },
      "source": [
        "# 2)Functions with return Type\n",
        "def add( a, b):\n",
        "    return a + b\n",
        "\n",
        "C = add( 2, 3)\n",
        "print(C)\n"
      ],
      "execution_count": null,
      "outputs": []
    },
    {
      "cell_type": "markdown",
      "metadata": {
        "id": "LYT5h1jMfLIB"
      },
      "source": [
        "## Default Arguments"
      ]
    },
    {
      "cell_type": "code",
      "metadata": {
        "id": "rDt_cnFBfLID"
      },
      "source": [
        "def simpleInterest( p, n, r = 7.0):\n",
        "    return p * n * r\n",
        "\n",
        "print(simpleInterest( 1000, 3, 5.0)) #Valid\n",
        "print(simpleInterest( 1000, 3)) #Still valid\n",
        "print(simpleInterest( 1000, 5.0)) #Invalid only 2 params. Takes n = 5\n"
      ],
      "execution_count": null,
      "outputs": []
    },
    {
      "cell_type": "markdown",
      "metadata": {
        "id": "rnxitveQfLII"
      },
      "source": [
        "## Python ifelse statements\n",
        "\n",
        "***syntax***\n",
        "\n",
        "```\n",
        "if <condition> :\n",
        "    <execute your commands>\n",
        "elif <condition> :\n",
        "    <execute your commands>\n",
        "else:\n",
        "    <execute your commands>\n",
        "```\n",
        "\n",
        "***Python relies on indentation (whitespace at the beginning of a line) to define scope in the code.***\n",
        "\n"
      ]
    },
    {
      "cell_type": "code",
      "metadata": {
        "id": "QBCtg0vkfLIJ"
      },
      "source": [
        "#example\n",
        "\n",
        "a=10\n",
        "b=20\n",
        "\n",
        "if a>b:\n",
        "    print(\"a greater than b\")\n",
        "elif a==b:\n",
        "    print(\"a is equal to b\")\n",
        "else:\n",
        "    print(\"a is lesser than b\")\n"
      ],
      "execution_count": null,
      "outputs": []
    },
    {
      "cell_type": "markdown",
      "metadata": {
        "id": "kdTjLPYjfLIM"
      },
      "source": [
        "## While loop\n",
        "\n",
        "***syntax***\n",
        "```\n",
        "while <condition>:\n",
        "    <execute commands>\n",
        "```"
      ]
    },
    {
      "cell_type": "code",
      "metadata": {
        "id": "N7yOgNW0fLIN"
      },
      "source": [
        "#example\n",
        "i = 1\n",
        "while i < 6:\n",
        "  print(i)\n",
        "  i += 1"
      ],
      "execution_count": null,
      "outputs": []
    },
    {
      "cell_type": "markdown",
      "metadata": {
        "id": "Yg1tg_IRfLIS"
      },
      "source": [
        "## For loops\n",
        "***syntax***\n",
        "```\n",
        "for i in <condition>:\n",
        "    <execute commands>\n",
        "```"
      ]
    },
    {
      "cell_type": "code",
      "metadata": {
        "id": "HCrHHO1YfLIS",
        "outputId": "0b1faf61-a031-4481-a5ae-f942d63c8905",
        "colab": {
          "base_uri": "https://localhost:8080/",
          "height": 121
        }
      },
      "source": [
        "# Method 1\n",
        "fruits = [\"apple\", \"banana\", \"cherry\"]\n",
        "for x in fruits:\n",
        "  print(x)\n",
        "\n",
        "# Method 2\n",
        "for ind,x in enumerate(fruits):\n",
        "  print (ind,x)\n"
      ],
      "execution_count": 3,
      "outputs": [
        {
          "output_type": "stream",
          "text": [
            "apple\n",
            "banana\n",
            "cherry\n",
            "0 apple\n",
            "1 banana\n",
            "2 cherry\n"
          ],
          "name": "stdout"
        }
      ]
    },
    {
      "cell_type": "markdown",
      "metadata": {
        "id": "Y2tumpqkfYJE"
      },
      "source": [
        "**Exercise** - Create two n dimensional list of evenly spaced numbers distributed accross a certain interval and multiply element wise using a for loop "
      ]
    },
    {
      "cell_type": "code",
      "metadata": {
        "id": "xoR8Ri_Qf0Hf"
      },
      "source": [
        ""
      ],
      "execution_count": null,
      "outputs": []
    },
    {
      "cell_type": "markdown",
      "metadata": {
        "id": "AP8o5NgSfLIV"
      },
      "source": [
        "## Recursion"
      ]
    },
    {
      "cell_type": "code",
      "metadata": {
        "id": "4DC77408fLIW"
      },
      "source": [
        "def factorial( n):\n",
        "    if n == 1:\n",
        "        return 1\n",
        "    else :\n",
        "        return n * factorial(n-1)\n",
        "\n",
        "print(factorial(7))\n"
      ],
      "execution_count": null,
      "outputs": []
    },
    {
      "cell_type": "markdown",
      "metadata": {
        "id": "hY3bGK7vfLIZ"
      },
      "source": [
        "## Global and Local Variables"
      ]
    },
    {
      "cell_type": "code",
      "metadata": {
        "id": "kMh-qHorfLIb"
      },
      "source": [
        "# Global\n",
        "x = 34\n",
        "print(x)\n",
        "def change():\n",
        "    global x\n",
        "    x = 50\n",
        "    print(x)\n",
        "change() #Function call\n",
        "print(x)\n"
      ],
      "execution_count": null,
      "outputs": []
    },
    {
      "cell_type": "code",
      "metadata": {
        "id": "sQ89nYS1fLIe"
      },
      "source": [
        "# Local\n",
        "x = 34\n",
        "print (x)\n",
        "def change():\n",
        "    x = 50\n",
        "    print(x)\n",
        "change() #function call\n",
        "print(x)\n"
      ],
      "execution_count": null,
      "outputs": []
    },
    {
      "cell_type": "markdown",
      "metadata": {
        "id": "_RrYMu8zfLIh"
      },
      "source": [
        "## Functions in python\n",
        "\n",
        "***syntax***\n",
        "\n",
        "```\n",
        "def <function_name>(<function-parameters>):\n",
        "    <execute commands>\n",
        "    \n",
        "return <returning value>\n",
        "```"
      ]
    },
    {
      "cell_type": "code",
      "metadata": {
        "id": "5lEmYPgrfLIi"
      },
      "source": [
        "def print_name(firstname,lastname=\"Stone\"):\n",
        "    print(firstname+lastname)\n",
        "print_name(\"Alan\",\"Walker\")\n",
        "print_name(\"Alan\")"
      ],
      "execution_count": null,
      "outputs": []
    },
    {
      "cell_type": "markdown",
      "metadata": {
        "id": "kZLFiEoUfLIl"
      },
      "source": [
        "## Classes in Python\n",
        "\n",
        "A Class is like an object constructor, or a \"blueprint\" for creating objects.\n",
        "\n",
        "**defining a class**\n",
        "```\n",
        "class <class_name>:\n",
        "    <class-variables>\n",
        "    <init functions if any>\n",
        "    <functions if any>\n",
        "    \n",
        "```\n",
        "\n",
        "**defining an object of a class**\n",
        " ```\n",
        " obj1=<class_name>()\n",
        "```\n",
        "\n",
        "**init function**\n",
        "All classes have a function called __init__(), which is always executed when the class is being initiated.\n",
        "\n"
      ]
    },
    {
      "cell_type": "code",
      "metadata": {
        "id": "zqStHFg3fLIl"
      },
      "source": [
        "class Person:\n",
        "  def __init__(self, name, age):\n",
        "    self.name = name\n",
        "    self.age = age\n",
        "\n",
        "p1 = Person(\"John\", 36)\n",
        "\n",
        "print(p1.name)\n",
        "print(p1.age)"
      ],
      "execution_count": null,
      "outputs": []
    },
    {
      "cell_type": "markdown",
      "metadata": {
        "id": "9TFMsvM8fLIp"
      },
      "source": [
        "## Exceptions\n",
        "\n",
        "Exceptions occur everywhere even here too – \n",
        "* Opening a file which doesn’t exist\n",
        "* Dividing a number by 0\n"
      ]
    },
    {
      "cell_type": "code",
      "metadata": {
        "id": "2yfITaz1fLIp"
      },
      "source": [
        "print(1/0)\n",
        "# We get ZeroDivisionError which is also an ArithmeticError"
      ],
      "execution_count": null,
      "outputs": []
    },
    {
      "cell_type": "code",
      "metadata": {
        "id": "w4gGLvKxfLIt"
      },
      "source": [
        "try:\n",
        "    print(1/0)\n",
        "except ZeroDivisionError:\n",
        "    print(\"Division by 0 is not possible\")\n"
      ],
      "execution_count": null,
      "outputs": []
    },
    {
      "cell_type": "code",
      "metadata": {
        "id": "PACgjPyQfLI_"
      },
      "source": [
        "f = open(‘filename.txt’)"
      ],
      "execution_count": null,
      "outputs": []
    },
    {
      "cell_type": "code",
      "metadata": {
        "id": "KzeF_Uy1fLJB"
      },
      "source": [
        "try:\n",
        "    f = open('filename.txt')\n",
        "except FileNotFoundError:\n",
        "    print(‘File not found!!!’)\n"
      ],
      "execution_count": null,
      "outputs": []
    },
    {
      "cell_type": "markdown",
      "metadata": {
        "id": "z9-S9aApjVEu"
      },
      "source": [
        "**Exercise** - make a simple python code for finding the nth fibonacci number (the sequence goes like 1, 1, 2, 3, 5, 8, 13 and so on) by two methods. Use the code cells below.\n",
        "\n",
        "1.   Using Lists\n",
        "2.   Using a Recursive Function (a function that calls itself)\n",
        "\n"
      ]
    },
    {
      "cell_type": "code",
      "metadata": {
        "id": "ifKKW95ffLJF"
      },
      "source": [
        ""
      ],
      "execution_count": null,
      "outputs": []
    },
    {
      "cell_type": "code",
      "metadata": {
        "id": "b0ruOshafLJI"
      },
      "source": [
        ""
      ],
      "execution_count": null,
      "outputs": []
    }
  ]
}