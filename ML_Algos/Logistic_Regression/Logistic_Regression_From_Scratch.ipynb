{
 "cells": [
  {
   "cell_type": "markdown",
   "metadata": {},
   "source": [
    "## Importing Some Libraries"
   ]
  },
  {
   "cell_type": "code",
   "execution_count": 1,
   "metadata": {},
   "outputs": [],
   "source": [
    "import numpy as np\n",
    "import matplotlib.pyplot as plt\n",
    "import numpy.matlib\n",
    "import matplotlib.pyplot as plt\n",
    "numpy.random.seed(42)"
   ]
  },
  {
   "cell_type": "markdown",
   "metadata": {},
   "source": [
    "## Creating dataset"
   ]
  },
  {
   "cell_type": "code",
   "execution_count": 2,
   "metadata": {},
   "outputs": [],
   "source": [
    "c1 = [2,3]# Cluster center for class 1 data\n",
    "c2 = [10,11]# Cluster center for class 2 data\n",
    "no = 50 # No of samples in a class\n",
    "class1 = np.matlib.repmat(c1,no,1) + np.random.randn(no,len(c1))\n",
    "class2 = np.matlib.repmat(c2, no,1)+ np.random.randn(no,len(c2))\n",
    "D = np.append(class1,class2,axis =0)\n",
    "Data = np.concatenate((D, np.ones((2*no,1))),axis = 1)\n",
    "c1_label = np.ones((no,1))\n",
    "c2_label = -1*np.ones((no,1))\n",
    "label = np.concatenate((c1_label,c2_label),axis = 0)\n",
    "Data = Data.T\n",
    "y = label.T# True label"
   ]
  },
  {
   "cell_type": "markdown",
   "metadata": {},
   "source": [
    "## Plotting data"
   ]
  },
  {
   "cell_type": "code",
   "execution_count": 3,
   "metadata": {},
   "outputs": [
    {
     "data": {
      "image/png": "[encoded data removed]",
      "text/plain": [
       "<Figure size 576x576 with 1 Axes>"
      ]
     },
     "metadata": {
      "needs_background": "light"
     },
     "output_type": "display_data"
    }
   ],
   "source": [
    "plt.figure(figsize = (8,8))\n",
    "plt.plot(class1[:,0],class1[:,1],'ro',class2[:,0],class2[:,1],'bo')\n",
    "plt.show()"
   ]
  },
  {
   "cell_type": "markdown",
   "metadata": {},
   "source": [
    "## Validation data\n"
   ]
  },
  {
   "cell_type": "code",
   "execution_count": 4,
   "metadata": {},
   "outputs": [],
   "source": [
    "v1 = [5,4]# Cluster center for class1 data of validation data set\n",
    "v2 = [7,12]# Cluster center for class 2 data of validation data set\n",
    "v_no = 30# No of samples in a class\n",
    "v_class1 = np.matlib.repmat(v1,v_no,1) + np.random.randn(v_no,len(v1))\n",
    "v_class2 = np.matlib.repmat(v2, v_no,1)+ np.random.randn(v_no,len(v2))\n",
    "v_D = np.append(v_class1,v_class2,axis =0)\n",
    "v_Data = np.concatenate((v_D, np.ones((2*v_no,1))),axis = 1)\n",
    "v_c1_label = np.ones((v_no,1))\n",
    "v_c2_label = -1*np.ones((v_no,1))\n",
    "v_label = np.concatenate((v_c1_label,v_c2_label),axis = 0)\n",
    "v_Data = v_Data.T\n",
    "v_y = v_label.T# Test label"
   ]
  },
  {
   "cell_type": "markdown",
   "metadata": {},
   "source": [
    "## Plotting validation data"
   ]
  },
  {
   "cell_type": "code",
   "execution_count": 5,
   "metadata": {},
   "outputs": [
    {
     "data": {
      "image/png": "[encoded data removed]",
      "text/plain": [
       "<Figure size 432x288 with 1 Axes>"
      ]
     },
     "metadata": {
      "needs_background": "light"
     },
     "output_type": "display_data"
    }
   ],
   "source": [
    "plt.plot(v_class1[:,0],v_class1[:,1],'ro',class2[:,0],class2[:,1],'bo')\n",
    "plt.show()"
   ]
  },
  {
   "cell_type": "markdown",
   "metadata": {},
   "source": [
    "## The activation function: sigmoid"
   ]
  },
  {
   "cell_type": "code",
   "execution_count": 6,
   "metadata": {},
   "outputs": [],
   "source": [
    "def sigmoid(x):\n",
    "    a  = 1/(1+np.exp(-x))\n",
    "    return a\n",
    "\n",
    "def prediction(w, Data):\n",
    "    pred = []\n",
    "    z = np.dot(w,Data)\n",
    "    a = sigmoid(z)\n",
    "    for i in range(0,len(a[0])):\n",
    "        if (a[0][i] > 0.5): \n",
    "            pred.append(1)\n",
    "        elif (a[0][i] <= 0.5):\n",
    "            pred.append(-1)\n",
    "    return pred"
   ]
  },
  {
   "cell_type": "markdown",
   "metadata": {},
   "source": [
    "## Training"
   ]
  },
  {
   "cell_type": "code",
   "execution_count": 30,
   "metadata": {},
   "outputs": [],
   "source": [
    "learning_rate = 0.01\n",
    "w = np.random.randn(1,3)\n",
    "for i in range(1,1500):\n",
    "    \n",
    "    z = np.dot(w,Data)\n",
    "    y_pred = prediction(w, Data)\n",
    "    val = -np.multiply(y,z)\n",
    "    J = np.sum(np.log(1+np.exp(val)))\n",
    "    num = -np.multiply(y,np.exp(val))\n",
    "    den = 1+np.exp(val)\n",
    "    f = num/den\n",
    "    gradJ = np.dot(Data,f.T)\n",
    "    w = w - learning_rate*gradJ.T"
   ]
  },
  {
   "cell_type": "markdown",
   "metadata": {},
   "source": [
    "## Classifier\n"
   ]
  },
  {
   "cell_type": "code",
   "execution_count": 31,
   "metadata": {},
   "outputs": [
    {
     "data": {
      "image/png": "[encoded data removed]",
      "text/plain": [
       "<Figure size 432x288 with 1 Axes>"
      ]
     },
     "metadata": {
      "needs_background": "light"
     },
     "output_type": "display_data"
    }
   ],
   "source": [
    "domain =  np.linspace(0,13,100)\n",
    "h_x = -(w[0,0]/w[0,1])*domain - (w[0,2]/w[0,1])\n",
    "\n",
    "plt.plot(v_class1[:,0],v_class1[:,1],'ro',v_class2[:,0],v_class2[:,1],'bo')\n",
    "plt.plot(domain,h_x)\n",
    "plt.show()"
   ]
  },
  {
   "cell_type": "markdown",
   "metadata": {},
   "source": [
    "The Logistic Regression has successfully learnt to categorize the given dataset"
   ]
  },
  {
   "cell_type": "code",
   "execution_count": null,
   "metadata": {},
   "outputs": [],
   "source": []
  }
 ],
 "metadata": {
  "kernelspec": {
   "display_name": "Python 3",
   "language": "python",
   "name": "python3"
  },
  "language_info": {
   "codemirror_mode": {
    "name": "ipython",
    "version": 3
   },
   "file_extension": ".py",
   "mimetype": "text/x-python",
   "name": "python",
   "nbconvert_exporter": "python",
   "pygments_lexer": "ipython3",
   "version": "3.7.9"
  }
 },
 "nbformat": 4,
 "nbformat_minor": 4
}
